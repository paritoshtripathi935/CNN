{
  "nbformat": 4,
  "nbformat_minor": 0,
  "metadata": {
    "colab": {
      "name": "paritosh_MIASNotebook.ipynb",
      "provenance": [],
      "collapsed_sections": [],
      "include_colab_link": true
    },
    "language_info": {
      "codemirror_mode": {
        "name": "ipython",
        "version": 3
      },
      "file_extension": ".py",
      "mimetype": "text/x-python",
      "name": "python",
      "nbconvert_exporter": "python",
      "pygments_lexer": "ipython3",
      "version": "3.6.7"
    },
    "kernelspec": {
      "display_name": "Python 3",
      "language": "python",
      "name": "python3"
    },
    "accelerator": "GPU"
  },
  "cells": [
    {
      "cell_type": "markdown",
      "metadata": {
        "id": "view-in-github",
        "colab_type": "text"
      },
      "source": [
        "<a href=\"https://colab.research.google.com/github/paritoshtripathi935/CNN/blob/main/paritosh_MIASNotebook.ipynb\" target=\"_parent\"><img src=\"https://colab.research.google.com/assets/colab-badge.svg\" alt=\"Open In Colab\"/></a>"
      ]
    },
    {
      "cell_type": "markdown",
      "metadata": {
        "id": "Y3PSyhESk3yr"
      },
      "source": [
        "To speed the execution procces, Colaboraty has an option to use GPU. This option is selected by default."
      ]
    },
    {
      "cell_type": "markdown",
      "metadata": {
        "id": "CTUuks4nfTCo"
      },
      "source": [
        "MIAS dataset"
      ]
    },
    {
      "cell_type": "code",
      "metadata": {
        "id": "H24zEvoYfTCs",
        "colab": {
          "base_uri": "https://localhost:8080/"
        },
        "outputId": "ae865d43-df3f-4064-89c5-0e877c1a52b2"
      },
      "source": [
        "!wget \"https://drive.google.com/uc?id=1ZApIHn-EvoQ6sdgJWhgfM3rmEEXWvXRJ&export=download&authuser=0\" -O mias.zip\n",
        "!unzip mias.zip"
      ],
      "execution_count": null,
      "outputs": [
        {
          "output_type": "stream",
          "text": [
            "--2021-08-12 13:30:53--  https://drive.google.com/uc?id=1ZApIHn-EvoQ6sdgJWhgfM3rmEEXWvXRJ&export=download&authuser=0\n",
            "Resolving drive.google.com (drive.google.com)... 74.125.26.138, 74.125.26.100, 74.125.26.113, ...\n",
            "Connecting to drive.google.com (drive.google.com)|74.125.26.138|:443... connected.\n",
            "HTTP request sent, awaiting response... 302 Moved Temporarily\n",
            "Location: https://drive.google.com/uc?id=1ZApIHn-EvoQ6sdgJWhgfM3rmEEXWvXRJ&export=download [following]\n",
            "--2021-08-12 13:30:53--  https://drive.google.com/uc?id=1ZApIHn-EvoQ6sdgJWhgfM3rmEEXWvXRJ&export=download\n",
            "Reusing existing connection to drive.google.com:443.\n",
            "HTTP request sent, awaiting response... 302 Moved Temporarily\n",
            "Location: https://doc-0g-3s-docs.googleusercontent.com/docs/securesc/ha0ro937gcuc7l7deffksulhg5h7mbp1/u7q4v99kfgi24tr14k5jh91gohc8tfv4/1628775000000/05147614325801676241/*/1ZApIHn-EvoQ6sdgJWhgfM3rmEEXWvXRJ?e=download [following]\n",
            "Warning: wildcards not supported in HTTP.\n",
            "--2021-08-12 13:30:56--  https://doc-0g-3s-docs.googleusercontent.com/docs/securesc/ha0ro937gcuc7l7deffksulhg5h7mbp1/u7q4v99kfgi24tr14k5jh91gohc8tfv4/1628775000000/05147614325801676241/*/1ZApIHn-EvoQ6sdgJWhgfM3rmEEXWvXRJ?e=download\n",
            "Resolving doc-0g-3s-docs.googleusercontent.com (doc-0g-3s-docs.googleusercontent.com)... 173.194.216.132, 2607:f8b0:400c:c12::84\n",
            "Connecting to doc-0g-3s-docs.googleusercontent.com (doc-0g-3s-docs.googleusercontent.com)|173.194.216.132|:443... connected.\n",
            "HTTP request sent, awaiting response... 200 OK\n",
            "Length: unspecified [application/zip]\n",
            "Saving to: ‘mias.zip’\n",
            "\n",
            "mias.zip                [ <=>                ]   2.82M  --.-KB/s    in 0.02s   \n",
            "\n",
            "2021-08-12 13:30:56 (119 MB/s) - ‘mias.zip’ saved [2955320]\n",
            "\n",
            "Archive:  mias.zip\n",
            "   creating: Mias/\n",
            "   creating: Mias/ABNORMAL/\n",
            "  inflating: Mias/ABNORMAL/mdb001.jpg  \n",
            "  inflating: Mias/ABNORMAL/mdb005.jpg  \n",
            "  inflating: Mias/ABNORMAL/mdb010.jpg  \n",
            "  inflating: Mias/ABNORMAL/mdb012.jpg  \n",
            "  inflating: Mias/ABNORMAL/mdb013.jpg  \n",
            "  inflating: Mias/ABNORMAL/mdb015.jpg  \n",
            "  inflating: Mias/ABNORMAL/mdb017.jpg  \n",
            "  inflating: Mias/ABNORMAL/mdb019.jpg  \n",
            "  inflating: Mias/ABNORMAL/mdb021.jpg  \n",
            "  inflating: Mias/ABNORMAL/mdb023.jpg  \n",
            "  inflating: Mias/ABNORMAL/mdb028.jpg  \n",
            "  inflating: Mias/ABNORMAL/mdb030.jpg  \n",
            "  inflating: Mias/ABNORMAL/mdb032.jpg  \n",
            "  inflating: Mias/ABNORMAL/mdb058.jpg  \n",
            "  inflating: Mias/ABNORMAL/mdb063.jpg  \n",
            "  inflating: Mias/ABNORMAL/mdb069.jpg  \n",
            "  inflating: Mias/ABNORMAL/mdb072.jpg  \n",
            "  inflating: Mias/ABNORMAL/mdb075.jpg  \n",
            "  inflating: Mias/ABNORMAL/mdb080.jpg  \n",
            "  inflating: Mias/ABNORMAL/mdb081.jpg  \n",
            "  inflating: Mias/ABNORMAL/mdb083.jpg  \n",
            "  inflating: Mias/ABNORMAL/mdb090.jpg  \n",
            "  inflating: Mias/ABNORMAL/mdb091.jpg  \n",
            "  inflating: Mias/ABNORMAL/mdb092.jpg  \n",
            "  inflating: Mias/ABNORMAL/mdb095.jpg  \n",
            "  inflating: Mias/ABNORMAL/mdb097.jpg  \n",
            "  inflating: Mias/ABNORMAL/mdb102.jpg  \n",
            "  inflating: Mias/ABNORMAL/mdb104.jpg  \n",
            "  inflating: Mias/ABNORMAL/mdb105.jpg  \n",
            "  inflating: Mias/ABNORMAL/mdb107.jpg  \n",
            "  inflating: Mias/ABNORMAL/mdb110.jpg  \n",
            "  inflating: Mias/ABNORMAL/mdb115.jpg  \n",
            "  inflating: Mias/ABNORMAL/mdb117.jpg  \n",
            "  inflating: Mias/ABNORMAL/mdb120.jpg  \n",
            "  inflating: Mias/ABNORMAL/mdb121.jpg  \n",
            "  inflating: Mias/ABNORMAL/mdb124.jpg  \n",
            "  inflating: Mias/ABNORMAL/mdb125.jpg  \n",
            "  inflating: Mias/ABNORMAL/mdb126.jpg  \n",
            "  inflating: Mias/ABNORMAL/mdb127.jpg  \n",
            "  inflating: Mias/ABNORMAL/mdb130.jpg  \n",
            "  inflating: Mias/ABNORMAL/mdb132.jpg  \n",
            "  inflating: Mias/ABNORMAL/mdb134.jpg  \n",
            "  inflating: Mias/ABNORMAL/mdb141.jpg  \n",
            "  inflating: Mias/ABNORMAL/mdb142.jpg  \n",
            "  inflating: Mias/ABNORMAL/mdb144.jpg  \n",
            "  inflating: Mias/ABNORMAL/mdb145.jpg  \n",
            "  inflating: Mias/ABNORMAL/mdb150.jpg  \n",
            "  inflating: Mias/ABNORMAL/mdb152.jpg  \n",
            "  inflating: Mias/ABNORMAL/mdb155.jpg  \n",
            "  inflating: Mias/ABNORMAL/mdb158.jpg  \n",
            "  inflating: Mias/ABNORMAL/mdb160.jpg  \n",
            "  inflating: Mias/ABNORMAL/mdb163.jpg  \n",
            "  inflating: Mias/ABNORMAL/mdb165.jpg  \n",
            "  inflating: Mias/ABNORMAL/mdb167.jpg  \n",
            "  inflating: Mias/ABNORMAL/mdb170.jpg  \n",
            "  inflating: Mias/ABNORMAL/mdb175.jpg  \n",
            "  inflating: Mias/ABNORMAL/mdb178.jpg  \n",
            "  inflating: Mias/ABNORMAL/mdb179.jpg  \n",
            "  inflating: Mias/ABNORMAL/mdb181.jpg  \n",
            "  inflating: Mias/ABNORMAL/mdb184.jpg  \n",
            "  inflating: Mias/ABNORMAL/mdb186.jpg  \n",
            "  inflating: Mias/ABNORMAL/mdb188.jpg  \n",
            "  inflating: Mias/ABNORMAL/mdb190.jpg  \n",
            "  inflating: Mias/ABNORMAL/mdb191.jpg  \n",
            "  inflating: Mias/ABNORMAL/mdb193.jpg  \n",
            "  inflating: Mias/ABNORMAL/mdb195.jpg  \n",
            "  inflating: Mias/ABNORMAL/mdb199.jpg  \n",
            "  inflating: Mias/ABNORMAL/mdb202.jpg  \n",
            "  inflating: Mias/ABNORMAL/mdb204.jpg  \n",
            "  inflating: Mias/ABNORMAL/mdb206.jpg  \n",
            "  inflating: Mias/ABNORMAL/mdb207.jpg  \n",
            "  inflating: Mias/ABNORMAL/mdb209.jpg  \n",
            "  inflating: Mias/ABNORMAL/mdb211.jpg  \n",
            "  inflating: Mias/ABNORMAL/mdb213.jpg  \n",
            "  inflating: Mias/ABNORMAL/mdb218.jpg  \n",
            "  inflating: Mias/ABNORMAL/mdb219.jpg  \n",
            "  inflating: Mias/ABNORMAL/mdb222.jpg  \n",
            "  inflating: Mias/ABNORMAL/mdb223.jpg  \n",
            "  inflating: Mias/ABNORMAL/mdb226.jpg  \n",
            "  inflating: Mias/ABNORMAL/mdb227.jpg  \n",
            "  inflating: Mias/ABNORMAL/mdb231.jpg  \n",
            "  inflating: Mias/ABNORMAL/mdb236.jpg  \n",
            "  inflating: Mias/ABNORMAL/mdb239.jpg  \n",
            "  inflating: Mias/ABNORMAL/mdb240.jpg  \n",
            "  inflating: Mias/ABNORMAL/mdb244.jpg  \n",
            "  inflating: Mias/ABNORMAL/mdb248.jpg  \n",
            "  inflating: Mias/ABNORMAL/mdb249.jpg  \n",
            "  inflating: Mias/ABNORMAL/mdb252.jpg  \n",
            "  inflating: Mias/ABNORMAL/mdb253.jpg  \n",
            "  inflating: Mias/ABNORMAL/mdb256.jpg  \n",
            "  inflating: Mias/ABNORMAL/mdb264.jpg  \n",
            "  inflating: Mias/ABNORMAL/mdb265.jpg  \n",
            "  inflating: Mias/ABNORMAL/mdb267.jpg  \n",
            "  inflating: Mias/ABNORMAL/mdb270.jpg  \n",
            "  inflating: Mias/ABNORMAL/mdb271.jpg  \n",
            "  inflating: Mias/ABNORMAL/mdb290.jpg  \n",
            "  inflating: Mias/ABNORMAL/mdb312.jpg  \n",
            "  inflating: Mias/ABNORMAL/mdb314.jpg  \n",
            "   creating: Mias/NORMAL/\n",
            "  inflating: Mias/NORMAL/mdb003.jpg  \n",
            "  inflating: Mias/NORMAL/mdb004.jpg  \n",
            "  inflating: Mias/NORMAL/mdb006.jpg  \n",
            "  inflating: Mias/NORMAL/mdb007.jpg  \n",
            "  inflating: Mias/NORMAL/mdb008.jpg  \n",
            "  inflating: Mias/NORMAL/mdb009.jpg  \n",
            "  inflating: Mias/NORMAL/mdb011.jpg  \n",
            "  inflating: Mias/NORMAL/mdb014.jpg  \n",
            "  inflating: Mias/NORMAL/mdb016.jpg  \n",
            "  inflating: Mias/NORMAL/mdb018.jpg  \n",
            "  inflating: Mias/NORMAL/mdb022.jpg  \n",
            "  inflating: Mias/NORMAL/mdb024.jpg  \n",
            "  inflating: Mias/NORMAL/mdb026.jpg  \n",
            "  inflating: Mias/NORMAL/mdb027.jpg  \n",
            "  inflating: Mias/NORMAL/mdb029.jpg  \n",
            "  inflating: Mias/NORMAL/mdb031.jpg  \n",
            "  inflating: Mias/NORMAL/mdb033.jpg  \n",
            "  inflating: Mias/NORMAL/mdb034.jpg  \n",
            "  inflating: Mias/NORMAL/mdb035.jpg  \n",
            "  inflating: Mias/NORMAL/mdb036.jpg  \n",
            "  inflating: Mias/NORMAL/mdb037.jpg  \n",
            "  inflating: Mias/NORMAL/mdb038.jpg  \n",
            "  inflating: Mias/NORMAL/mdb039.jpg  \n",
            "  inflating: Mias/NORMAL/mdb040.jpg  \n",
            "  inflating: Mias/NORMAL/mdb041.jpg  \n",
            "  inflating: Mias/NORMAL/mdb042.jpg  \n",
            "  inflating: Mias/NORMAL/mdb043.jpg  \n",
            "  inflating: Mias/NORMAL/mdb044.jpg  \n",
            "  inflating: Mias/NORMAL/mdb045.jpg  \n",
            "  inflating: Mias/NORMAL/mdb046.jpg  \n",
            "  inflating: Mias/NORMAL/mdb047.jpg  \n",
            "  inflating: Mias/NORMAL/mdb048.jpg  \n",
            "  inflating: Mias/NORMAL/mdb049.jpg  \n",
            "  inflating: Mias/NORMAL/mdb050.jpg  \n",
            "  inflating: Mias/NORMAL/mdb051.jpg  \n",
            "  inflating: Mias/NORMAL/mdb052.jpg  \n",
            "  inflating: Mias/NORMAL/mdb053.jpg  \n",
            "  inflating: Mias/NORMAL/mdb054.jpg  \n",
            "  inflating: Mias/NORMAL/mdb055.jpg  \n",
            "  inflating: Mias/NORMAL/mdb056.jpg  \n",
            "  inflating: Mias/NORMAL/mdb060.jpg  \n",
            "  inflating: Mias/NORMAL/mdb061.jpg  \n",
            "  inflating: Mias/NORMAL/mdb062.jpg  \n",
            "  inflating: Mias/NORMAL/mdb064.jpg  \n",
            "  inflating: Mias/NORMAL/mdb065.jpg  \n",
            "  inflating: Mias/NORMAL/mdb066.jpg  \n",
            "  inflating: Mias/NORMAL/mdb067.jpg  \n",
            "  inflating: Mias/NORMAL/mdb068.jpg  \n",
            "  inflating: Mias/NORMAL/mdb071.jpg  \n",
            "  inflating: Mias/NORMAL/mdb073.jpg  \n",
            "  inflating: Mias/NORMAL/mdb074.jpg  \n",
            "  inflating: Mias/NORMAL/mdb076.jpg  \n",
            "  inflating: Mias/NORMAL/mdb077.jpg  \n",
            "  inflating: Mias/NORMAL/mdb078.jpg  \n",
            "  inflating: Mias/NORMAL/mdb079.jpg  \n",
            "  inflating: Mias/NORMAL/mdb082.jpg  \n",
            "  inflating: Mias/NORMAL/mdb084.jpg  \n",
            "  inflating: Mias/NORMAL/mdb085.jpg  \n",
            "  inflating: Mias/NORMAL/mdb086.jpg  \n",
            "  inflating: Mias/NORMAL/mdb087.jpg  \n",
            "  inflating: Mias/NORMAL/mdb088.jpg  \n",
            "  inflating: Mias/NORMAL/mdb089.jpg  \n",
            "  inflating: Mias/NORMAL/mdb093.jpg  \n",
            "  inflating: Mias/NORMAL/mdb094.jpg  \n",
            "  inflating: Mias/NORMAL/mdb096.jpg  \n",
            "  inflating: Mias/NORMAL/mdb098.jpg  \n",
            "  inflating: Mias/NORMAL/mdb100.jpg  \n",
            "  inflating: Mias/NORMAL/mdb101.jpg  \n",
            "  inflating: Mias/NORMAL/mdb103.jpg  \n",
            "  inflating: Mias/NORMAL/mdb106.jpg  \n",
            "  inflating: Mias/NORMAL/mdb108.jpg  \n",
            "  inflating: Mias/NORMAL/mdb109.jpg  \n",
            "  inflating: Mias/NORMAL/mdb112.jpg  \n",
            "  inflating: Mias/NORMAL/mdb113.jpg  \n",
            "  inflating: Mias/NORMAL/mdb114.jpg  \n",
            "  inflating: Mias/NORMAL/mdb116.jpg  \n",
            "  inflating: Mias/NORMAL/mdb118.jpg  \n",
            "  inflating: Mias/NORMAL/mdb119.jpg  \n",
            "  inflating: Mias/NORMAL/mdb123.jpg  \n",
            "  inflating: Mias/NORMAL/mdb128.jpg  \n",
            "  inflating: Mias/NORMAL/mdb129.jpg  \n",
            "  inflating: Mias/NORMAL/mdb131.jpg  \n",
            "  inflating: Mias/NORMAL/mdb133.jpg  \n",
            "  inflating: Mias/NORMAL/mdb135.jpg  \n",
            "  inflating: Mias/NORMAL/mdb136.jpg  \n",
            "  inflating: Mias/NORMAL/mdb137.jpg  \n",
            "  inflating: Mias/NORMAL/mdb138.jpg  \n",
            "  inflating: Mias/NORMAL/mdb139.jpg  \n",
            "  inflating: Mias/NORMAL/mdb140.jpg  \n",
            "  inflating: Mias/NORMAL/mdb143.jpg  \n",
            "  inflating: Mias/NORMAL/mdb146.jpg  \n",
            "  inflating: Mias/NORMAL/mdb147.jpg  \n",
            "  inflating: Mias/NORMAL/mdb149.jpg  \n",
            "  inflating: Mias/NORMAL/mdb151.jpg  \n",
            "  inflating: Mias/NORMAL/mdb153.jpg  \n",
            "  inflating: Mias/NORMAL/mdb154.jpg  \n",
            "  inflating: Mias/NORMAL/mdb156.jpg  \n",
            "  inflating: Mias/NORMAL/mdb157.jpg  \n",
            "  inflating: Mias/NORMAL/mdb159.jpg  \n",
            "  inflating: Mias/NORMAL/mdb161.jpg  \n",
            "  inflating: Mias/NORMAL/mdb162.jpg  \n",
            "  inflating: Mias/NORMAL/mdb164.jpg  \n",
            "  inflating: Mias/NORMAL/mdb166.jpg  \n",
            "  inflating: Mias/NORMAL/mdb168.jpg  \n",
            "  inflating: Mias/NORMAL/mdb172.jpg  \n",
            "  inflating: Mias/NORMAL/mdb173.jpg  \n",
            "  inflating: Mias/NORMAL/mdb174.jpg  \n",
            "  inflating: Mias/NORMAL/mdb176.jpg  \n",
            "  inflating: Mias/NORMAL/mdb177.jpg  \n",
            "  inflating: Mias/NORMAL/mdb180.jpg  \n",
            "  inflating: Mias/NORMAL/mdb182.jpg  \n",
            "  inflating: Mias/NORMAL/mdb183.jpg  \n",
            "  inflating: Mias/NORMAL/mdb185.jpg  \n",
            "  inflating: Mias/NORMAL/mdb189.jpg  \n",
            "  inflating: Mias/NORMAL/mdb192.jpg  \n",
            "  inflating: Mias/NORMAL/mdb194.jpg  \n",
            "  inflating: Mias/NORMAL/mdb196.jpg  \n",
            "  inflating: Mias/NORMAL/mdb197.jpg  \n",
            "  inflating: Mias/NORMAL/mdb200.jpg  \n",
            "  inflating: Mias/NORMAL/mdb201.jpg  \n",
            "  inflating: Mias/NORMAL/mdb203.jpg  \n",
            "  inflating: Mias/NORMAL/mdb205.jpg  \n",
            "  inflating: Mias/NORMAL/mdb210.jpg  \n",
            "  inflating: Mias/NORMAL/mdb212.jpg  \n",
            "  inflating: Mias/NORMAL/mdb214.jpg  \n",
            "  inflating: Mias/NORMAL/mdb215.jpg  \n",
            "  inflating: Mias/NORMAL/mdb217.jpg  \n",
            "  inflating: Mias/NORMAL/mdb220.jpg  \n",
            "  inflating: Mias/NORMAL/mdb221.jpg  \n",
            "  inflating: Mias/NORMAL/mdb224.jpg  \n",
            "  inflating: Mias/NORMAL/mdb225.jpg  \n",
            "  inflating: Mias/NORMAL/mdb228.jpg  \n",
            "  inflating: Mias/NORMAL/mdb229.jpg  \n",
            "  inflating: Mias/NORMAL/mdb230.jpg  \n",
            "  inflating: Mias/NORMAL/mdb232.jpg  \n",
            "  inflating: Mias/NORMAL/mdb234.jpg  \n",
            "  inflating: Mias/NORMAL/mdb235.jpg  \n",
            "  inflating: Mias/NORMAL/mdb237.jpg  \n",
            "  inflating: Mias/NORMAL/mdb242.jpg  \n",
            "  inflating: Mias/NORMAL/mdb243.jpg  \n",
            "  inflating: Mias/NORMAL/mdb246.jpg  \n",
            "  inflating: Mias/NORMAL/mdb247.jpg  \n",
            "  inflating: Mias/NORMAL/mdb250.jpg  \n",
            "  inflating: Mias/NORMAL/mdb251.jpg  \n",
            "  inflating: Mias/NORMAL/mdb254.jpg  \n",
            "  inflating: Mias/NORMAL/mdb255.jpg  \n",
            "  inflating: Mias/NORMAL/mdb258.jpg  \n",
            "  inflating: Mias/NORMAL/mdb259.jpg  \n",
            "  inflating: Mias/NORMAL/mdb260.jpg  \n",
            "  inflating: Mias/NORMAL/mdb261.jpg  \n",
            "  inflating: Mias/NORMAL/mdb262.jpg  \n",
            "  inflating: Mias/NORMAL/mdb263.jpg  \n",
            "  inflating: Mias/NORMAL/mdb266.jpg  \n",
            "  inflating: Mias/NORMAL/mdb268.jpg  \n",
            "  inflating: Mias/NORMAL/mdb269.jpg  \n",
            "  inflating: Mias/NORMAL/mdb272.jpg  \n",
            "  inflating: Mias/NORMAL/mdb273.jpg  \n",
            "  inflating: Mias/NORMAL/mdb275.jpg  \n",
            "  inflating: Mias/NORMAL/mdb277.jpg  \n",
            "  inflating: Mias/NORMAL/mdb278.jpg  \n",
            "  inflating: Mias/NORMAL/mdb279.jpg  \n",
            "  inflating: Mias/NORMAL/mdb280.jpg  \n",
            "  inflating: Mias/NORMAL/mdb281.jpg  \n",
            "  inflating: Mias/NORMAL/mdb282.jpg  \n",
            "  inflating: Mias/NORMAL/mdb283.jpg  \n",
            "  inflating: Mias/NORMAL/mdb284.jpg  \n",
            "  inflating: Mias/NORMAL/mdb285.jpg  \n",
            "  inflating: Mias/NORMAL/mdb286.jpg  \n",
            "  inflating: Mias/NORMAL/mdb287.jpg  \n",
            "  inflating: Mias/NORMAL/mdb288.jpg  \n",
            "  inflating: Mias/NORMAL/mdb289.jpg  \n",
            "  inflating: Mias/NORMAL/mdb291.jpg  \n",
            "  inflating: Mias/NORMAL/mdb292.jpg  \n",
            "  inflating: Mias/NORMAL/mdb293.jpg  \n",
            "  inflating: Mias/NORMAL/mdb295.jpg  \n",
            "  inflating: Mias/NORMAL/mdb296.jpg  \n",
            "  inflating: Mias/NORMAL/mdb297.jpg  \n",
            "  inflating: Mias/NORMAL/mdb298.jpg  \n",
            "  inflating: Mias/NORMAL/mdb299.jpg  \n",
            "  inflating: Mias/NORMAL/mdb300.jpg  \n",
            "  inflating: Mias/NORMAL/mdb301.jpg  \n",
            "  inflating: Mias/NORMAL/mdb302.jpg  \n",
            "  inflating: Mias/NORMAL/mdb303.jpg  \n",
            "  inflating: Mias/NORMAL/mdb304.jpg  \n",
            "  inflating: Mias/NORMAL/mdb305.jpg  \n",
            "  inflating: Mias/NORMAL/mdb306.jpg  \n",
            "  inflating: Mias/NORMAL/mdb307.jpg  \n",
            "  inflating: Mias/NORMAL/mdb308.jpg  \n",
            "  inflating: Mias/NORMAL/mdb309.jpg  \n",
            "  inflating: Mias/NORMAL/mdb310.jpg  \n",
            "  inflating: Mias/NORMAL/mdb311.jpg  \n",
            "  inflating: Mias/NORMAL/mdb313.jpg  \n",
            "  inflating: Mias/NORMAL/mdb316.jpg  \n",
            "  inflating: Mias/NORMAL/mdb317.jpg  \n",
            "  inflating: Mias/NORMAL/mdb318.jpg  \n",
            "  inflating: Mias/NORMAL/mdb319.jpg  \n",
            "  inflating: Mias/NORMAL/mdb320.jpg  \n",
            "  inflating: Mias/NORMAL/mdb321.jpg  \n"
          ],
          "name": "stdout"
        }
      ]
    },
    {
      "cell_type": "markdown",
      "metadata": {
        "id": "GgJBv7qifTC0"
      },
      "source": [
        "In case that FrImCla is not installed in your system, the first task consist in installing using pip."
      ]
    },
    {
      "cell_type": "code",
      "metadata": {
        "id": "R2UHXAYlfTC1",
        "colab": {
          "base_uri": "https://localhost:8080/"
        },
        "outputId": "ee0e26f0-b17c-4228-8727-1fc56f94737f"
      },
      "source": [
        "!pip3 install frimcla"
      ],
      "execution_count": null,
      "outputs": [
        {
          "output_type": "stream",
          "text": [
            "Collecting frimcla\n",
            "  Downloading frimcla-1.0.6.tar.gz (422 kB)\n",
            "\u001b[K     |████████████████████████████████| 422 kB 5.0 MB/s \n",
            "\u001b[?25hRequirement already satisfied: opencv-python in /usr/local/lib/python3.7/dist-packages (from frimcla) (4.1.2.30)\n",
            "Collecting mahotas\n",
            "  Downloading mahotas-1.4.11-cp37-cp37m-manylinux2010_x86_64.whl (5.7 MB)\n",
            "\u001b[K     |████████████████████████████████| 5.7 MB 20.0 MB/s \n",
            "\u001b[?25hRequirement already satisfied: pandas in /usr/local/lib/python3.7/dist-packages (from frimcla) (1.1.5)\n",
            "Requirement already satisfied: imutils in /usr/local/lib/python3.7/dist-packages (from frimcla) (0.5.4)\n",
            "Requirement already satisfied: scikit-image in /usr/local/lib/python3.7/dist-packages (from frimcla) (0.16.2)\n",
            "Requirement already satisfied: tabulate in /usr/local/lib/python3.7/dist-packages (from frimcla) (0.8.9)\n",
            "Collecting tensorflow==1.15.0\n",
            "  Downloading tensorflow-1.15.0-cp37-cp37m-manylinux2010_x86_64.whl (412.3 MB)\n",
            "\u001b[K     |████████████████████████████████| 412.3 MB 18 kB/s \n",
            "\u001b[?25hRequirement already satisfied: matplotlib in /usr/local/lib/python3.7/dist-packages (from frimcla) (3.2.2)\n",
            "Collecting Keras==2.1.6\n",
            "  Downloading Keras-2.1.6-py2.py3-none-any.whl (339 kB)\n",
            "\u001b[K     |████████████████████████████████| 339 kB 56.8 MB/s \n",
            "\u001b[?25hCollecting commentjson\n",
            "  Downloading commentjson-0.9.0.tar.gz (8.7 kB)\n",
            "Collecting theano\n",
            "  Downloading Theano-1.0.5.tar.gz (2.8 MB)\n",
            "\u001b[K     |████████████████████████████████| 2.8 MB 47.1 MB/s \n",
            "\u001b[?25hRequirement already satisfied: h5py in /usr/local/lib/python3.7/dist-packages (from frimcla) (3.1.0)\n",
            "Collecting wget\n",
            "  Downloading wget-3.2.zip (10 kB)\n",
            "Requirement already satisfied: numpy in /usr/local/lib/python3.7/dist-packages (from frimcla) (1.19.5)\n",
            "Requirement already satisfied: scikit-learn in /usr/local/lib/python3.7/dist-packages (from frimcla) (0.22.2.post1)\n",
            "Collecting scikit-multilearn\n",
            "  Downloading scikit_multilearn-0.2.0-py3-none-any.whl (89 kB)\n",
            "\u001b[K     |████████████████████████████████| 89 kB 7.2 MB/s \n",
            "\u001b[?25hCollecting arff\n",
            "  Downloading arff-0.9.tar.gz (4.7 kB)\n",
            "Requirement already satisfied: six>=1.9.0 in /usr/local/lib/python3.7/dist-packages (from Keras==2.1.6->frimcla) (1.15.0)\n",
            "Requirement already satisfied: pyyaml in /usr/local/lib/python3.7/dist-packages (from Keras==2.1.6->frimcla) (3.13)\n",
            "Requirement already satisfied: scipy>=0.14 in /usr/local/lib/python3.7/dist-packages (from Keras==2.1.6->frimcla) (1.4.1)\n",
            "Collecting keras-applications>=1.0.8\n",
            "  Downloading Keras_Applications-1.0.8-py3-none-any.whl (50 kB)\n",
            "\u001b[K     |████████████████████████████████| 50 kB 5.7 MB/s \n",
            "\u001b[?25hCollecting tensorflow-estimator==1.15.1\n",
            "  Downloading tensorflow_estimator-1.15.1-py2.py3-none-any.whl (503 kB)\n",
            "\u001b[K     |████████████████████████████████| 503 kB 64.4 MB/s \n",
            "\u001b[?25hCollecting gast==0.2.2\n",
            "  Downloading gast-0.2.2.tar.gz (10 kB)\n",
            "Requirement already satisfied: protobuf>=3.6.1 in /usr/local/lib/python3.7/dist-packages (from tensorflow==1.15.0->frimcla) (3.17.3)\n",
            "Requirement already satisfied: opt-einsum>=2.3.2 in /usr/local/lib/python3.7/dist-packages (from tensorflow==1.15.0->frimcla) (3.3.0)\n",
            "Requirement already satisfied: wrapt>=1.11.1 in /usr/local/lib/python3.7/dist-packages (from tensorflow==1.15.0->frimcla) (1.12.1)\n",
            "Requirement already satisfied: google-pasta>=0.1.6 in /usr/local/lib/python3.7/dist-packages (from tensorflow==1.15.0->frimcla) (0.2.0)\n",
            "Requirement already satisfied: absl-py>=0.7.0 in /usr/local/lib/python3.7/dist-packages (from tensorflow==1.15.0->frimcla) (0.12.0)\n",
            "Requirement already satisfied: termcolor>=1.1.0 in /usr/local/lib/python3.7/dist-packages (from tensorflow==1.15.0->frimcla) (1.1.0)\n",
            "Requirement already satisfied: grpcio>=1.8.6 in /usr/local/lib/python3.7/dist-packages (from tensorflow==1.15.0->frimcla) (1.34.1)\n",
            "Requirement already satisfied: astor>=0.6.0 in /usr/local/lib/python3.7/dist-packages (from tensorflow==1.15.0->frimcla) (0.8.1)\n",
            "Collecting tensorboard<1.16.0,>=1.15.0\n",
            "  Downloading tensorboard-1.15.0-py3-none-any.whl (3.8 MB)\n",
            "\u001b[K     |████████████████████████████████| 3.8 MB 38.3 MB/s \n",
            "\u001b[?25hRequirement already satisfied: keras-preprocessing>=1.0.5 in /usr/local/lib/python3.7/dist-packages (from tensorflow==1.15.0->frimcla) (1.1.2)\n",
            "Requirement already satisfied: wheel>=0.26 in /usr/local/lib/python3.7/dist-packages (from tensorflow==1.15.0->frimcla) (0.36.2)\n",
            "Requirement already satisfied: werkzeug>=0.11.15 in /usr/local/lib/python3.7/dist-packages (from tensorboard<1.16.0,>=1.15.0->tensorflow==1.15.0->frimcla) (1.0.1)\n",
            "Requirement already satisfied: setuptools>=41.0.0 in /usr/local/lib/python3.7/dist-packages (from tensorboard<1.16.0,>=1.15.0->tensorflow==1.15.0->frimcla) (57.2.0)\n",
            "Requirement already satisfied: markdown>=2.6.8 in /usr/local/lib/python3.7/dist-packages (from tensorboard<1.16.0,>=1.15.0->tensorflow==1.15.0->frimcla) (3.3.4)\n",
            "Requirement already satisfied: importlib-metadata in /usr/local/lib/python3.7/dist-packages (from markdown>=2.6.8->tensorboard<1.16.0,>=1.15.0->tensorflow==1.15.0->frimcla) (4.6.1)\n",
            "Collecting lark-parser<0.8.0,>=0.7.1\n",
            "  Downloading lark-parser-0.7.8.tar.gz (276 kB)\n",
            "\u001b[K     |████████████████████████████████| 276 kB 51.0 MB/s \n",
            "\u001b[?25hRequirement already satisfied: cached-property in /usr/local/lib/python3.7/dist-packages (from h5py->frimcla) (1.5.2)\n",
            "Requirement already satisfied: zipp>=0.5 in /usr/local/lib/python3.7/dist-packages (from importlib-metadata->markdown>=2.6.8->tensorboard<1.16.0,>=1.15.0->tensorflow==1.15.0->frimcla) (3.5.0)\n",
            "Requirement already satisfied: typing-extensions>=3.6.4 in /usr/local/lib/python3.7/dist-packages (from importlib-metadata->markdown>=2.6.8->tensorboard<1.16.0,>=1.15.0->tensorflow==1.15.0->frimcla) (3.7.4.3)\n",
            "Requirement already satisfied: python-dateutil>=2.1 in /usr/local/lib/python3.7/dist-packages (from matplotlib->frimcla) (2.8.1)\n",
            "Requirement already satisfied: pyparsing!=2.0.4,!=2.1.2,!=2.1.6,>=2.0.1 in /usr/local/lib/python3.7/dist-packages (from matplotlib->frimcla) (2.4.7)\n",
            "Requirement already satisfied: cycler>=0.10 in /usr/local/lib/python3.7/dist-packages (from matplotlib->frimcla) (0.10.0)\n",
            "Requirement already satisfied: kiwisolver>=1.0.1 in /usr/local/lib/python3.7/dist-packages (from matplotlib->frimcla) (1.3.1)\n",
            "Requirement already satisfied: pytz>=2017.2 in /usr/local/lib/python3.7/dist-packages (from pandas->frimcla) (2018.9)\n",
            "Requirement already satisfied: PyWavelets>=0.4.0 in /usr/local/lib/python3.7/dist-packages (from scikit-image->frimcla) (1.1.1)\n",
            "Requirement already satisfied: networkx>=2.0 in /usr/local/lib/python3.7/dist-packages (from scikit-image->frimcla) (2.5.1)\n",
            "Requirement already satisfied: imageio>=2.3.0 in /usr/local/lib/python3.7/dist-packages (from scikit-image->frimcla) (2.4.1)\n",
            "Requirement already satisfied: pillow>=4.3.0 in /usr/local/lib/python3.7/dist-packages (from scikit-image->frimcla) (7.1.2)\n",
            "Requirement already satisfied: decorator<5,>=4.3 in /usr/local/lib/python3.7/dist-packages (from networkx>=2.0->scikit-image->frimcla) (4.4.2)\n",
            "Requirement already satisfied: joblib>=0.11 in /usr/local/lib/python3.7/dist-packages (from scikit-learn->frimcla) (1.0.1)\n",
            "Building wheels for collected packages: frimcla, gast, arff, commentjson, lark-parser, theano, wget\n",
            "  Building wheel for frimcla (setup.py) ... \u001b[?25l\u001b[?25hdone\n",
            "  Created wheel for frimcla: filename=frimcla-1.0.6-py2.py3-none-any.whl size=576624 sha256=e3e7458eb18b50ad3dc9d1a34ee7ea70b354eed5c3902959e18d43d2f958afff\n",
            "  Stored in directory: /root/.cache/pip/wheels/7b/fd/4a/1d2a5bd4c3132573c51958159bc4eacb220fc635df5289e673\n",
            "  Building wheel for gast (setup.py) ... \u001b[?25l\u001b[?25hdone\n",
            "  Created wheel for gast: filename=gast-0.2.2-py3-none-any.whl size=7553 sha256=eff59f44fe7cf5a0ec1f84ba953b397ac2257b66b5fdd0b505ccb646cf625f70\n",
            "  Stored in directory: /root/.cache/pip/wheels/21/7f/02/420f32a803f7d0967b48dd823da3f558c5166991bfd204eef3\n",
            "  Building wheel for arff (setup.py) ... \u001b[?25l\u001b[?25hdone\n",
            "  Created wheel for arff: filename=arff-0.9-py3-none-any.whl size=4970 sha256=6276175b384c5968e4b7cc4807a94d02fc64acdb7f27df8ac4f36e063edbd9ff\n",
            "  Stored in directory: /root/.cache/pip/wheels/fe/81/bd/4ae90e24ba860304e375da219f9205b2586dbee255f3ee70e2\n",
            "  Building wheel for commentjson (setup.py) ... \u001b[?25l\u001b[?25hdone\n",
            "  Created wheel for commentjson: filename=commentjson-0.9.0-py3-none-any.whl size=12092 sha256=cb58112190fce04335acb58376bccf6899c1e301d82952d345fcede8f8589957\n",
            "  Stored in directory: /root/.cache/pip/wheels/eb/bb/07/25a7f0718ee3fe137384011b8e56070f91cf950ee6047c287f\n",
            "  Building wheel for lark-parser (setup.py) ... \u001b[?25l\u001b[?25hdone\n",
            "  Created wheel for lark-parser: filename=lark_parser-0.7.8-py2.py3-none-any.whl size=62527 sha256=f2755ccb55f62e4f66e0240a6915071c5c8e19e026815022e60ab305ebc68d11\n",
            "  Stored in directory: /root/.cache/pip/wheels/92/e3/af/1dc0fdca93232d700ac176af6554cf22b85f3d7e8aeee5ac08\n",
            "  Building wheel for theano (setup.py) ... \u001b[?25l\u001b[?25hdone\n",
            "  Created wheel for theano: filename=Theano-1.0.5-py3-none-any.whl size=2668111 sha256=6a26cdd68f284f43048200da76bb360af8ddf83e608424f8d7b6309aeda3ed53\n",
            "  Stored in directory: /root/.cache/pip/wheels/26/68/6f/745330367ce7822fe0cd863712858151f5723a0a5e322cc144\n",
            "  Building wheel for wget (setup.py) ... \u001b[?25l\u001b[?25hdone\n",
            "  Created wheel for wget: filename=wget-3.2-py3-none-any.whl size=9673 sha256=811a82ba5989a87194ecfaa560476cb5f7919cdde6452be59b6b04195d4dd7fe\n",
            "  Stored in directory: /root/.cache/pip/wheels/a1/b6/7c/0e63e34eb06634181c63adacca38b79ff8f35c37e3c13e3c02\n",
            "Successfully built frimcla gast arff commentjson lark-parser theano wget\n",
            "Installing collected packages: tensorflow-estimator, tensorboard, lark-parser, keras-applications, gast, wget, theano, tensorflow, scikit-multilearn, mahotas, Keras, commentjson, arff, frimcla\n",
            "  Attempting uninstall: tensorflow-estimator\n",
            "    Found existing installation: tensorflow-estimator 2.5.0\n",
            "    Uninstalling tensorflow-estimator-2.5.0:\n",
            "      Successfully uninstalled tensorflow-estimator-2.5.0\n",
            "  Attempting uninstall: tensorboard\n",
            "    Found existing installation: tensorboard 2.5.0\n",
            "    Uninstalling tensorboard-2.5.0:\n",
            "      Successfully uninstalled tensorboard-2.5.0\n",
            "  Attempting uninstall: gast\n",
            "    Found existing installation: gast 0.4.0\n",
            "    Uninstalling gast-0.4.0:\n",
            "      Successfully uninstalled gast-0.4.0\n",
            "  Attempting uninstall: tensorflow\n",
            "    Found existing installation: tensorflow 2.5.0\n",
            "    Uninstalling tensorflow-2.5.0:\n",
            "      Successfully uninstalled tensorflow-2.5.0\n",
            "  Attempting uninstall: Keras\n",
            "    Found existing installation: Keras 2.4.3\n",
            "    Uninstalling Keras-2.4.3:\n",
            "      Successfully uninstalled Keras-2.4.3\n",
            "\u001b[31mERROR: pip's dependency resolver does not currently take into account all the packages that are installed. This behaviour is the source of the following dependency conflicts.\n",
            "tensorflow-probability 0.13.0 requires gast>=0.3.2, but you have gast 0.2.2 which is incompatible.\n",
            "kapre 0.3.5 requires tensorflow>=2.0.0, but you have tensorflow 1.15.0 which is incompatible.\u001b[0m\n",
            "Successfully installed Keras-2.1.6 arff-0.9 commentjson-0.9.0 frimcla-1.0.6 gast-0.2.2 keras-applications-1.0.8 lark-parser-0.7.8 mahotas-1.4.11 scikit-multilearn-0.2.0 tensorboard-1.15.0 tensorflow-1.15.0 tensorflow-estimator-1.15.1 theano-1.0.5 wget-3.2\n"
          ],
          "name": "stdout"
        }
      ]
    },
    {
      "cell_type": "code",
      "metadata": {
        "colab": {
          "base_uri": "https://localhost:8080/"
        },
        "id": "W_LdWG28YtR_",
        "outputId": "9d16525e-1e14-45ea-aa81-5bab151f2cb3"
      },
      "source": [
        "!pip install pandas==0.25.1"
      ],
      "execution_count": null,
      "outputs": [
        {
          "output_type": "stream",
          "text": [
            "Requirement already satisfied: pandas==0.25.1 in /usr/local/lib/python3.7/dist-packages (0.25.1)\n",
            "Requirement already satisfied: python-dateutil>=2.6.1 in /usr/local/lib/python3.7/dist-packages (from pandas==0.25.1) (2.8.1)\n",
            "Requirement already satisfied: numpy>=1.13.3 in /usr/local/lib/python3.7/dist-packages (from pandas==0.25.1) (1.19.5)\n",
            "Requirement already satisfied: pytz>=2017.2 in /usr/local/lib/python3.7/dist-packages (from pandas==0.25.1) (2018.9)\n",
            "Requirement already satisfied: six>=1.5 in /usr/local/lib/python3.7/dist-packages (from python-dateutil>=2.6.1->pandas==0.25.1) (1.15.0)\n"
          ],
          "name": "stdout"
        }
      ]
    },
    {
      "cell_type": "code",
      "metadata": {
        "colab": {
          "base_uri": "https://localhost:8080/"
        },
        "id": "p5rLRHMrY1Hx",
        "outputId": "e2cf9fba-ccad-4204-899c-5b708982cce1"
      },
      "source": [
        "!pip install h5py==2.10.0  "
      ],
      "execution_count": null,
      "outputs": [
        {
          "output_type": "stream",
          "text": [
            "Requirement already satisfied: h5py==2.10.0 in /usr/local/lib/python3.7/dist-packages (2.10.0)\n",
            "Requirement already satisfied: six in /usr/local/lib/python3.7/dist-packages (from h5py==2.10.0) (1.15.0)\n",
            "Requirement already satisfied: numpy>=1.7 in /usr/local/lib/python3.7/dist-packages (from h5py==2.10.0) (1.19.5)\n"
          ],
          "name": "stdout"
        }
      ]
    },
    {
      "cell_type": "markdown",
      "metadata": {
        "id": "icKrdbNlfTC8"
      },
      "source": [
        "We need some libraries to execute this framework and obtain the results. "
      ]
    },
    {
      "cell_type": "code",
      "metadata": {
        "id": "KjqQB2GGfTC9",
        "scrolled": true,
        "colab": {
          "base_uri": "https://localhost:8080/"
        },
        "outputId": "a8bb13c8-ebb0-4f3b-baf3-473c90b67719"
      },
      "source": [
        "%tensorflow_version 1.x\n",
        "from frimcla.index_features import generateFeatures\n",
        "from frimcla.StatisticalComparison import statisticalComparison, majorityVoting\n",
        "from frimcla.train import train\n",
        "from frimcla.prediction import prediction"
      ],
      "execution_count": null,
      "outputs": [
        {
          "output_type": "stream",
          "text": [
            "TensorFlow 1.x selected.\n"
          ],
          "name": "stdout"
        },
        {
          "output_type": "stream",
          "text": [
            "Using TensorFlow backend.\n"
          ],
          "name": "stderr"
        }
      ]
    },
    {
      "cell_type": "markdown",
      "metadata": {
        "id": "74pR5g-DfTDC"
      },
      "source": [
        "### Configuring the variables of the program"
      ]
    },
    {
      "cell_type": "markdown",
      "metadata": {
        "id": "se0QnVWnfTDD"
      },
      "source": [
        "First of all, we have to indicate the variables that the program need such as the path of the dataset, the models you want to use,..."
      ]
    },
    {
      "cell_type": "code",
      "metadata": {
        "id": "2PD094EJfTDE"
      },
      "source": [
        "datasetPath = \"./Mias\"\n",
        "outputPath = \"./output\"\n",
        "# featureExtractors = [[\"inception\", \"False\"]]\n",
        "batchSize = 32 \n",
        "verbose = False\n",
        "# modelClassifiers = [ \"MLP\",\"SVM\",\"KNN\"] #You can use MLP, SVM, KNN , LogisticRegression or RandomForest\n",
        "measure = \"accuracy\" #You can use accuracy, f1, auroc, precision or recall \n",
        "trainingSize = 1\n",
        "nSteps=10\n"
      ],
      "execution_count": null,
      "outputs": []
    },
    {
      "cell_type": "markdown",
      "metadata": {
        "id": "9tGVgXnIfTDI"
      },
      "source": [
        "In the next section we have to select the feature extractors that we want to use (It is mandatory to **select at least one option**)"
      ]
    },
    {
      "cell_type": "code",
      "metadata": {
        "id": "oWOoIo0FlEY4"
      },
      "source": [
        "VGG16 = True #@param {type:\"boolean\"}\n",
        "VGG19 = True #@param {type:\"boolean\"}\n",
        "ResNet = False #@param {type:\"boolean\"}\n",
        "Inception = True #@param {type:\"boolean\"}\n",
        "GoogleNet = False #@param {type:\"boolean\"}\n",
        "Overfeat = False #@param {type:\"boolean\"}\n",
        "Xception = False #@param {type:\"boolean\"}\n",
        "Densenet = False #@param {type:\"boolean\"}\n",
        "LAB888 = False #@param {type:\"boolean\"}\n",
        "LAB444 = False #@param {type:\"boolean\"}\n",
        "HSV888 = False #@param {type:\"boolean\"}\n",
        "HSV444 = False #@param {type:\"boolean\"}\n",
        "Haralick = False #@param {type:\"boolean\"}\n",
        "Hog = False #@param {type:\"boolean\"}\n",
        "Haarhog = False #@param {type:\"boolean\"}\n",
        "\n",
        "featureExtractors = []\n",
        "\n",
        "if VGG19 :\n",
        "  featureExtractors.append([\"vgg19\",\"False\"])\n",
        "if VGG16 :\n",
        "  featureExtractors.append([\"vgg16\",\"False\"])\n",
        "if ResNet :\n",
        "  featureExtractors.append([\"resnet\",\"False\"])\n",
        "if Inception :\n",
        "  featureExtractors.append([\"inception\",\"False\"])\n",
        "if GoogleNet :\n",
        "  featureExtractors.append([\"googlenet\"])\n",
        "if Overfeat :\n",
        "  featureExtractors.append([\"overfeat\",\"[-3]\"])\n",
        "if Xception :\n",
        "  featureExtractors.append([\"xception\",\"False\"])\n",
        "if Densenet :\n",
        "  featureExtractors.append([\"densenet\"])\n",
        "if LAB888 :\n",
        "  featureExtractors.append([\"lab888\"])\n",
        "if LAB444 :\n",
        "  featureExtractors.append([\"lab444\",\"4,4,4\"])\n",
        "if HSV888 :\n",
        "  featureExtractors.append([\"hsv888\"])\n",
        "if HSV444 :\n",
        "  featureExtractors.append([\"hsv444\",\"4,4,4\"])\n",
        "if Haralick :\n",
        "  featureExtractors.append([\"haralick\"])\n",
        "if Hog :\n",
        "  featureExtractors.append([\"hog\"])\n",
        "if Haarhog :\n",
        "  featureExtractors.append([\"haarhog\"])"
      ],
      "execution_count": null,
      "outputs": []
    },
    {
      "cell_type": "markdown",
      "metadata": {
        "id": "8hUEaglalJE5"
      },
      "source": [
        "Now we have to indicate the classifier models that we want to use (It is mandatory to **select at least one option**)"
      ]
    },
    {
      "cell_type": "code",
      "metadata": {
        "id": "Uvb6ZdnmlJha"
      },
      "source": [
        "MLP = True #@param {type:\"boolean\"}\n",
        "SVM = True #@param {type:\"boolean\"}\n",
        "KNN = True #@param {type:\"boolean\"}\n",
        "LogisticRegression = True #@param {type:\"boolean\"}\n",
        "GradientBoost = True #@param {type:\"boolean\"}\n",
        "RandomForest = True #@param {type:\"boolean\"}\n",
        "\n",
        "modelClassifiers = []\n",
        "\n",
        "\n",
        "if MLP :\n",
        "  modelClassifiers.append(\"MLP\")\n",
        "if SVM :\n",
        "  modelClassifiers.append(\"SVM\")\n",
        "if KNN :\n",
        "  modelClassifiers.append(\"KNN\")\n",
        "if LogisticRegression :\n",
        "  modelClassifiers.append(\"LogisticRegression\")\n",
        "if GradientBoost :\n",
        "  modelClassifiers.append(\"GradientBoost\")\n",
        "if RandomForest :\n",
        "  modelClassifiers.append(\"RandomForest\")"
      ],
      "execution_count": null,
      "outputs": []
    },
    {
      "cell_type": "markdown",
      "metadata": {
        "id": "N6HADHBKfTDJ"
      },
      "source": [
        "### Generating the features"
      ]
    },
    {
      "cell_type": "markdown",
      "metadata": {
        "id": "K--fenI9fTDL"
      },
      "source": [
        "At this step we stored the features of each image of the dataset. These features depend on the model used at this moment because each model stores different features of the image. "
      ]
    },
    {
      "cell_type": "code",
      "metadata": {
        "id": "TVzzyegcfTDM",
        "colab": {
          "base_uri": "https://localhost:8080/"
        },
        "outputId": "0fddee69-0950-403c-9007-4497806c39b7"
      },
      "source": [
        "generateFeatures(outputPath, batchSize, datasetPath, featureExtractors, verbose)"
      ],
      "execution_count": null,
      "outputs": [
        {
          "output_type": "stream",
          "text": [
            "These features (vgg19) are already generated\n",
            "These features (vgg16) are already generated\n",
            "These features (inception) are already generated\n"
          ],
          "name": "stdout"
        },
        {
          "output_type": "execute_result",
          "data": {
            "text/plain": [
              "0.006797075271606445"
            ]
          },
          "metadata": {
            "tags": []
          },
          "execution_count": 7
        }
      ]
    },
    {
      "cell_type": "markdown",
      "metadata": {
        "id": "YpuChZiCfTDR"
      },
      "source": [
        "### Statistical analysis"
      ]
    },
    {
      "cell_type": "markdown",
      "metadata": {
        "id": "XVq3arDsfTDT"
      },
      "source": [
        "Now with the features of all the images of each model we can perform a statistical analysis to know which of this models has the best performace."
      ]
    },
    {
      "cell_type": "code",
      "metadata": {
        "id": "gd9e7rNXk13P"
      },
      "source": [
        "%matplotlib inline"
      ],
      "execution_count": null,
      "outputs": []
    },
    {
      "cell_type": "code",
      "metadata": {
        "colab": {
          "base_uri": "https://localhost:8080/"
        },
        "id": "xRCyhr_eqVRt",
        "outputId": "3bd357e1-9b71-4af0-f95f-bd5aad0dcf5f"
      },
      "source": [
        "!pip install matplotlib"
      ],
      "execution_count": null,
      "outputs": [
        {
          "output_type": "stream",
          "text": [
            "Requirement already satisfied: matplotlib in /usr/local/lib/python3.7/dist-packages (3.2.2)\n",
            "Requirement already satisfied: kiwisolver>=1.0.1 in /usr/local/lib/python3.7/dist-packages (from matplotlib) (1.3.1)\n",
            "Requirement already satisfied: cycler>=0.10 in /usr/local/lib/python3.7/dist-packages (from matplotlib) (0.10.0)\n",
            "Requirement already satisfied: pyparsing!=2.0.4,!=2.1.2,!=2.1.6,>=2.0.1 in /usr/local/lib/python3.7/dist-packages (from matplotlib) (2.4.7)\n",
            "Requirement already satisfied: python-dateutil>=2.1 in /usr/local/lib/python3.7/dist-packages (from matplotlib) (2.8.1)\n",
            "Requirement already satisfied: numpy>=1.11 in /usr/local/lib/python3.7/dist-packages (from matplotlib) (1.19.5)\n",
            "Requirement already satisfied: six in /usr/local/lib/python3.7/dist-packages (from cycler>=0.10->matplotlib) (1.15.0)\n"
          ],
          "name": "stdout"
        }
      ]
    },
    {
      "cell_type": "code",
      "metadata": {
        "id": "Gj1DQ88PfTDV",
        "colab": {
          "base_uri": "https://localhost:8080/",
          "height": 1000
        },
        "outputId": "a92dcef5-a51d-46aa-9eee-8dff317578a9"
      },
      "source": [
        "statisticalComparison(outputPath, datasetPath, featureExtractors, modelClassifiers, measure, nSteps, verbose)"
      ],
      "execution_count": null,
      "outputs": [
        {
          "output_type": "stream",
          "text": [
            "/usr/local/lib/python3.7/dist-packages/frimcla/Comparing.py:188: H5pyDeprecationWarning: The default file mode will change to 'r' (read-only) in h5py 3.0. To suppress this warning, pass the mode you need to h5py.File(), or set the global default h5.get_config().default_file_mode, or set the environment variable H5PY_DEFAULT_READONLY=1. Available modes are: 'r', 'r+', 'w', 'w-'/'x', 'a'. See the docs for details.\n",
            "  db = h5py.File(featuresPath)\n",
            "/usr/local/lib/python3.7/dist-packages/frimcla/Comparing.py:188: H5pyDeprecationWarning: The default file mode will change to 'r' (read-only) in h5py 3.0. To suppress this warning, pass the mode you need to h5py.File(), or set the global default h5.get_config().default_file_mode, or set the environment variable H5PY_DEFAULT_READONLY=1. Available modes are: 'r', 'r+', 'w', 'w-'/'x', 'a'. See the docs for details.\n",
            "  db = h5py.File(featuresPath)\n",
            "/usr/local/lib/python3.7/dist-packages/frimcla/Comparing.py:188: H5pyDeprecationWarning: The default file mode will change to 'r' (read-only) in h5py 3.0. To suppress this warning, pass the mode you need to h5py.File(), or set the global default h5.get_config().default_file_mode, or set the environment variable H5PY_DEFAULT_READONLY=1. Available modes are: 'r', 'r+', 'w', 'w-'/'x', 'a'. See the docs for details.\n",
            "  db = h5py.File(featuresPath)\n"
          ],
          "name": "stderr"
        },
        {
          "output_type": "execute_result",
          "data": {
            "text/plain": [
              "1719.436688899994"
            ]
          },
          "metadata": {
            "tags": []
          },
          "execution_count": 10
        },
        {
          "output_type": "display_data",
          "data": {
            "image/png": "[encoded data removed]",
            "text/plain": [
              "<Figure size 432x288 with 1 Axes>"
            ]
          },
          "metadata": {
            "tags": [],
            "needs_background": "light"
          }
        },
        {
          "output_type": "display_data",
          "data": {
            "image/png": "[encoded data removed]",
            "text/plain": [
              "<Figure size 432x288 with 1 Axes>"
            ]
          },
          "metadata": {
            "tags": [],
            "needs_background": "light"
          }
        },
        {
          "output_type": "display_data",
          "data": {
            "image/png": "[encoded data removed]",
            "text/plain": [
              "<Figure size 432x288 with 1 Axes>"
            ]
          },
          "metadata": {
            "tags": [],
            "needs_background": "light"
          }
        },
        {
          "output_type": "display_data",
          "data": {
            "image/png": "[encoded data removed]",
            "text/plain": [
              "<Figure size 432x288 with 1 Axes>"
            ]
          },
          "metadata": {
            "tags": [],
            "needs_background": "light"
          }
        }
      ]
    },
    {
      "cell_type": "code",
      "metadata": {
        "id": "p5shtXFpC-3c",
        "colab": {
          "base_uri": "https://localhost:8080/"
        },
        "outputId": "d623ef66-dffc-49b1-bf02-e65418a540e6"
      },
      "source": [
        "majorityVoting(outputPath, datasetPath, featureExtractors, modelClassifiers, measure, False)"
      ],
      "execution_count": null,
      "outputs": [
        {
          "output_type": "stream",
          "text": [
            "/usr/local/lib/python3.7/dist-packages/frimcla/StatisticalComparison.py:87: H5pyDeprecationWarning: The default file mode will change to 'r' (read-only) in h5py 3.0. To suppress this warning, pass the mode you need to h5py.File(), or set the global default h5.get_config().default_file_mode, or set the environment variable H5PY_DEFAULT_READONLY=1. Available modes are: 'r', 'r+', 'w', 'w-'/'x', 'a'. See the docs for details.\n",
            "  db = h5py.File(featuresPath)\n",
            "/usr/local/lib/python3.7/dist-packages/frimcla/StatisticalComparison.py:87: H5pyDeprecationWarning: The default file mode will change to 'r' (read-only) in h5py 3.0. To suppress this warning, pass the mode you need to h5py.File(), or set the global default h5.get_config().default_file_mode, or set the environment variable H5PY_DEFAULT_READONLY=1. Available modes are: 'r', 'r+', 'w', 'w-'/'x', 'a'. See the docs for details.\n",
            "  db = h5py.File(featuresPath)\n",
            "/usr/local/lib/python3.7/dist-packages/frimcla/StatisticalComparison.py:87: H5pyDeprecationWarning: The default file mode will change to 'r' (read-only) in h5py 3.0. To suppress this warning, pass the mode you need to h5py.File(), or set the global default h5.get_config().default_file_mode, or set the environment variable H5PY_DEFAULT_READONLY=1. Available modes are: 'r', 'r+', 'w', 'w-'/'x', 'a'. See the docs for details.\n",
            "  db = h5py.File(featuresPath)\n"
          ],
          "name": "stderr"
        },
        {
          "output_type": "execute_result",
          "data": {
            "text/plain": [
              "182.4125578403473"
            ]
          },
          "metadata": {
            "tags": []
          },
          "execution_count": 11
        }
      ]
    },
    {
      "cell_type": "code",
      "metadata": {
        "id": "Ae-wo49CC-_L"
      },
      "source": [
        ""
      ],
      "execution_count": null,
      "outputs": []
    },
    {
      "cell_type": "markdown",
      "metadata": {
        "id": "-FkkzGCGfTDc"
      },
      "source": [
        "### Train the model"
      ]
    },
    {
      "cell_type": "markdown",
      "metadata": {
        "id": "D4oP9OPPfTDd"
      },
      "source": [
        "The study gives us as result the best model and indicates if there are significant differences between this and the rest of the models. With this information, we can train the best model and return as a result of the framework to the user.\n",
        "\n",
        "In this function FrImCla asks the user if he/she wants a web application or not (Y if the user wants the webapp). This web application uses the best model selected by FrImCla for this problem. The application generated is very simple and only contains a text box and a button to predict the class of new images. FrImCla generates a zip file that must be decompressed to be used. Inside the folder the user has to open a new terminal in this path and run the following command:\n",
        "\n",
        "`python3 FlaskApp/app.py`\n",
        "\n",
        "The comand executes the web application in http://localhost:5000/ To use the application the user has to write open the link in his/her browser."
      ]
    },
    {
      "cell_type": "code",
      "metadata": {
        "id": "rDsLLwmafTDe",
        "colab": {
          "base_uri": "https://localhost:8080/"
        },
        "outputId": "6d770147-b674-4e55-c030-02ed1346bd69"
      },
      "source": [
        "train(outputPath, datasetPath, trainingSize)"
      ],
      "execution_count": null,
      "outputs": [
        {
          "output_type": "stream",
          "text": [
            "[INFO] gathering train/test splits...\n",
            "[INFO] tuning hyperparameters...\n"
          ],
          "name": "stdout"
        },
        {
          "output_type": "stream",
          "text": [
            "/usr/local/lib/python3.7/dist-packages/frimcla/train.py:52: H5pyDeprecationWarning: The default file mode will change to 'r' (read-only) in h5py 3.0. To suppress this warning, pass the mode you need to h5py.File(), or set the global default h5.get_config().default_file_mode, or set the environment variable H5PY_DEFAULT_READONLY=1. Available modes are: 'r', 'r+', 'w', 'w-'/'x', 'a'. See the docs for details.\n",
            "  db = h5py.File(featuresPath)\n",
            "/usr/local/lib/python3.7/dist-packages/sklearn/neural_network/_multilayer_perceptron.py:470: ConvergenceWarning: lbfgs failed to converge (status=1):\n",
            "STOP: TOTAL NO. of ITERATIONS REACHED LIMIT.\n",
            "\n",
            "Increase the number of iterations (max_iter) or scale the data as shown in:\n",
            "    https://scikit-learn.org/stable/modules/preprocessing.html\n",
            "  self.n_iter_ = _check_optimize_result(\"lbfgs\", opt_res, self.max_iter)\n",
            "/usr/local/lib/python3.7/dist-packages/sklearn/neural_network/_multilayer_perceptron.py:470: ConvergenceWarning: lbfgs failed to converge (status=1):\n",
            "STOP: TOTAL NO. of ITERATIONS REACHED LIMIT.\n",
            "\n",
            "Increase the number of iterations (max_iter) or scale the data as shown in:\n",
            "    https://scikit-learn.org/stable/modules/preprocessing.html\n",
            "  self.n_iter_ = _check_optimize_result(\"lbfgs\", opt_res, self.max_iter)\n",
            "/usr/local/lib/python3.7/dist-packages/sklearn/neural_network/_multilayer_perceptron.py:470: ConvergenceWarning: lbfgs failed to converge (status=1):\n",
            "STOP: TOTAL NO. of ITERATIONS REACHED LIMIT.\n",
            "\n",
            "Increase the number of iterations (max_iter) or scale the data as shown in:\n",
            "    https://scikit-learn.org/stable/modules/preprocessing.html\n",
            "  self.n_iter_ = _check_optimize_result(\"lbfgs\", opt_res, self.max_iter)\n",
            "/usr/local/lib/python3.7/dist-packages/sklearn/neural_network/_multilayer_perceptron.py:470: ConvergenceWarning: lbfgs failed to converge (status=1):\n",
            "STOP: TOTAL NO. of ITERATIONS REACHED LIMIT.\n",
            "\n",
            "Increase the number of iterations (max_iter) or scale the data as shown in:\n",
            "    https://scikit-learn.org/stable/modules/preprocessing.html\n",
            "  self.n_iter_ = _check_optimize_result(\"lbfgs\", opt_res, self.max_iter)\n",
            "/usr/local/lib/python3.7/dist-packages/sklearn/neural_network/_multilayer_perceptron.py:470: ConvergenceWarning: lbfgs failed to converge (status=1):\n",
            "STOP: TOTAL NO. of ITERATIONS REACHED LIMIT.\n",
            "\n",
            "Increase the number of iterations (max_iter) or scale the data as shown in:\n",
            "    https://scikit-learn.org/stable/modules/preprocessing.html\n",
            "  self.n_iter_ = _check_optimize_result(\"lbfgs\", opt_res, self.max_iter)\n",
            "/usr/local/lib/python3.7/dist-packages/sklearn/neural_network/_multilayer_perceptron.py:571: ConvergenceWarning: Stochastic Optimizer: Maximum iterations (200) reached and the optimization hasn't converged yet.\n",
            "  % self.max_iter, ConvergenceWarning)\n",
            "/usr/local/lib/python3.7/dist-packages/sklearn/neural_network/_multilayer_perceptron.py:571: ConvergenceWarning: Stochastic Optimizer: Maximum iterations (200) reached and the optimization hasn't converged yet.\n",
            "  % self.max_iter, ConvergenceWarning)\n",
            "/usr/local/lib/python3.7/dist-packages/sklearn/neural_network/_multilayer_perceptron.py:571: ConvergenceWarning: Stochastic Optimizer: Maximum iterations (200) reached and the optimization hasn't converged yet.\n",
            "  % self.max_iter, ConvergenceWarning)\n",
            "/usr/local/lib/python3.7/dist-packages/sklearn/neural_network/_multilayer_perceptron.py:571: ConvergenceWarning: Stochastic Optimizer: Maximum iterations (200) reached and the optimization hasn't converged yet.\n",
            "  % self.max_iter, ConvergenceWarning)\n",
            "/usr/local/lib/python3.7/dist-packages/sklearn/neural_network/_multilayer_perceptron.py:571: ConvergenceWarning: Stochastic Optimizer: Maximum iterations (200) reached and the optimization hasn't converged yet.\n",
            "  % self.max_iter, ConvergenceWarning)\n"
          ],
          "name": "stderr"
        },
        {
          "output_type": "stream",
          "text": [
            "[INFO] best hyperparameters: {'activation': 'identity', 'alpha': 0, 'learning_rate': 'adaptive', 'momentum': 0.95, 'solver': 'lbfgs'}\n",
            "[INFO] dumping classifier...\n",
            "[INFO] best hyperparameters: {'kernel': 'linear', 'gamma': 0.001, 'C': 1000}\n",
            "[INFO] dumping classifier...\n",
            "[INFO] best hyperparameters: {'n_neighbors': 5}\n",
            "[INFO] dumping classifier...\n"
          ],
          "name": "stdout"
        },
        {
          "output_type": "stream",
          "text": [
            "/usr/local/lib/python3.7/dist-packages/sklearn/linear_model/_logistic.py:940: ConvergenceWarning: lbfgs failed to converge (status=1):\n",
            "STOP: TOTAL NO. of ITERATIONS REACHED LIMIT.\n",
            "\n",
            "Increase the number of iterations (max_iter) or scale the data as shown in:\n",
            "    https://scikit-learn.org/stable/modules/preprocessing.html\n",
            "Please also refer to the documentation for alternative solver options:\n",
            "    https://scikit-learn.org/stable/modules/linear_model.html#logistic-regression\n",
            "  extra_warning_msg=_LOGISTIC_SOLVER_CONVERGENCE_MSG)\n",
            "/usr/local/lib/python3.7/dist-packages/sklearn/linear_model/_logistic.py:940: ConvergenceWarning: lbfgs failed to converge (status=1):\n",
            "STOP: TOTAL NO. of ITERATIONS REACHED LIMIT.\n",
            "\n",
            "Increase the number of iterations (max_iter) or scale the data as shown in:\n",
            "    https://scikit-learn.org/stable/modules/preprocessing.html\n",
            "Please also refer to the documentation for alternative solver options:\n",
            "    https://scikit-learn.org/stable/modules/linear_model.html#logistic-regression\n",
            "  extra_warning_msg=_LOGISTIC_SOLVER_CONVERGENCE_MSG)\n",
            "/usr/local/lib/python3.7/dist-packages/sklearn/linear_model/_logistic.py:940: ConvergenceWarning: lbfgs failed to converge (status=1):\n",
            "STOP: TOTAL NO. of ITERATIONS REACHED LIMIT.\n",
            "\n",
            "Increase the number of iterations (max_iter) or scale the data as shown in:\n",
            "    https://scikit-learn.org/stable/modules/preprocessing.html\n",
            "Please also refer to the documentation for alternative solver options:\n",
            "    https://scikit-learn.org/stable/modules/linear_model.html#logistic-regression\n",
            "  extra_warning_msg=_LOGISTIC_SOLVER_CONVERGENCE_MSG)\n",
            "/usr/local/lib/python3.7/dist-packages/sklearn/linear_model/_logistic.py:940: ConvergenceWarning: lbfgs failed to converge (status=1):\n",
            "STOP: TOTAL NO. of ITERATIONS REACHED LIMIT.\n",
            "\n",
            "Increase the number of iterations (max_iter) or scale the data as shown in:\n",
            "    https://scikit-learn.org/stable/modules/preprocessing.html\n",
            "Please also refer to the documentation for alternative solver options:\n",
            "    https://scikit-learn.org/stable/modules/linear_model.html#logistic-regression\n",
            "  extra_warning_msg=_LOGISTIC_SOLVER_CONVERGENCE_MSG)\n",
            "/usr/local/lib/python3.7/dist-packages/sklearn/linear_model/_logistic.py:940: ConvergenceWarning: lbfgs failed to converge (status=1):\n",
            "STOP: TOTAL NO. of ITERATIONS REACHED LIMIT.\n",
            "\n",
            "Increase the number of iterations (max_iter) or scale the data as shown in:\n",
            "    https://scikit-learn.org/stable/modules/preprocessing.html\n",
            "Please also refer to the documentation for alternative solver options:\n",
            "    https://scikit-learn.org/stable/modules/linear_model.html#logistic-regression\n",
            "  extra_warning_msg=_LOGISTIC_SOLVER_CONVERGENCE_MSG)\n",
            "/usr/local/lib/python3.7/dist-packages/sklearn/linear_model/_logistic.py:940: ConvergenceWarning: lbfgs failed to converge (status=1):\n",
            "STOP: TOTAL NO. of ITERATIONS REACHED LIMIT.\n",
            "\n",
            "Increase the number of iterations (max_iter) or scale the data as shown in:\n",
            "    https://scikit-learn.org/stable/modules/preprocessing.html\n",
            "Please also refer to the documentation for alternative solver options:\n",
            "    https://scikit-learn.org/stable/modules/linear_model.html#logistic-regression\n",
            "  extra_warning_msg=_LOGISTIC_SOLVER_CONVERGENCE_MSG)\n"
          ],
          "name": "stderr"
        },
        {
          "output_type": "stream",
          "text": [
            "[INFO] best hyperparameters: {'C': 10000.0}\n",
            "[INFO] dumping classifier...\n",
            "[INFO] best hyperparameters: {'min_samples_leaf': 10, 'max_features': 10, 'max_depth': None}\n",
            "[INFO] dumping classifier...\n",
            "[INFO] best hyperparameters: {'min_samples_leaf': 1, 'max_features': 10, 'max_depth': None, 'criterion': 'entropy', 'bootstrap': False}\n",
            "[INFO] dumping classifier...\n",
            "[INFO] gathering train/test splits...\n",
            "[INFO] tuning hyperparameters...\n"
          ],
          "name": "stdout"
        },
        {
          "output_type": "stream",
          "text": [
            "/usr/local/lib/python3.7/dist-packages/frimcla/train.py:52: H5pyDeprecationWarning: The default file mode will change to 'r' (read-only) in h5py 3.0. To suppress this warning, pass the mode you need to h5py.File(), or set the global default h5.get_config().default_file_mode, or set the environment variable H5PY_DEFAULT_READONLY=1. Available modes are: 'r', 'r+', 'w', 'w-'/'x', 'a'. See the docs for details.\n",
            "  db = h5py.File(featuresPath)\n",
            "/usr/local/lib/python3.7/dist-packages/sklearn/neural_network/_multilayer_perceptron.py:571: ConvergenceWarning: Stochastic Optimizer: Maximum iterations (200) reached and the optimization hasn't converged yet.\n",
            "  % self.max_iter, ConvergenceWarning)\n",
            "/usr/local/lib/python3.7/dist-packages/sklearn/neural_network/_multilayer_perceptron.py:571: ConvergenceWarning: Stochastic Optimizer: Maximum iterations (200) reached and the optimization hasn't converged yet.\n",
            "  % self.max_iter, ConvergenceWarning)\n",
            "/usr/local/lib/python3.7/dist-packages/sklearn/neural_network/_multilayer_perceptron.py:571: ConvergenceWarning: Stochastic Optimizer: Maximum iterations (200) reached and the optimization hasn't converged yet.\n",
            "  % self.max_iter, ConvergenceWarning)\n",
            "/usr/local/lib/python3.7/dist-packages/sklearn/neural_network/_multilayer_perceptron.py:571: ConvergenceWarning: Stochastic Optimizer: Maximum iterations (200) reached and the optimization hasn't converged yet.\n",
            "  % self.max_iter, ConvergenceWarning)\n",
            "/usr/local/lib/python3.7/dist-packages/sklearn/neural_network/_multilayer_perceptron.py:571: ConvergenceWarning: Stochastic Optimizer: Maximum iterations (200) reached and the optimization hasn't converged yet.\n",
            "  % self.max_iter, ConvergenceWarning)\n",
            "/usr/local/lib/python3.7/dist-packages/sklearn/neural_network/_multilayer_perceptron.py:470: ConvergenceWarning: lbfgs failed to converge (status=1):\n",
            "STOP: TOTAL NO. of ITERATIONS REACHED LIMIT.\n",
            "\n",
            "Increase the number of iterations (max_iter) or scale the data as shown in:\n",
            "    https://scikit-learn.org/stable/modules/preprocessing.html\n",
            "  self.n_iter_ = _check_optimize_result(\"lbfgs\", opt_res, self.max_iter)\n",
            "/usr/local/lib/python3.7/dist-packages/sklearn/neural_network/_multilayer_perceptron.py:470: ConvergenceWarning: lbfgs failed to converge (status=1):\n",
            "STOP: TOTAL NO. of ITERATIONS REACHED LIMIT.\n",
            "\n",
            "Increase the number of iterations (max_iter) or scale the data as shown in:\n",
            "    https://scikit-learn.org/stable/modules/preprocessing.html\n",
            "  self.n_iter_ = _check_optimize_result(\"lbfgs\", opt_res, self.max_iter)\n",
            "/usr/local/lib/python3.7/dist-packages/sklearn/neural_network/_multilayer_perceptron.py:470: ConvergenceWarning: lbfgs failed to converge (status=1):\n",
            "STOP: TOTAL NO. of ITERATIONS REACHED LIMIT.\n",
            "\n",
            "Increase the number of iterations (max_iter) or scale the data as shown in:\n",
            "    https://scikit-learn.org/stable/modules/preprocessing.html\n",
            "  self.n_iter_ = _check_optimize_result(\"lbfgs\", opt_res, self.max_iter)\n",
            "/usr/local/lib/python3.7/dist-packages/sklearn/neural_network/_multilayer_perceptron.py:470: ConvergenceWarning: lbfgs failed to converge (status=1):\n",
            "STOP: TOTAL NO. of ITERATIONS REACHED LIMIT.\n",
            "\n",
            "Increase the number of iterations (max_iter) or scale the data as shown in:\n",
            "    https://scikit-learn.org/stable/modules/preprocessing.html\n",
            "  self.n_iter_ = _check_optimize_result(\"lbfgs\", opt_res, self.max_iter)\n",
            "/usr/local/lib/python3.7/dist-packages/sklearn/neural_network/_multilayer_perceptron.py:470: ConvergenceWarning: lbfgs failed to converge (status=1):\n",
            "STOP: TOTAL NO. of ITERATIONS REACHED LIMIT.\n",
            "\n",
            "Increase the number of iterations (max_iter) or scale the data as shown in:\n",
            "    https://scikit-learn.org/stable/modules/preprocessing.html\n",
            "  self.n_iter_ = _check_optimize_result(\"lbfgs\", opt_res, self.max_iter)\n",
            "/usr/local/lib/python3.7/dist-packages/sklearn/neural_network/_multilayer_perceptron.py:470: ConvergenceWarning: lbfgs failed to converge (status=1):\n",
            "STOP: TOTAL NO. of ITERATIONS REACHED LIMIT.\n",
            "\n",
            "Increase the number of iterations (max_iter) or scale the data as shown in:\n",
            "    https://scikit-learn.org/stable/modules/preprocessing.html\n",
            "  self.n_iter_ = _check_optimize_result(\"lbfgs\", opt_res, self.max_iter)\n",
            "/usr/local/lib/python3.7/dist-packages/sklearn/neural_network/_multilayer_perceptron.py:571: ConvergenceWarning: Stochastic Optimizer: Maximum iterations (200) reached and the optimization hasn't converged yet.\n",
            "  % self.max_iter, ConvergenceWarning)\n",
            "/usr/local/lib/python3.7/dist-packages/sklearn/neural_network/_multilayer_perceptron.py:571: ConvergenceWarning: Stochastic Optimizer: Maximum iterations (200) reached and the optimization hasn't converged yet.\n",
            "  % self.max_iter, ConvergenceWarning)\n",
            "/usr/local/lib/python3.7/dist-packages/sklearn/neural_network/_multilayer_perceptron.py:571: ConvergenceWarning: Stochastic Optimizer: Maximum iterations (200) reached and the optimization hasn't converged yet.\n",
            "  % self.max_iter, ConvergenceWarning)\n",
            "/usr/local/lib/python3.7/dist-packages/sklearn/neural_network/_multilayer_perceptron.py:571: ConvergenceWarning: Stochastic Optimizer: Maximum iterations (200) reached and the optimization hasn't converged yet.\n",
            "  % self.max_iter, ConvergenceWarning)\n",
            "/usr/local/lib/python3.7/dist-packages/sklearn/neural_network/_multilayer_perceptron.py:571: ConvergenceWarning: Stochastic Optimizer: Maximum iterations (200) reached and the optimization hasn't converged yet.\n",
            "  % self.max_iter, ConvergenceWarning)\n",
            "/usr/local/lib/python3.7/dist-packages/sklearn/neural_network/_multilayer_perceptron.py:470: ConvergenceWarning: lbfgs failed to converge (status=1):\n",
            "STOP: TOTAL NO. of ITERATIONS REACHED LIMIT.\n",
            "\n",
            "Increase the number of iterations (max_iter) or scale the data as shown in:\n",
            "    https://scikit-learn.org/stable/modules/preprocessing.html\n",
            "  self.n_iter_ = _check_optimize_result(\"lbfgs\", opt_res, self.max_iter)\n"
          ],
          "name": "stderr"
        },
        {
          "output_type": "stream",
          "text": [
            "[INFO] best hyperparameters: {'activation': 'logistic', 'alpha': 0, 'learning_rate': 'invscaling', 'momentum': 0.95, 'solver': 'lbfgs'}\n",
            "[INFO] dumping classifier...\n",
            "[INFO] best hyperparameters: {'kernel': 'linear', 'gamma': 0.0001, 'C': 100}\n",
            "[INFO] dumping classifier...\n",
            "[INFO] best hyperparameters: {'n_neighbors': 7}\n",
            "[INFO] dumping classifier...\n"
          ],
          "name": "stdout"
        },
        {
          "output_type": "stream",
          "text": [
            "/usr/local/lib/python3.7/dist-packages/sklearn/linear_model/_logistic.py:940: ConvergenceWarning: lbfgs failed to converge (status=1):\n",
            "STOP: TOTAL NO. of ITERATIONS REACHED LIMIT.\n",
            "\n",
            "Increase the number of iterations (max_iter) or scale the data as shown in:\n",
            "    https://scikit-learn.org/stable/modules/preprocessing.html\n",
            "Please also refer to the documentation for alternative solver options:\n",
            "    https://scikit-learn.org/stable/modules/linear_model.html#logistic-regression\n",
            "  extra_warning_msg=_LOGISTIC_SOLVER_CONVERGENCE_MSG)\n",
            "/usr/local/lib/python3.7/dist-packages/sklearn/linear_model/_logistic.py:940: ConvergenceWarning: lbfgs failed to converge (status=1):\n",
            "STOP: TOTAL NO. of ITERATIONS REACHED LIMIT.\n",
            "\n",
            "Increase the number of iterations (max_iter) or scale the data as shown in:\n",
            "    https://scikit-learn.org/stable/modules/preprocessing.html\n",
            "Please also refer to the documentation for alternative solver options:\n",
            "    https://scikit-learn.org/stable/modules/linear_model.html#logistic-regression\n",
            "  extra_warning_msg=_LOGISTIC_SOLVER_CONVERGENCE_MSG)\n",
            "/usr/local/lib/python3.7/dist-packages/sklearn/linear_model/_logistic.py:940: ConvergenceWarning: lbfgs failed to converge (status=1):\n",
            "STOP: TOTAL NO. of ITERATIONS REACHED LIMIT.\n",
            "\n",
            "Increase the number of iterations (max_iter) or scale the data as shown in:\n",
            "    https://scikit-learn.org/stable/modules/preprocessing.html\n",
            "Please also refer to the documentation for alternative solver options:\n",
            "    https://scikit-learn.org/stable/modules/linear_model.html#logistic-regression\n",
            "  extra_warning_msg=_LOGISTIC_SOLVER_CONVERGENCE_MSG)\n",
            "/usr/local/lib/python3.7/dist-packages/sklearn/linear_model/_logistic.py:940: ConvergenceWarning: lbfgs failed to converge (status=1):\n",
            "STOP: TOTAL NO. of ITERATIONS REACHED LIMIT.\n",
            "\n",
            "Increase the number of iterations (max_iter) or scale the data as shown in:\n",
            "    https://scikit-learn.org/stable/modules/preprocessing.html\n",
            "Please also refer to the documentation for alternative solver options:\n",
            "    https://scikit-learn.org/stable/modules/linear_model.html#logistic-regression\n",
            "  extra_warning_msg=_LOGISTIC_SOLVER_CONVERGENCE_MSG)\n",
            "/usr/local/lib/python3.7/dist-packages/sklearn/linear_model/_logistic.py:940: ConvergenceWarning: lbfgs failed to converge (status=1):\n",
            "STOP: TOTAL NO. of ITERATIONS REACHED LIMIT.\n",
            "\n",
            "Increase the number of iterations (max_iter) or scale the data as shown in:\n",
            "    https://scikit-learn.org/stable/modules/preprocessing.html\n",
            "Please also refer to the documentation for alternative solver options:\n",
            "    https://scikit-learn.org/stable/modules/linear_model.html#logistic-regression\n",
            "  extra_warning_msg=_LOGISTIC_SOLVER_CONVERGENCE_MSG)\n",
            "/usr/local/lib/python3.7/dist-packages/sklearn/linear_model/_logistic.py:940: ConvergenceWarning: lbfgs failed to converge (status=1):\n",
            "STOP: TOTAL NO. of ITERATIONS REACHED LIMIT.\n",
            "\n",
            "Increase the number of iterations (max_iter) or scale the data as shown in:\n",
            "    https://scikit-learn.org/stable/modules/preprocessing.html\n",
            "Please also refer to the documentation for alternative solver options:\n",
            "    https://scikit-learn.org/stable/modules/linear_model.html#logistic-regression\n",
            "  extra_warning_msg=_LOGISTIC_SOLVER_CONVERGENCE_MSG)\n",
            "/usr/local/lib/python3.7/dist-packages/sklearn/linear_model/_logistic.py:940: ConvergenceWarning: lbfgs failed to converge (status=1):\n",
            "STOP: TOTAL NO. of ITERATIONS REACHED LIMIT.\n",
            "\n",
            "Increase the number of iterations (max_iter) or scale the data as shown in:\n",
            "    https://scikit-learn.org/stable/modules/preprocessing.html\n",
            "Please also refer to the documentation for alternative solver options:\n",
            "    https://scikit-learn.org/stable/modules/linear_model.html#logistic-regression\n",
            "  extra_warning_msg=_LOGISTIC_SOLVER_CONVERGENCE_MSG)\n",
            "/usr/local/lib/python3.7/dist-packages/sklearn/linear_model/_logistic.py:940: ConvergenceWarning: lbfgs failed to converge (status=1):\n",
            "STOP: TOTAL NO. of ITERATIONS REACHED LIMIT.\n",
            "\n",
            "Increase the number of iterations (max_iter) or scale the data as shown in:\n",
            "    https://scikit-learn.org/stable/modules/preprocessing.html\n",
            "Please also refer to the documentation for alternative solver options:\n",
            "    https://scikit-learn.org/stable/modules/linear_model.html#logistic-regression\n",
            "  extra_warning_msg=_LOGISTIC_SOLVER_CONVERGENCE_MSG)\n",
            "/usr/local/lib/python3.7/dist-packages/sklearn/linear_model/_logistic.py:940: ConvergenceWarning: lbfgs failed to converge (status=1):\n",
            "STOP: TOTAL NO. of ITERATIONS REACHED LIMIT.\n",
            "\n",
            "Increase the number of iterations (max_iter) or scale the data as shown in:\n",
            "    https://scikit-learn.org/stable/modules/preprocessing.html\n",
            "Please also refer to the documentation for alternative solver options:\n",
            "    https://scikit-learn.org/stable/modules/linear_model.html#logistic-regression\n",
            "  extra_warning_msg=_LOGISTIC_SOLVER_CONVERGENCE_MSG)\n",
            "/usr/local/lib/python3.7/dist-packages/sklearn/linear_model/_logistic.py:940: ConvergenceWarning: lbfgs failed to converge (status=1):\n",
            "STOP: TOTAL NO. of ITERATIONS REACHED LIMIT.\n",
            "\n",
            "Increase the number of iterations (max_iter) or scale the data as shown in:\n",
            "    https://scikit-learn.org/stable/modules/preprocessing.html\n",
            "Please also refer to the documentation for alternative solver options:\n",
            "    https://scikit-learn.org/stable/modules/linear_model.html#logistic-regression\n",
            "  extra_warning_msg=_LOGISTIC_SOLVER_CONVERGENCE_MSG)\n",
            "/usr/local/lib/python3.7/dist-packages/sklearn/linear_model/_logistic.py:940: ConvergenceWarning: lbfgs failed to converge (status=1):\n",
            "STOP: TOTAL NO. of ITERATIONS REACHED LIMIT.\n",
            "\n",
            "Increase the number of iterations (max_iter) or scale the data as shown in:\n",
            "    https://scikit-learn.org/stable/modules/preprocessing.html\n",
            "Please also refer to the documentation for alternative solver options:\n",
            "    https://scikit-learn.org/stable/modules/linear_model.html#logistic-regression\n",
            "  extra_warning_msg=_LOGISTIC_SOLVER_CONVERGENCE_MSG)\n"
          ],
          "name": "stderr"
        },
        {
          "output_type": "stream",
          "text": [
            "[INFO] best hyperparameters: {'C': 10000.0}\n",
            "[INFO] dumping classifier...\n",
            "[INFO] best hyperparameters: {'min_samples_leaf': 10, 'max_features': 10, 'max_depth': None}\n",
            "[INFO] dumping classifier...\n",
            "[INFO] best hyperparameters: {'min_samples_leaf': 3, 'max_features': 10, 'max_depth': None, 'criterion': 'entropy', 'bootstrap': False}\n",
            "[INFO] dumping classifier...\n",
            "[INFO] gathering train/test splits...\n",
            "[INFO] tuning hyperparameters...\n"
          ],
          "name": "stdout"
        },
        {
          "output_type": "stream",
          "text": [
            "/usr/local/lib/python3.7/dist-packages/frimcla/train.py:52: H5pyDeprecationWarning: The default file mode will change to 'r' (read-only) in h5py 3.0. To suppress this warning, pass the mode you need to h5py.File(), or set the global default h5.get_config().default_file_mode, or set the environment variable H5PY_DEFAULT_READONLY=1. Available modes are: 'r', 'r+', 'w', 'w-'/'x', 'a'. See the docs for details.\n",
            "  db = h5py.File(featuresPath)\n",
            "/usr/local/lib/python3.7/dist-packages/sklearn/neural_network/_multilayer_perceptron.py:470: ConvergenceWarning: lbfgs failed to converge (status=1):\n",
            "STOP: TOTAL NO. of ITERATIONS REACHED LIMIT.\n",
            "\n",
            "Increase the number of iterations (max_iter) or scale the data as shown in:\n",
            "    https://scikit-learn.org/stable/modules/preprocessing.html\n",
            "  self.n_iter_ = _check_optimize_result(\"lbfgs\", opt_res, self.max_iter)\n",
            "/usr/local/lib/python3.7/dist-packages/sklearn/neural_network/_multilayer_perceptron.py:470: ConvergenceWarning: lbfgs failed to converge (status=1):\n",
            "STOP: TOTAL NO. of ITERATIONS REACHED LIMIT.\n",
            "\n",
            "Increase the number of iterations (max_iter) or scale the data as shown in:\n",
            "    https://scikit-learn.org/stable/modules/preprocessing.html\n",
            "  self.n_iter_ = _check_optimize_result(\"lbfgs\", opt_res, self.max_iter)\n",
            "/usr/local/lib/python3.7/dist-packages/sklearn/neural_network/_multilayer_perceptron.py:470: ConvergenceWarning: lbfgs failed to converge (status=1):\n",
            "STOP: TOTAL NO. of ITERATIONS REACHED LIMIT.\n",
            "\n",
            "Increase the number of iterations (max_iter) or scale the data as shown in:\n",
            "    https://scikit-learn.org/stable/modules/preprocessing.html\n",
            "  self.n_iter_ = _check_optimize_result(\"lbfgs\", opt_res, self.max_iter)\n",
            "/usr/local/lib/python3.7/dist-packages/sklearn/neural_network/_multilayer_perceptron.py:470: ConvergenceWarning: lbfgs failed to converge (status=1):\n",
            "STOP: TOTAL NO. of ITERATIONS REACHED LIMIT.\n",
            "\n",
            "Increase the number of iterations (max_iter) or scale the data as shown in:\n",
            "    https://scikit-learn.org/stable/modules/preprocessing.html\n",
            "  self.n_iter_ = _check_optimize_result(\"lbfgs\", opt_res, self.max_iter)\n",
            "/usr/local/lib/python3.7/dist-packages/sklearn/neural_network/_multilayer_perceptron.py:470: ConvergenceWarning: lbfgs failed to converge (status=1):\n",
            "STOP: TOTAL NO. of ITERATIONS REACHED LIMIT.\n",
            "\n",
            "Increase the number of iterations (max_iter) or scale the data as shown in:\n",
            "    https://scikit-learn.org/stable/modules/preprocessing.html\n",
            "  self.n_iter_ = _check_optimize_result(\"lbfgs\", opt_res, self.max_iter)\n",
            "/usr/local/lib/python3.7/dist-packages/sklearn/neural_network/_multilayer_perceptron.py:470: ConvergenceWarning: lbfgs failed to converge (status=1):\n",
            "STOP: TOTAL NO. of ITERATIONS REACHED LIMIT.\n",
            "\n",
            "Increase the number of iterations (max_iter) or scale the data as shown in:\n",
            "    https://scikit-learn.org/stable/modules/preprocessing.html\n",
            "  self.n_iter_ = _check_optimize_result(\"lbfgs\", opt_res, self.max_iter)\n",
            "/usr/local/lib/python3.7/dist-packages/sklearn/neural_network/_multilayer_perceptron.py:470: ConvergenceWarning: lbfgs failed to converge (status=1):\n",
            "STOP: TOTAL NO. of ITERATIONS REACHED LIMIT.\n",
            "\n",
            "Increase the number of iterations (max_iter) or scale the data as shown in:\n",
            "    https://scikit-learn.org/stable/modules/preprocessing.html\n",
            "  self.n_iter_ = _check_optimize_result(\"lbfgs\", opt_res, self.max_iter)\n",
            "/usr/local/lib/python3.7/dist-packages/sklearn/neural_network/_multilayer_perceptron.py:470: ConvergenceWarning: lbfgs failed to converge (status=1):\n",
            "STOP: TOTAL NO. of ITERATIONS REACHED LIMIT.\n",
            "\n",
            "Increase the number of iterations (max_iter) or scale the data as shown in:\n",
            "    https://scikit-learn.org/stable/modules/preprocessing.html\n",
            "  self.n_iter_ = _check_optimize_result(\"lbfgs\", opt_res, self.max_iter)\n",
            "/usr/local/lib/python3.7/dist-packages/sklearn/neural_network/_multilayer_perceptron.py:571: ConvergenceWarning: Stochastic Optimizer: Maximum iterations (200) reached and the optimization hasn't converged yet.\n",
            "  % self.max_iter, ConvergenceWarning)\n",
            "/usr/local/lib/python3.7/dist-packages/sklearn/neural_network/_multilayer_perceptron.py:571: ConvergenceWarning: Stochastic Optimizer: Maximum iterations (200) reached and the optimization hasn't converged yet.\n",
            "  % self.max_iter, ConvergenceWarning)\n",
            "/usr/local/lib/python3.7/dist-packages/sklearn/neural_network/_multilayer_perceptron.py:571: ConvergenceWarning: Stochastic Optimizer: Maximum iterations (200) reached and the optimization hasn't converged yet.\n",
            "  % self.max_iter, ConvergenceWarning)\n",
            "/usr/local/lib/python3.7/dist-packages/sklearn/neural_network/_multilayer_perceptron.py:571: ConvergenceWarning: Stochastic Optimizer: Maximum iterations (200) reached and the optimization hasn't converged yet.\n",
            "  % self.max_iter, ConvergenceWarning)\n",
            "/usr/local/lib/python3.7/dist-packages/sklearn/neural_network/_multilayer_perceptron.py:571: ConvergenceWarning: Stochastic Optimizer: Maximum iterations (200) reached and the optimization hasn't converged yet.\n",
            "  % self.max_iter, ConvergenceWarning)\n",
            "/usr/local/lib/python3.7/dist-packages/sklearn/neural_network/_multilayer_perceptron.py:571: ConvergenceWarning: Stochastic Optimizer: Maximum iterations (200) reached and the optimization hasn't converged yet.\n",
            "  % self.max_iter, ConvergenceWarning)\n",
            "/usr/local/lib/python3.7/dist-packages/sklearn/neural_network/_multilayer_perceptron.py:571: ConvergenceWarning: Stochastic Optimizer: Maximum iterations (200) reached and the optimization hasn't converged yet.\n",
            "  % self.max_iter, ConvergenceWarning)\n",
            "/usr/local/lib/python3.7/dist-packages/sklearn/neural_network/_multilayer_perceptron.py:571: ConvergenceWarning: Stochastic Optimizer: Maximum iterations (200) reached and the optimization hasn't converged yet.\n",
            "  % self.max_iter, ConvergenceWarning)\n",
            "/usr/local/lib/python3.7/dist-packages/sklearn/neural_network/_multilayer_perceptron.py:571: ConvergenceWarning: Stochastic Optimizer: Maximum iterations (200) reached and the optimization hasn't converged yet.\n",
            "  % self.max_iter, ConvergenceWarning)\n",
            "/usr/local/lib/python3.7/dist-packages/sklearn/neural_network/_multilayer_perceptron.py:571: ConvergenceWarning: Stochastic Optimizer: Maximum iterations (200) reached and the optimization hasn't converged yet.\n",
            "  % self.max_iter, ConvergenceWarning)\n",
            "/usr/local/lib/python3.7/dist-packages/sklearn/neural_network/_multilayer_perceptron.py:571: ConvergenceWarning: Stochastic Optimizer: Maximum iterations (200) reached and the optimization hasn't converged yet.\n",
            "  % self.max_iter, ConvergenceWarning)\n",
            "/usr/local/lib/python3.7/dist-packages/sklearn/neural_network/_multilayer_perceptron.py:571: ConvergenceWarning: Stochastic Optimizer: Maximum iterations (200) reached and the optimization hasn't converged yet.\n",
            "  % self.max_iter, ConvergenceWarning)\n",
            "/usr/local/lib/python3.7/dist-packages/sklearn/neural_network/_multilayer_perceptron.py:571: ConvergenceWarning: Stochastic Optimizer: Maximum iterations (200) reached and the optimization hasn't converged yet.\n",
            "  % self.max_iter, ConvergenceWarning)\n",
            "/usr/local/lib/python3.7/dist-packages/sklearn/neural_network/_multilayer_perceptron.py:571: ConvergenceWarning: Stochastic Optimizer: Maximum iterations (200) reached and the optimization hasn't converged yet.\n",
            "  % self.max_iter, ConvergenceWarning)\n",
            "/usr/local/lib/python3.7/dist-packages/sklearn/neural_network/_multilayer_perceptron.py:571: ConvergenceWarning: Stochastic Optimizer: Maximum iterations (200) reached and the optimization hasn't converged yet.\n",
            "  % self.max_iter, ConvergenceWarning)\n",
            "/usr/local/lib/python3.7/dist-packages/sklearn/neural_network/_multilayer_perceptron.py:470: ConvergenceWarning: lbfgs failed to converge (status=1):\n",
            "STOP: TOTAL NO. of ITERATIONS REACHED LIMIT.\n",
            "\n",
            "Increase the number of iterations (max_iter) or scale the data as shown in:\n",
            "    https://scikit-learn.org/stable/modules/preprocessing.html\n",
            "  self.n_iter_ = _check_optimize_result(\"lbfgs\", opt_res, self.max_iter)\n"
          ],
          "name": "stderr"
        },
        {
          "output_type": "stream",
          "text": [
            "[INFO] best hyperparameters: {'activation': 'logistic', 'alpha': 0, 'learning_rate': 'invscaling', 'momentum': 0.9, 'solver': 'lbfgs'}\n",
            "[INFO] dumping classifier...\n",
            "[INFO] best hyperparameters: {'kernel': 'linear', 'gamma': 0.0001, 'C': 1000}\n",
            "[INFO] dumping classifier...\n",
            "[INFO] best hyperparameters: {'n_neighbors': 5}\n",
            "[INFO] dumping classifier...\n"
          ],
          "name": "stdout"
        },
        {
          "output_type": "stream",
          "text": [
            "/usr/local/lib/python3.7/dist-packages/sklearn/linear_model/_logistic.py:940: ConvergenceWarning: lbfgs failed to converge (status=1):\n",
            "STOP: TOTAL NO. of ITERATIONS REACHED LIMIT.\n",
            "\n",
            "Increase the number of iterations (max_iter) or scale the data as shown in:\n",
            "    https://scikit-learn.org/stable/modules/preprocessing.html\n",
            "Please also refer to the documentation for alternative solver options:\n",
            "    https://scikit-learn.org/stable/modules/linear_model.html#logistic-regression\n",
            "  extra_warning_msg=_LOGISTIC_SOLVER_CONVERGENCE_MSG)\n",
            "/usr/local/lib/python3.7/dist-packages/sklearn/linear_model/_logistic.py:940: ConvergenceWarning: lbfgs failed to converge (status=1):\n",
            "STOP: TOTAL NO. of ITERATIONS REACHED LIMIT.\n",
            "\n",
            "Increase the number of iterations (max_iter) or scale the data as shown in:\n",
            "    https://scikit-learn.org/stable/modules/preprocessing.html\n",
            "Please also refer to the documentation for alternative solver options:\n",
            "    https://scikit-learn.org/stable/modules/linear_model.html#logistic-regression\n",
            "  extra_warning_msg=_LOGISTIC_SOLVER_CONVERGENCE_MSG)\n",
            "/usr/local/lib/python3.7/dist-packages/sklearn/linear_model/_logistic.py:940: ConvergenceWarning: lbfgs failed to converge (status=1):\n",
            "STOP: TOTAL NO. of ITERATIONS REACHED LIMIT.\n",
            "\n",
            "Increase the number of iterations (max_iter) or scale the data as shown in:\n",
            "    https://scikit-learn.org/stable/modules/preprocessing.html\n",
            "Please also refer to the documentation for alternative solver options:\n",
            "    https://scikit-learn.org/stable/modules/linear_model.html#logistic-regression\n",
            "  extra_warning_msg=_LOGISTIC_SOLVER_CONVERGENCE_MSG)\n",
            "/usr/local/lib/python3.7/dist-packages/sklearn/linear_model/_logistic.py:940: ConvergenceWarning: lbfgs failed to converge (status=1):\n",
            "STOP: TOTAL NO. of ITERATIONS REACHED LIMIT.\n",
            "\n",
            "Increase the number of iterations (max_iter) or scale the data as shown in:\n",
            "    https://scikit-learn.org/stable/modules/preprocessing.html\n",
            "Please also refer to the documentation for alternative solver options:\n",
            "    https://scikit-learn.org/stable/modules/linear_model.html#logistic-regression\n",
            "  extra_warning_msg=_LOGISTIC_SOLVER_CONVERGENCE_MSG)\n",
            "/usr/local/lib/python3.7/dist-packages/sklearn/linear_model/_logistic.py:940: ConvergenceWarning: lbfgs failed to converge (status=1):\n",
            "STOP: TOTAL NO. of ITERATIONS REACHED LIMIT.\n",
            "\n",
            "Increase the number of iterations (max_iter) or scale the data as shown in:\n",
            "    https://scikit-learn.org/stable/modules/preprocessing.html\n",
            "Please also refer to the documentation for alternative solver options:\n",
            "    https://scikit-learn.org/stable/modules/linear_model.html#logistic-regression\n",
            "  extra_warning_msg=_LOGISTIC_SOLVER_CONVERGENCE_MSG)\n",
            "/usr/local/lib/python3.7/dist-packages/sklearn/linear_model/_logistic.py:940: ConvergenceWarning: lbfgs failed to converge (status=1):\n",
            "STOP: TOTAL NO. of ITERATIONS REACHED LIMIT.\n",
            "\n",
            "Increase the number of iterations (max_iter) or scale the data as shown in:\n",
            "    https://scikit-learn.org/stable/modules/preprocessing.html\n",
            "Please also refer to the documentation for alternative solver options:\n",
            "    https://scikit-learn.org/stable/modules/linear_model.html#logistic-regression\n",
            "  extra_warning_msg=_LOGISTIC_SOLVER_CONVERGENCE_MSG)\n"
          ],
          "name": "stderr"
        },
        {
          "output_type": "stream",
          "text": [
            "[INFO] best hyperparameters: {'C': 1000.0}\n",
            "[INFO] dumping classifier...\n",
            "[INFO] best hyperparameters: {'min_samples_leaf': 3, 'max_features': 10, 'max_depth': 3}\n",
            "[INFO] dumping classifier...\n",
            "[INFO] best hyperparameters: {'min_samples_leaf': 1, 'max_features': 3, 'max_depth': None, 'criterion': 'entropy', 'bootstrap': False}\n",
            "[INFO] dumping classifier...\n",
            "Do you want to generate a web app to classify the images with the best combination? y/n\n",
            "y\n"
          ],
          "name": "stdout"
        },
        {
          "output_type": "execute_result",
          "data": {
            "text/plain": [
              "303.0840964317322"
            ]
          },
          "metadata": {
            "tags": []
          },
          "execution_count": 12
        }
      ]
    },
    {
      "cell_type": "markdown",
      "metadata": {
        "id": "RU8fmtbffTDi"
      },
      "source": [
        "### Predict the class of the images"
      ]
    },
    {
      "cell_type": "markdown",
      "metadata": {
        "id": "8u6mLgC8fTDj"
      },
      "source": [
        "Finally, we have the best model and we can use it to predict the class of our images. To do this we have to use the following command and we have to define the feature extractor and the classifier."
      ]
    },
    {
      "cell_type": "code",
      "metadata": {
        "id": "dYh9iMmTfTDk",
        "colab": {
          "base_uri": "https://localhost:8080/"
        },
        "outputId": "093906c9-cc4c-4145-95d3-4163aec956bc"
      },
      "source": [
        "image = \"./Mias/NORMAL/mdb035.jpg\"\n",
        "featExt = [\"inception\", \"False\"]\n",
        "classi = \"SVM\"\n",
        "prediction(featExt, classi, image, outputPath, datasetPath)"
      ],
      "execution_count": null,
      "outputs": [
        {
          "output_type": "stream",
          "text": [
            "[INFO] loading model...\n",
            "This is not the best model. Are you sure you want to predict with it?\n",
            "yes\n"
          ],
          "name": "stdout"
        },
        {
          "output_type": "stream",
          "text": [
            "/usr/local/lib/python3.7/dist-packages/frimcla/prediction.py:65: H5pyDeprecationWarning: The default file mode will change to 'r' (read-only) in h5py 3.0. To suppress this warning, pass the mode you need to h5py.File(), or set the global default h5.get_config().default_file_mode, or set the environment variable H5PY_DEFAULT_READONLY=1. Available modes are: 'r', 'r+', 'w', 'w-'/'x', 'a'. See the docs for details.\n",
            "  db = h5py.File(featuresPath)\n",
            "/usr/local/lib/python3.7/dist-packages/sklearn/neural_network/_multilayer_perceptron.py:571: ConvergenceWarning: Stochastic Optimizer: Maximum iterations (200) reached and the optimization hasn't converged yet.\n",
            "  % self.max_iter, ConvergenceWarning)\n",
            "/usr/local/lib/python3.7/dist-packages/sklearn/neural_network/_multilayer_perceptron.py:571: ConvergenceWarning: Stochastic Optimizer: Maximum iterations (200) reached and the optimization hasn't converged yet.\n",
            "  % self.max_iter, ConvergenceWarning)\n",
            "/usr/local/lib/python3.7/dist-packages/sklearn/neural_network/_multilayer_perceptron.py:571: ConvergenceWarning: Stochastic Optimizer: Maximum iterations (200) reached and the optimization hasn't converged yet.\n",
            "  % self.max_iter, ConvergenceWarning)\n",
            "/usr/local/lib/python3.7/dist-packages/sklearn/neural_network/_multilayer_perceptron.py:571: ConvergenceWarning: Stochastic Optimizer: Maximum iterations (200) reached and the optimization hasn't converged yet.\n",
            "  % self.max_iter, ConvergenceWarning)\n",
            "/usr/local/lib/python3.7/dist-packages/sklearn/neural_network/_multilayer_perceptron.py:571: ConvergenceWarning: Stochastic Optimizer: Maximum iterations (200) reached and the optimization hasn't converged yet.\n",
            "  % self.max_iter, ConvergenceWarning)\n",
            "/usr/local/lib/python3.7/dist-packages/sklearn/neural_network/_multilayer_perceptron.py:470: ConvergenceWarning: lbfgs failed to converge (status=1):\n",
            "STOP: TOTAL NO. of ITERATIONS REACHED LIMIT.\n",
            "\n",
            "Increase the number of iterations (max_iter) or scale the data as shown in:\n",
            "    https://scikit-learn.org/stable/modules/preprocessing.html\n",
            "  self.n_iter_ = _check_optimize_result(\"lbfgs\", opt_res, self.max_iter)\n",
            "/usr/local/lib/python3.7/dist-packages/sklearn/neural_network/_multilayer_perceptron.py:470: ConvergenceWarning: lbfgs failed to converge (status=1):\n",
            "STOP: TOTAL NO. of ITERATIONS REACHED LIMIT.\n",
            "\n",
            "Increase the number of iterations (max_iter) or scale the data as shown in:\n",
            "    https://scikit-learn.org/stable/modules/preprocessing.html\n",
            "  self.n_iter_ = _check_optimize_result(\"lbfgs\", opt_res, self.max_iter)\n",
            "/usr/local/lib/python3.7/dist-packages/sklearn/neural_network/_multilayer_perceptron.py:470: ConvergenceWarning: lbfgs failed to converge (status=1):\n",
            "STOP: TOTAL NO. of ITERATIONS REACHED LIMIT.\n",
            "\n",
            "Increase the number of iterations (max_iter) or scale the data as shown in:\n",
            "    https://scikit-learn.org/stable/modules/preprocessing.html\n",
            "  self.n_iter_ = _check_optimize_result(\"lbfgs\", opt_res, self.max_iter)\n",
            "/usr/local/lib/python3.7/dist-packages/sklearn/neural_network/_multilayer_perceptron.py:470: ConvergenceWarning: lbfgs failed to converge (status=1):\n",
            "STOP: TOTAL NO. of ITERATIONS REACHED LIMIT.\n",
            "\n",
            "Increase the number of iterations (max_iter) or scale the data as shown in:\n",
            "    https://scikit-learn.org/stable/modules/preprocessing.html\n",
            "  self.n_iter_ = _check_optimize_result(\"lbfgs\", opt_res, self.max_iter)\n",
            "/usr/local/lib/python3.7/dist-packages/sklearn/neural_network/_multilayer_perceptron.py:470: ConvergenceWarning: lbfgs failed to converge (status=1):\n",
            "STOP: TOTAL NO. of ITERATIONS REACHED LIMIT.\n",
            "\n",
            "Increase the number of iterations (max_iter) or scale the data as shown in:\n",
            "    https://scikit-learn.org/stable/modules/preprocessing.html\n",
            "  self.n_iter_ = _check_optimize_result(\"lbfgs\", opt_res, self.max_iter)\n",
            "/usr/local/lib/python3.7/dist-packages/sklearn/neural_network/_multilayer_perceptron.py:470: ConvergenceWarning: lbfgs failed to converge (status=1):\n",
            "STOP: TOTAL NO. of ITERATIONS REACHED LIMIT.\n",
            "\n",
            "Increase the number of iterations (max_iter) or scale the data as shown in:\n",
            "    https://scikit-learn.org/stable/modules/preprocessing.html\n",
            "  self.n_iter_ = _check_optimize_result(\"lbfgs\", opt_res, self.max_iter)\n",
            "/usr/local/lib/python3.7/dist-packages/sklearn/neural_network/_multilayer_perceptron.py:571: ConvergenceWarning: Stochastic Optimizer: Maximum iterations (200) reached and the optimization hasn't converged yet.\n",
            "  % self.max_iter, ConvergenceWarning)\n",
            "/usr/local/lib/python3.7/dist-packages/sklearn/neural_network/_multilayer_perceptron.py:571: ConvergenceWarning: Stochastic Optimizer: Maximum iterations (200) reached and the optimization hasn't converged yet.\n",
            "  % self.max_iter, ConvergenceWarning)\n",
            "/usr/local/lib/python3.7/dist-packages/sklearn/neural_network/_multilayer_perceptron.py:571: ConvergenceWarning: Stochastic Optimizer: Maximum iterations (200) reached and the optimization hasn't converged yet.\n",
            "  % self.max_iter, ConvergenceWarning)\n",
            "/usr/local/lib/python3.7/dist-packages/sklearn/neural_network/_multilayer_perceptron.py:571: ConvergenceWarning: Stochastic Optimizer: Maximum iterations (200) reached and the optimization hasn't converged yet.\n",
            "  % self.max_iter, ConvergenceWarning)\n",
            "/usr/local/lib/python3.7/dist-packages/sklearn/neural_network/_multilayer_perceptron.py:571: ConvergenceWarning: Stochastic Optimizer: Maximum iterations (200) reached and the optimization hasn't converged yet.\n",
            "  % self.max_iter, ConvergenceWarning)\n"
          ],
          "name": "stderr"
        },
        {
          "output_type": "stream",
          "text": [
            "[INFO] loading ['inception', 'False']...\n",
            "WARNING:tensorflow:From /tensorflow-1.15.2/python3.7/tensorflow_core/python/ops/resource_variable_ops.py:1630: calling BaseResourceVariable.__init__ (from tensorflow.python.ops.resource_variable_ops) with constraint is deprecated and will be removed in a future version.\n",
            "Instructions for updating:\n",
            "If using Keras pass *_constraint arguments to layers.\n"
          ],
          "name": "stdout"
        },
        {
          "output_type": "stream",
          "text": [
            "/usr/local/lib/python3.7/dist-packages/sklearn/neural_network/_multilayer_perceptron.py:470: ConvergenceWarning: lbfgs failed to converge (status=1):\n",
            "STOP: TOTAL NO. of ITERATIONS REACHED LIMIT.\n",
            "\n",
            "Increase the number of iterations (max_iter) or scale the data as shown in:\n",
            "    https://scikit-learn.org/stable/modules/preprocessing.html\n",
            "  self.n_iter_ = _check_optimize_result(\"lbfgs\", opt_res, self.max_iter)\n"
          ],
          "name": "stderr"
        },
        {
          "output_type": "stream",
          "text": [
            "WARNING:tensorflow:From /tensorflow-1.15.2/python3.7/keras/backend/tensorflow_backend.py:4070: The name tf.nn.max_pool is deprecated. Please use tf.nn.max_pool2d instead.\n",
            "\n",
            "WARNING:tensorflow:From /tensorflow-1.15.2/python3.7/keras/backend/tensorflow_backend.py:4074: The name tf.nn.avg_pool is deprecated. Please use tf.nn.avg_pool2d instead.\n",
            "\n",
            "WARNING:tensorflow:From /tensorflow-1.15.2/python3.7/keras/backend/tensorflow_backend.py:422: The name tf.global_variables is deprecated. Please use tf.compat.v1.global_variables instead.\n",
            "\n",
            "[INFO] class predicted for the image NORMAL:mdb035.jpg: ['NORMAL']\n"
          ],
          "name": "stdout"
        },
        {
          "output_type": "execute_result",
          "data": {
            "text/plain": [
              "[array(['NORMAL'], dtype='<U8')]"
            ]
          },
          "metadata": {
            "tags": []
          },
          "execution_count": 13
        }
      ]
    },
    {
      "cell_type": "code",
      "metadata": {
        "id": "hZdfLLy-fTDp",
        "colab": {
          "base_uri": "https://localhost:8080/"
        },
        "outputId": "b7a1f0c8-e89f-412a-b0f1-66e973ade1cd"
      },
      "source": [
        "!cat output/Mias/predictionResults.csv"
      ],
      "execution_count": null,
      "outputs": [
        {
          "output_type": "stream",
          "text": [
            "image_id, Mias\n",
            "NORMAL:mdb035.jpg, 1\r\n"
          ],
          "name": "stdout"
        }
      ]
    }
  ]
}