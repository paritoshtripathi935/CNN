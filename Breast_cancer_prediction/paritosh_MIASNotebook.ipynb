{
  "nbformat": 4,
  "nbformat_minor": 0,
  "metadata": {
    "accelerator": "GPU",
    "colab": {
      "name": "paritosh_MIASNotebook.ipynb",
      "provenance": [],
      "collapsed_sections": [],
      "include_colab_link": true
    },
    "kernelspec": {
      "display_name": "Python 3",
      "language": "python",
      "name": "python3"
    },
    "language_info": {
      "codemirror_mode": {
        "name": "ipython",
        "version": 3
      },
      "file_extension": ".py",
      "mimetype": "text/x-python",
      "name": "python",
      "nbconvert_exporter": "python",
      "pygments_lexer": "ipython3",
      "version": "3.6.7"
    }
  },
  "cells": [
    {
      "cell_type": "markdown",
      "metadata": {
        "id": "view-in-github",
        "colab_type": "text"
      },
      "source": [
        "<a href=\"https://colab.research.google.com/github/paritoshtripathi935/Mias_Breast_cancer_detection/blob/main/paritosh_MIASNotebook.ipynb\" target=\"_parent\"><img src=\"https://colab.research.google.com/assets/colab-badge.svg\" alt=\"Open In Colab\"/></a>"
      ]
    },
    {
      "cell_type": "markdown",
      "metadata": {
        "id": "Y3PSyhESk3yr"
      },
      "source": [
        "To speed the execution procces, Colaboraty has an option to use GPU. This option is selected by default."
      ]
    },
    {
      "cell_type": "markdown",
      "metadata": {
        "id": "CTUuks4nfTCo"
      },
      "source": [
        "MIAS dataset"
      ]
    },
    {
      "cell_type": "markdown",
      "metadata": {
        "id": "zP-lYizz7eKl"
      },
      "source": [
        ""
      ]
    },
    {
      "cell_type": "code",
      "metadata": {
        "colab": {
          "base_uri": "https://localhost:8080/"
        },
        "id": "H24zEvoYfTCs",
        "outputId": "84c97e92-0792-4ecc-8e8f-f14a886584a6"
      },
      "source": [
        "!wget \"https://drive.google.com/uc?id=1ZApIHn-EvoQ6sdgJWhgfM3rmEEXWvXRJ&export=download&authuser=0\" -O mias.zip\n",
        "!unzip mias.zip"
      ],
      "execution_count": null,
      "outputs": [
        {
          "output_type": "stream",
          "name": "stdout",
          "text": [
            "--2021-10-17 13:58:14--  https://drive.google.com/uc?id=1ZApIHn-EvoQ6sdgJWhgfM3rmEEXWvXRJ&export=download&authuser=0\n",
            "Resolving drive.google.com (drive.google.com)... 142.250.152.100, 142.250.152.102, 142.250.152.138, ...\n",
            "Connecting to drive.google.com (drive.google.com)|142.250.152.100|:443... connected.\n",
            "HTTP request sent, awaiting response... 302 Moved Temporarily\n",
            "Location: https://drive.google.com/uc?id=1ZApIHn-EvoQ6sdgJWhgfM3rmEEXWvXRJ&export=download [following]\n",
            "--2021-10-17 13:58:14--  https://drive.google.com/uc?id=1ZApIHn-EvoQ6sdgJWhgfM3rmEEXWvXRJ&export=download\n",
            "Reusing existing connection to drive.google.com:443.\n",
            "HTTP request sent, awaiting response... 302 Moved Temporarily\n",
            "Location: https://doc-0g-3s-docs.googleusercontent.com/docs/securesc/ha0ro937gcuc7l7deffksulhg5h7mbp1/sfib673318k1olge17790e92ueftrqu7/1634479050000/05147614325801676241/*/1ZApIHn-EvoQ6sdgJWhgfM3rmEEXWvXRJ?e=download [following]\n",
            "Warning: wildcards not supported in HTTP.\n",
            "--2021-10-17 13:58:18--  https://doc-0g-3s-docs.googleusercontent.com/docs/securesc/ha0ro937gcuc7l7deffksulhg5h7mbp1/sfib673318k1olge17790e92ueftrqu7/1634479050000/05147614325801676241/*/1ZApIHn-EvoQ6sdgJWhgfM3rmEEXWvXRJ?e=download\n",
            "Resolving doc-0g-3s-docs.googleusercontent.com (doc-0g-3s-docs.googleusercontent.com)... 108.177.120.132, 2607:f8b0:4001:c18::84\n",
            "Connecting to doc-0g-3s-docs.googleusercontent.com (doc-0g-3s-docs.googleusercontent.com)|108.177.120.132|:443... connected.\n",
            "HTTP request sent, awaiting response... 200 OK\n",
            "Length: 2955320 (2.8M) [application/zip]\n",
            "Saving to: ‘mias.zip’\n",
            "\n",
            "mias.zip            100%[===================>]   2.82M  --.-KB/s    in 0.02s   \n",
            "\n",
            "2021-10-17 13:58:18 (131 MB/s) - ‘mias.zip’ saved [2955320/2955320]\n",
            "\n",
            "Archive:  mias.zip\n",
            "replace Mias/ABNORMAL/mdb001.jpg? [y]es, [n]o, [A]ll, [N]one, [r]ename: All\n",
            "  inflating: Mias/ABNORMAL/mdb001.jpg  \n",
            "  inflating: Mias/ABNORMAL/mdb005.jpg  \n",
            "  inflating: Mias/ABNORMAL/mdb010.jpg  \n",
            "  inflating: Mias/ABNORMAL/mdb012.jpg  \n",
            "  inflating: Mias/ABNORMAL/mdb013.jpg  \n",
            "  inflating: Mias/ABNORMAL/mdb015.jpg  \n",
            "  inflating: Mias/ABNORMAL/mdb017.jpg  \n",
            "  inflating: Mias/ABNORMAL/mdb019.jpg  \n",
            "  inflating: Mias/ABNORMAL/mdb021.jpg  \n",
            "  inflating: Mias/ABNORMAL/mdb023.jpg  \n",
            "  inflating: Mias/ABNORMAL/mdb028.jpg  \n",
            "  inflating: Mias/ABNORMAL/mdb030.jpg  \n",
            "  inflating: Mias/ABNORMAL/mdb032.jpg  \n",
            "  inflating: Mias/ABNORMAL/mdb058.jpg  \n",
            "  inflating: Mias/ABNORMAL/mdb063.jpg  \n",
            "  inflating: Mias/ABNORMAL/mdb069.jpg  \n",
            "  inflating: Mias/ABNORMAL/mdb072.jpg  \n",
            "  inflating: Mias/ABNORMAL/mdb075.jpg  \n",
            "  inflating: Mias/ABNORMAL/mdb080.jpg  \n",
            "  inflating: Mias/ABNORMAL/mdb081.jpg  \n",
            "  inflating: Mias/ABNORMAL/mdb083.jpg  \n",
            "  inflating: Mias/ABNORMAL/mdb090.jpg  \n",
            "  inflating: Mias/ABNORMAL/mdb091.jpg  \n",
            "  inflating: Mias/ABNORMAL/mdb092.jpg  \n",
            "  inflating: Mias/ABNORMAL/mdb095.jpg  \n",
            "  inflating: Mias/ABNORMAL/mdb097.jpg  \n",
            "  inflating: Mias/ABNORMAL/mdb102.jpg  \n",
            "  inflating: Mias/ABNORMAL/mdb104.jpg  \n",
            "  inflating: Mias/ABNORMAL/mdb105.jpg  \n",
            "  inflating: Mias/ABNORMAL/mdb107.jpg  \n",
            "  inflating: Mias/ABNORMAL/mdb110.jpg  \n",
            "  inflating: Mias/ABNORMAL/mdb115.jpg  \n",
            "  inflating: Mias/ABNORMAL/mdb117.jpg  \n",
            "  inflating: Mias/ABNORMAL/mdb120.jpg  \n",
            "  inflating: Mias/ABNORMAL/mdb121.jpg  \n",
            "  inflating: Mias/ABNORMAL/mdb124.jpg  \n",
            "  inflating: Mias/ABNORMAL/mdb125.jpg  \n",
            "  inflating: Mias/ABNORMAL/mdb126.jpg  \n",
            "  inflating: Mias/ABNORMAL/mdb127.jpg  \n",
            "  inflating: Mias/ABNORMAL/mdb130.jpg  \n",
            "  inflating: Mias/ABNORMAL/mdb132.jpg  \n",
            "  inflating: Mias/ABNORMAL/mdb134.jpg  \n",
            "  inflating: Mias/ABNORMAL/mdb141.jpg  \n",
            "  inflating: Mias/ABNORMAL/mdb142.jpg  \n",
            "  inflating: Mias/ABNORMAL/mdb144.jpg  \n",
            "  inflating: Mias/ABNORMAL/mdb145.jpg  \n",
            "  inflating: Mias/ABNORMAL/mdb150.jpg  \n",
            "  inflating: Mias/ABNORMAL/mdb152.jpg  \n",
            "  inflating: Mias/ABNORMAL/mdb155.jpg  \n",
            "  inflating: Mias/ABNORMAL/mdb158.jpg  \n",
            "  inflating: Mias/ABNORMAL/mdb160.jpg  \n",
            "  inflating: Mias/ABNORMAL/mdb163.jpg  \n",
            "  inflating: Mias/ABNORMAL/mdb165.jpg  \n",
            "  inflating: Mias/ABNORMAL/mdb167.jpg  \n",
            "  inflating: Mias/ABNORMAL/mdb170.jpg  \n",
            "  inflating: Mias/ABNORMAL/mdb175.jpg  \n",
            "  inflating: Mias/ABNORMAL/mdb178.jpg  \n",
            "  inflating: Mias/ABNORMAL/mdb179.jpg  \n",
            "  inflating: Mias/ABNORMAL/mdb181.jpg  \n",
            "  inflating: Mias/ABNORMAL/mdb184.jpg  \n",
            "  inflating: Mias/ABNORMAL/mdb186.jpg  \n",
            "  inflating: Mias/ABNORMAL/mdb188.jpg  \n",
            "  inflating: Mias/ABNORMAL/mdb190.jpg  \n",
            "  inflating: Mias/ABNORMAL/mdb191.jpg  \n",
            "  inflating: Mias/ABNORMAL/mdb193.jpg  \n",
            "  inflating: Mias/ABNORMAL/mdb195.jpg  \n",
            "  inflating: Mias/ABNORMAL/mdb199.jpg  \n",
            "  inflating: Mias/ABNORMAL/mdb202.jpg  \n",
            "  inflating: Mias/ABNORMAL/mdb204.jpg  \n",
            "  inflating: Mias/ABNORMAL/mdb206.jpg  \n",
            "  inflating: Mias/ABNORMAL/mdb207.jpg  \n",
            "  inflating: Mias/ABNORMAL/mdb209.jpg  \n",
            "  inflating: Mias/ABNORMAL/mdb211.jpg  \n",
            "  inflating: Mias/ABNORMAL/mdb213.jpg  \n",
            "  inflating: Mias/ABNORMAL/mdb218.jpg  \n",
            "  inflating: Mias/ABNORMAL/mdb219.jpg  \n",
            "  inflating: Mias/ABNORMAL/mdb222.jpg  \n",
            "  inflating: Mias/ABNORMAL/mdb223.jpg  \n",
            "  inflating: Mias/ABNORMAL/mdb226.jpg  \n",
            "  inflating: Mias/ABNORMAL/mdb227.jpg  \n",
            "  inflating: Mias/ABNORMAL/mdb231.jpg  \n",
            "  inflating: Mias/ABNORMAL/mdb236.jpg  \n",
            "  inflating: Mias/ABNORMAL/mdb239.jpg  \n",
            "  inflating: Mias/ABNORMAL/mdb240.jpg  \n",
            "  inflating: Mias/ABNORMAL/mdb244.jpg  \n",
            "  inflating: Mias/ABNORMAL/mdb248.jpg  \n",
            "  inflating: Mias/ABNORMAL/mdb249.jpg  \n",
            "  inflating: Mias/ABNORMAL/mdb252.jpg  \n",
            "  inflating: Mias/ABNORMAL/mdb253.jpg  \n",
            "  inflating: Mias/ABNORMAL/mdb256.jpg  \n",
            "  inflating: Mias/ABNORMAL/mdb264.jpg  \n",
            "  inflating: Mias/ABNORMAL/mdb265.jpg  \n",
            "  inflating: Mias/ABNORMAL/mdb267.jpg  \n",
            "  inflating: Mias/ABNORMAL/mdb270.jpg  \n",
            "  inflating: Mias/ABNORMAL/mdb271.jpg  \n",
            "  inflating: Mias/ABNORMAL/mdb290.jpg  \n",
            "  inflating: Mias/ABNORMAL/mdb312.jpg  \n",
            "  inflating: Mias/ABNORMAL/mdb314.jpg  \n",
            "  inflating: Mias/NORMAL/mdb003.jpg  \n",
            "  inflating: Mias/NORMAL/mdb004.jpg  \n",
            "  inflating: Mias/NORMAL/mdb006.jpg  \n",
            "  inflating: Mias/NORMAL/mdb007.jpg  \n",
            "  inflating: Mias/NORMAL/mdb008.jpg  \n",
            "  inflating: Mias/NORMAL/mdb009.jpg  \n",
            "  inflating: Mias/NORMAL/mdb011.jpg  \n",
            "  inflating: Mias/NORMAL/mdb014.jpg  \n",
            "  inflating: Mias/NORMAL/mdb016.jpg  \n",
            "  inflating: Mias/NORMAL/mdb018.jpg  \n",
            "  inflating: Mias/NORMAL/mdb022.jpg  \n",
            "  inflating: Mias/NORMAL/mdb024.jpg  \n",
            "  inflating: Mias/NORMAL/mdb026.jpg  \n",
            "  inflating: Mias/NORMAL/mdb027.jpg  \n",
            "  inflating: Mias/NORMAL/mdb029.jpg  \n",
            "  inflating: Mias/NORMAL/mdb031.jpg  \n",
            "  inflating: Mias/NORMAL/mdb033.jpg  \n",
            "  inflating: Mias/NORMAL/mdb034.jpg  \n",
            "  inflating: Mias/NORMAL/mdb035.jpg  \n",
            "  inflating: Mias/NORMAL/mdb036.jpg  \n",
            "  inflating: Mias/NORMAL/mdb037.jpg  \n",
            "  inflating: Mias/NORMAL/mdb038.jpg  \n",
            "  inflating: Mias/NORMAL/mdb039.jpg  \n",
            "  inflating: Mias/NORMAL/mdb040.jpg  \n",
            "  inflating: Mias/NORMAL/mdb041.jpg  \n",
            "  inflating: Mias/NORMAL/mdb042.jpg  \n",
            "  inflating: Mias/NORMAL/mdb043.jpg  \n",
            "  inflating: Mias/NORMAL/mdb044.jpg  \n",
            "  inflating: Mias/NORMAL/mdb045.jpg  \n",
            "  inflating: Mias/NORMAL/mdb046.jpg  \n",
            "  inflating: Mias/NORMAL/mdb047.jpg  \n",
            "  inflating: Mias/NORMAL/mdb048.jpg  \n",
            "  inflating: Mias/NORMAL/mdb049.jpg  \n",
            "  inflating: Mias/NORMAL/mdb050.jpg  \n",
            "  inflating: Mias/NORMAL/mdb051.jpg  \n",
            "  inflating: Mias/NORMAL/mdb052.jpg  \n",
            "  inflating: Mias/NORMAL/mdb053.jpg  \n",
            "  inflating: Mias/NORMAL/mdb054.jpg  \n",
            "  inflating: Mias/NORMAL/mdb055.jpg  \n",
            "  inflating: Mias/NORMAL/mdb056.jpg  \n",
            "  inflating: Mias/NORMAL/mdb060.jpg  \n",
            "  inflating: Mias/NORMAL/mdb061.jpg  \n",
            "  inflating: Mias/NORMAL/mdb062.jpg  \n",
            "  inflating: Mias/NORMAL/mdb064.jpg  \n",
            "  inflating: Mias/NORMAL/mdb065.jpg  \n",
            "  inflating: Mias/NORMAL/mdb066.jpg  \n",
            "  inflating: Mias/NORMAL/mdb067.jpg  \n",
            "  inflating: Mias/NORMAL/mdb068.jpg  \n",
            "  inflating: Mias/NORMAL/mdb071.jpg  \n",
            "  inflating: Mias/NORMAL/mdb073.jpg  \n",
            "  inflating: Mias/NORMAL/mdb074.jpg  \n",
            "  inflating: Mias/NORMAL/mdb076.jpg  \n",
            "  inflating: Mias/NORMAL/mdb077.jpg  \n",
            "  inflating: Mias/NORMAL/mdb078.jpg  \n",
            "  inflating: Mias/NORMAL/mdb079.jpg  \n",
            "  inflating: Mias/NORMAL/mdb082.jpg  \n",
            "  inflating: Mias/NORMAL/mdb084.jpg  \n",
            "  inflating: Mias/NORMAL/mdb085.jpg  \n",
            "  inflating: Mias/NORMAL/mdb086.jpg  \n",
            "  inflating: Mias/NORMAL/mdb087.jpg  \n",
            "  inflating: Mias/NORMAL/mdb088.jpg  \n",
            "  inflating: Mias/NORMAL/mdb089.jpg  \n",
            "  inflating: Mias/NORMAL/mdb093.jpg  \n",
            "  inflating: Mias/NORMAL/mdb094.jpg  \n",
            "  inflating: Mias/NORMAL/mdb096.jpg  \n",
            "  inflating: Mias/NORMAL/mdb098.jpg  \n",
            "  inflating: Mias/NORMAL/mdb100.jpg  \n",
            "  inflating: Mias/NORMAL/mdb101.jpg  \n",
            "  inflating: Mias/NORMAL/mdb103.jpg  \n",
            "  inflating: Mias/NORMAL/mdb106.jpg  \n",
            "  inflating: Mias/NORMAL/mdb108.jpg  \n",
            "  inflating: Mias/NORMAL/mdb109.jpg  \n",
            "  inflating: Mias/NORMAL/mdb112.jpg  \n",
            "  inflating: Mias/NORMAL/mdb113.jpg  \n",
            "  inflating: Mias/NORMAL/mdb114.jpg  \n",
            "  inflating: Mias/NORMAL/mdb116.jpg  \n",
            "  inflating: Mias/NORMAL/mdb118.jpg  \n",
            "  inflating: Mias/NORMAL/mdb119.jpg  \n",
            "  inflating: Mias/NORMAL/mdb123.jpg  \n",
            "  inflating: Mias/NORMAL/mdb128.jpg  \n",
            "  inflating: Mias/NORMAL/mdb129.jpg  \n",
            "  inflating: Mias/NORMAL/mdb131.jpg  \n",
            "  inflating: Mias/NORMAL/mdb133.jpg  \n",
            "  inflating: Mias/NORMAL/mdb135.jpg  \n",
            "  inflating: Mias/NORMAL/mdb136.jpg  \n",
            "  inflating: Mias/NORMAL/mdb137.jpg  \n",
            "  inflating: Mias/NORMAL/mdb138.jpg  \n",
            "  inflating: Mias/NORMAL/mdb139.jpg  \n",
            "  inflating: Mias/NORMAL/mdb140.jpg  \n",
            "  inflating: Mias/NORMAL/mdb143.jpg  \n",
            "  inflating: Mias/NORMAL/mdb146.jpg  \n",
            "  inflating: Mias/NORMAL/mdb147.jpg  \n",
            "  inflating: Mias/NORMAL/mdb149.jpg  \n",
            "  inflating: Mias/NORMAL/mdb151.jpg  \n",
            "  inflating: Mias/NORMAL/mdb153.jpg  \n",
            "  inflating: Mias/NORMAL/mdb154.jpg  \n",
            "  inflating: Mias/NORMAL/mdb156.jpg  \n",
            "  inflating: Mias/NORMAL/mdb157.jpg  \n",
            "  inflating: Mias/NORMAL/mdb159.jpg  \n",
            "  inflating: Mias/NORMAL/mdb161.jpg  \n",
            "  inflating: Mias/NORMAL/mdb162.jpg  \n",
            "  inflating: Mias/NORMAL/mdb164.jpg  \n",
            "  inflating: Mias/NORMAL/mdb166.jpg  \n",
            "  inflating: Mias/NORMAL/mdb168.jpg  \n",
            "  inflating: Mias/NORMAL/mdb172.jpg  \n",
            "  inflating: Mias/NORMAL/mdb173.jpg  \n",
            "  inflating: Mias/NORMAL/mdb174.jpg  \n",
            "  inflating: Mias/NORMAL/mdb176.jpg  \n",
            "  inflating: Mias/NORMAL/mdb177.jpg  \n",
            "  inflating: Mias/NORMAL/mdb180.jpg  \n",
            "  inflating: Mias/NORMAL/mdb182.jpg  \n",
            "  inflating: Mias/NORMAL/mdb183.jpg  \n",
            "  inflating: Mias/NORMAL/mdb185.jpg  \n",
            "  inflating: Mias/NORMAL/mdb189.jpg  \n",
            "  inflating: Mias/NORMAL/mdb192.jpg  \n",
            "  inflating: Mias/NORMAL/mdb194.jpg  \n",
            "  inflating: Mias/NORMAL/mdb196.jpg  \n",
            "  inflating: Mias/NORMAL/mdb197.jpg  \n",
            "  inflating: Mias/NORMAL/mdb200.jpg  \n",
            "  inflating: Mias/NORMAL/mdb201.jpg  \n",
            "  inflating: Mias/NORMAL/mdb203.jpg  \n",
            "  inflating: Mias/NORMAL/mdb205.jpg  \n",
            "  inflating: Mias/NORMAL/mdb210.jpg  \n",
            "  inflating: Mias/NORMAL/mdb212.jpg  \n",
            "  inflating: Mias/NORMAL/mdb214.jpg  \n",
            "  inflating: Mias/NORMAL/mdb215.jpg  \n",
            "  inflating: Mias/NORMAL/mdb217.jpg  \n",
            "  inflating: Mias/NORMAL/mdb220.jpg  \n",
            "  inflating: Mias/NORMAL/mdb221.jpg  \n",
            "  inflating: Mias/NORMAL/mdb224.jpg  \n",
            "  inflating: Mias/NORMAL/mdb225.jpg  \n",
            "  inflating: Mias/NORMAL/mdb228.jpg  \n",
            "  inflating: Mias/NORMAL/mdb229.jpg  \n",
            "  inflating: Mias/NORMAL/mdb230.jpg  \n",
            "  inflating: Mias/NORMAL/mdb232.jpg  \n",
            "  inflating: Mias/NORMAL/mdb234.jpg  \n",
            "  inflating: Mias/NORMAL/mdb235.jpg  \n",
            "  inflating: Mias/NORMAL/mdb237.jpg  \n",
            "  inflating: Mias/NORMAL/mdb242.jpg  \n",
            "  inflating: Mias/NORMAL/mdb243.jpg  \n",
            "  inflating: Mias/NORMAL/mdb246.jpg  \n",
            "  inflating: Mias/NORMAL/mdb247.jpg  \n",
            "  inflating: Mias/NORMAL/mdb250.jpg  \n",
            "  inflating: Mias/NORMAL/mdb251.jpg  \n",
            "  inflating: Mias/NORMAL/mdb254.jpg  \n",
            "  inflating: Mias/NORMAL/mdb255.jpg  \n",
            "  inflating: Mias/NORMAL/mdb258.jpg  \n",
            "  inflating: Mias/NORMAL/mdb259.jpg  \n",
            "  inflating: Mias/NORMAL/mdb260.jpg  \n",
            "  inflating: Mias/NORMAL/mdb261.jpg  \n",
            "  inflating: Mias/NORMAL/mdb262.jpg  \n",
            "  inflating: Mias/NORMAL/mdb263.jpg  \n",
            "  inflating: Mias/NORMAL/mdb266.jpg  \n",
            "  inflating: Mias/NORMAL/mdb268.jpg  \n",
            "  inflating: Mias/NORMAL/mdb269.jpg  \n",
            "  inflating: Mias/NORMAL/mdb272.jpg  \n",
            "  inflating: Mias/NORMAL/mdb273.jpg  \n",
            "  inflating: Mias/NORMAL/mdb275.jpg  \n",
            "  inflating: Mias/NORMAL/mdb277.jpg  \n",
            "  inflating: Mias/NORMAL/mdb278.jpg  \n",
            "  inflating: Mias/NORMAL/mdb279.jpg  \n",
            "  inflating: Mias/NORMAL/mdb280.jpg  \n",
            "  inflating: Mias/NORMAL/mdb281.jpg  \n",
            "  inflating: Mias/NORMAL/mdb282.jpg  \n",
            "  inflating: Mias/NORMAL/mdb283.jpg  \n",
            "  inflating: Mias/NORMAL/mdb284.jpg  \n",
            "  inflating: Mias/NORMAL/mdb285.jpg  \n",
            "  inflating: Mias/NORMAL/mdb286.jpg  \n",
            "  inflating: Mias/NORMAL/mdb287.jpg  \n",
            "  inflating: Mias/NORMAL/mdb288.jpg  \n",
            "  inflating: Mias/NORMAL/mdb289.jpg  \n",
            "  inflating: Mias/NORMAL/mdb291.jpg  \n",
            "  inflating: Mias/NORMAL/mdb292.jpg  \n",
            "  inflating: Mias/NORMAL/mdb293.jpg  \n",
            "  inflating: Mias/NORMAL/mdb295.jpg  \n",
            "  inflating: Mias/NORMAL/mdb296.jpg  \n",
            "  inflating: Mias/NORMAL/mdb297.jpg  \n",
            "  inflating: Mias/NORMAL/mdb298.jpg  \n",
            "  inflating: Mias/NORMAL/mdb299.jpg  \n",
            "  inflating: Mias/NORMAL/mdb300.jpg  \n",
            "  inflating: Mias/NORMAL/mdb301.jpg  \n",
            "  inflating: Mias/NORMAL/mdb302.jpg  \n",
            "  inflating: Mias/NORMAL/mdb303.jpg  \n",
            "  inflating: Mias/NORMAL/mdb304.jpg  \n",
            "  inflating: Mias/NORMAL/mdb305.jpg  \n",
            "  inflating: Mias/NORMAL/mdb306.jpg  \n",
            "  inflating: Mias/NORMAL/mdb307.jpg  \n",
            "  inflating: Mias/NORMAL/mdb308.jpg  \n",
            "  inflating: Mias/NORMAL/mdb309.jpg  \n",
            "  inflating: Mias/NORMAL/mdb310.jpg  \n",
            "  inflating: Mias/NORMAL/mdb311.jpg  \n",
            "  inflating: Mias/NORMAL/mdb313.jpg  \n",
            "  inflating: Mias/NORMAL/mdb316.jpg  \n",
            "  inflating: Mias/NORMAL/mdb317.jpg  \n",
            "  inflating: Mias/NORMAL/mdb318.jpg  \n",
            "  inflating: Mias/NORMAL/mdb319.jpg  \n",
            "  inflating: Mias/NORMAL/mdb320.jpg  \n",
            "  inflating: Mias/NORMAL/mdb321.jpg  \n"
          ]
        }
      ]
    },
    {
      "cell_type": "markdown",
      "metadata": {
        "id": "GgJBv7qifTC0"
      },
      "source": [
        "In case that FrImCla is not installed in your system, the first task consist in installing using pip."
      ]
    },
    {
      "cell_type": "code",
      "metadata": {
        "colab": {
          "base_uri": "https://localhost:8080/"
        },
        "id": "R2UHXAYlfTC1",
        "outputId": "bc5a5b63-86c7-43ea-e8ff-d15f1135c19a"
      },
      "source": [
        "!pip3 install frimcla"
      ],
      "execution_count": null,
      "outputs": [
        {
          "output_type": "stream",
          "name": "stdout",
          "text": [
            "Requirement already satisfied: frimcla in /usr/local/lib/python3.7/dist-packages (1.0.6)\n",
            "Requirement already satisfied: matplotlib in /usr/local/lib/python3.7/dist-packages (from frimcla) (3.2.2)\n",
            "Requirement already satisfied: wget in /usr/local/lib/python3.7/dist-packages (from frimcla) (3.2)\n",
            "Requirement already satisfied: theano in /usr/local/lib/python3.7/dist-packages (from frimcla) (1.0.5)\n",
            "Requirement already satisfied: opencv-python in /usr/local/lib/python3.7/dist-packages (from frimcla) (4.1.2.30)\n",
            "Requirement already satisfied: Keras==2.1.6 in /usr/local/lib/python3.7/dist-packages (from frimcla) (2.1.6)\n",
            "Requirement already satisfied: arff in /usr/local/lib/python3.7/dist-packages (from frimcla) (0.9)\n",
            "Requirement already satisfied: scikit-image in /usr/local/lib/python3.7/dist-packages (from frimcla) (0.16.2)\n",
            "Requirement already satisfied: pandas in /usr/local/lib/python3.7/dist-packages (from frimcla) (0.25.1)\n",
            "Requirement already satisfied: commentjson in /usr/local/lib/python3.7/dist-packages (from frimcla) (0.9.0)\n",
            "Requirement already satisfied: h5py in /usr/local/lib/python3.7/dist-packages (from frimcla) (2.10.0)\n",
            "Requirement already satisfied: tabulate in /usr/local/lib/python3.7/dist-packages (from frimcla) (0.8.9)\n",
            "Requirement already satisfied: scikit-learn in /usr/local/lib/python3.7/dist-packages (from frimcla) (0.22.2.post1)\n",
            "Requirement already satisfied: tensorflow==1.15.0 in /usr/local/lib/python3.7/dist-packages (from frimcla) (1.15.0)\n",
            "Requirement already satisfied: scikit-multilearn in /usr/local/lib/python3.7/dist-packages (from frimcla) (0.2.0)\n",
            "Requirement already satisfied: numpy in /usr/local/lib/python3.7/dist-packages (from frimcla) (1.19.5)\n",
            "Requirement already satisfied: imutils in /usr/local/lib/python3.7/dist-packages (from frimcla) (0.5.4)\n",
            "Requirement already satisfied: mahotas in /usr/local/lib/python3.7/dist-packages (from frimcla) (1.4.12)\n",
            "Requirement already satisfied: pyyaml in /usr/local/lib/python3.7/dist-packages (from Keras==2.1.6->frimcla) (3.13)\n",
            "Requirement already satisfied: scipy>=0.14 in /usr/local/lib/python3.7/dist-packages (from Keras==2.1.6->frimcla) (1.4.1)\n",
            "Requirement already satisfied: six>=1.9.0 in /usr/local/lib/python3.7/dist-packages (from Keras==2.1.6->frimcla) (1.15.0)\n",
            "Requirement already satisfied: gast==0.2.2 in /usr/local/lib/python3.7/dist-packages (from tensorflow==1.15.0->frimcla) (0.2.2)\n",
            "Requirement already satisfied: google-pasta>=0.1.6 in /usr/local/lib/python3.7/dist-packages (from tensorflow==1.15.0->frimcla) (0.2.0)\n",
            "Requirement already satisfied: keras-applications>=1.0.8 in /usr/local/lib/python3.7/dist-packages (from tensorflow==1.15.0->frimcla) (1.0.8)\n",
            "Requirement already satisfied: opt-einsum>=2.3.2 in /usr/local/lib/python3.7/dist-packages (from tensorflow==1.15.0->frimcla) (3.3.0)\n",
            "Requirement already satisfied: astor>=0.6.0 in /usr/local/lib/python3.7/dist-packages (from tensorflow==1.15.0->frimcla) (0.8.1)\n",
            "Requirement already satisfied: keras-preprocessing>=1.0.5 in /usr/local/lib/python3.7/dist-packages (from tensorflow==1.15.0->frimcla) (1.1.2)\n",
            "Requirement already satisfied: wrapt>=1.11.1 in /usr/local/lib/python3.7/dist-packages (from tensorflow==1.15.0->frimcla) (1.12.1)\n",
            "Requirement already satisfied: tensorboard<1.16.0,>=1.15.0 in /usr/local/lib/python3.7/dist-packages (from tensorflow==1.15.0->frimcla) (1.15.0)\n",
            "Requirement already satisfied: protobuf>=3.6.1 in /usr/local/lib/python3.7/dist-packages (from tensorflow==1.15.0->frimcla) (3.17.3)\n",
            "Requirement already satisfied: wheel>=0.26 in /usr/local/lib/python3.7/dist-packages (from tensorflow==1.15.0->frimcla) (0.37.0)\n",
            "Requirement already satisfied: termcolor>=1.1.0 in /usr/local/lib/python3.7/dist-packages (from tensorflow==1.15.0->frimcla) (1.1.0)\n",
            "Requirement already satisfied: tensorflow-estimator==1.15.1 in /usr/local/lib/python3.7/dist-packages (from tensorflow==1.15.0->frimcla) (1.15.1)\n",
            "Requirement already satisfied: grpcio>=1.8.6 in /usr/local/lib/python3.7/dist-packages (from tensorflow==1.15.0->frimcla) (1.41.0)\n",
            "Requirement already satisfied: absl-py>=0.7.0 in /usr/local/lib/python3.7/dist-packages (from tensorflow==1.15.0->frimcla) (0.12.0)\n",
            "Requirement already satisfied: werkzeug>=0.11.15 in /usr/local/lib/python3.7/dist-packages (from tensorboard<1.16.0,>=1.15.0->tensorflow==1.15.0->frimcla) (1.0.1)\n",
            "Requirement already satisfied: markdown>=2.6.8 in /usr/local/lib/python3.7/dist-packages (from tensorboard<1.16.0,>=1.15.0->tensorflow==1.15.0->frimcla) (3.3.4)\n",
            "Requirement already satisfied: setuptools>=41.0.0 in /usr/local/lib/python3.7/dist-packages (from tensorboard<1.16.0,>=1.15.0->tensorflow==1.15.0->frimcla) (57.4.0)\n",
            "Requirement already satisfied: importlib-metadata in /usr/local/lib/python3.7/dist-packages (from markdown>=2.6.8->tensorboard<1.16.0,>=1.15.0->tensorflow==1.15.0->frimcla) (4.8.1)\n",
            "Requirement already satisfied: lark-parser<0.8.0,>=0.7.1 in /usr/local/lib/python3.7/dist-packages (from commentjson->frimcla) (0.7.8)\n",
            "Requirement already satisfied: typing-extensions>=3.6.4 in /usr/local/lib/python3.7/dist-packages (from importlib-metadata->markdown>=2.6.8->tensorboard<1.16.0,>=1.15.0->tensorflow==1.15.0->frimcla) (3.7.4.3)\n",
            "Requirement already satisfied: zipp>=0.5 in /usr/local/lib/python3.7/dist-packages (from importlib-metadata->markdown>=2.6.8->tensorboard<1.16.0,>=1.15.0->tensorflow==1.15.0->frimcla) (3.6.0)\n",
            "Requirement already satisfied: python-dateutil>=2.1 in /usr/local/lib/python3.7/dist-packages (from matplotlib->frimcla) (2.8.2)\n",
            "Requirement already satisfied: cycler>=0.10 in /usr/local/lib/python3.7/dist-packages (from matplotlib->frimcla) (0.10.0)\n",
            "Requirement already satisfied: pyparsing!=2.0.4,!=2.1.2,!=2.1.6,>=2.0.1 in /usr/local/lib/python3.7/dist-packages (from matplotlib->frimcla) (2.4.7)\n",
            "Requirement already satisfied: kiwisolver>=1.0.1 in /usr/local/lib/python3.7/dist-packages (from matplotlib->frimcla) (1.3.2)\n",
            "Requirement already satisfied: pytz>=2017.2 in /usr/local/lib/python3.7/dist-packages (from pandas->frimcla) (2018.9)\n",
            "Requirement already satisfied: PyWavelets>=0.4.0 in /usr/local/lib/python3.7/dist-packages (from scikit-image->frimcla) (1.1.1)\n",
            "Requirement already satisfied: pillow>=4.3.0 in /usr/local/lib/python3.7/dist-packages (from scikit-image->frimcla) (7.1.2)\n",
            "Requirement already satisfied: networkx>=2.0 in /usr/local/lib/python3.7/dist-packages (from scikit-image->frimcla) (2.6.3)\n",
            "Requirement already satisfied: imageio>=2.3.0 in /usr/local/lib/python3.7/dist-packages (from scikit-image->frimcla) (2.4.1)\n",
            "Requirement already satisfied: joblib>=0.11 in /usr/local/lib/python3.7/dist-packages (from scikit-learn->frimcla) (1.0.1)\n"
          ]
        }
      ]
    },
    {
      "cell_type": "code",
      "metadata": {
        "colab": {
          "base_uri": "https://localhost:8080/"
        },
        "id": "W_LdWG28YtR_",
        "outputId": "2a829c73-1d03-4616-9aa2-414ca2e1258b"
      },
      "source": [
        "!pip install pandas==0.25.1"
      ],
      "execution_count": null,
      "outputs": [
        {
          "output_type": "stream",
          "name": "stdout",
          "text": [
            "Requirement already satisfied: pandas==0.25.1 in /usr/local/lib/python3.7/dist-packages (0.25.1)\n",
            "Requirement already satisfied: pytz>=2017.2 in /usr/local/lib/python3.7/dist-packages (from pandas==0.25.1) (2018.9)\n",
            "Requirement already satisfied: python-dateutil>=2.6.1 in /usr/local/lib/python3.7/dist-packages (from pandas==0.25.1) (2.8.2)\n",
            "Requirement already satisfied: numpy>=1.13.3 in /usr/local/lib/python3.7/dist-packages (from pandas==0.25.1) (1.19.5)\n",
            "Requirement already satisfied: six>=1.5 in /usr/local/lib/python3.7/dist-packages (from python-dateutil>=2.6.1->pandas==0.25.1) (1.15.0)\n"
          ]
        }
      ]
    },
    {
      "cell_type": "code",
      "metadata": {
        "colab": {
          "base_uri": "https://localhost:8080/"
        },
        "id": "p5rLRHMrY1Hx",
        "outputId": "be1fe2c4-b350-481c-c6f2-820b2e231ffb"
      },
      "source": [
        "!pip install h5py==2.10.0  "
      ],
      "execution_count": null,
      "outputs": [
        {
          "output_type": "stream",
          "name": "stdout",
          "text": [
            "Requirement already satisfied: h5py==2.10.0 in /usr/local/lib/python3.7/dist-packages (2.10.0)\n",
            "Requirement already satisfied: numpy>=1.7 in /usr/local/lib/python3.7/dist-packages (from h5py==2.10.0) (1.19.5)\n",
            "Requirement already satisfied: six in /usr/local/lib/python3.7/dist-packages (from h5py==2.10.0) (1.15.0)\n"
          ]
        }
      ]
    },
    {
      "cell_type": "markdown",
      "metadata": {
        "id": "icKrdbNlfTC8"
      },
      "source": [
        "We need some libraries to execute this framework and obtain the results. "
      ]
    },
    {
      "cell_type": "code",
      "metadata": {
        "colab": {
          "base_uri": "https://localhost:8080/"
        },
        "id": "KjqQB2GGfTC9",
        "scrolled": true,
        "outputId": "1bbeb53d-0b75-48ce-bc4d-230365c8321d"
      },
      "source": [
        "%tensorflow_version 1.x\n",
        "from frimcla.index_features import generateFeatures\n",
        "from frimcla.StatisticalComparison import statisticalComparison, majorityVoting\n",
        "from frimcla.train import train\n",
        "from frimcla.prediction import prediction,predictionEnsemble\n"
      ],
      "execution_count": null,
      "outputs": [
        {
          "output_type": "stream",
          "name": "stdout",
          "text": [
            "TensorFlow 1.x selected.\n"
          ]
        },
        {
          "output_type": "stream",
          "name": "stderr",
          "text": [
            "Using TensorFlow backend.\n",
            "RuntimeError: module compiled against API version 0xe but this version of numpy is 0xd\n",
            "Could not import submodules (exact error was: numpy.core.multiarray failed to import).\n",
            "\n",
            "There are many reasons for this error the most common one is that you have\n",
            "either not built the packages or have built (using `python setup.py build`) or\n",
            "installed them (using `python setup.py install`) and then proceeded to test\n",
            "mahotas **without changing the current directory**.\n",
            "\n",
            "Try installing and then changing to another directory before importing mahotas.\n"
          ]
        }
      ]
    },
    {
      "cell_type": "markdown",
      "metadata": {
        "id": "74pR5g-DfTDC"
      },
      "source": [
        "### Configuring the variables of the program"
      ]
    },
    {
      "cell_type": "markdown",
      "metadata": {
        "id": "se0QnVWnfTDD"
      },
      "source": [
        "First of all, we have to indicate the variables that the program need such as the path of the dataset, the models you want to use,..."
      ]
    },
    {
      "cell_type": "code",
      "metadata": {
        "id": "2PD094EJfTDE"
      },
      "source": [
        "datasetPath = \"./Mias\"\n",
        "outputPath = \"./output\"\n",
        "# featureExtractors = [[\"inception\", \"False\"]]\n",
        "batchSize = 32 \n",
        "verbose = 1\n",
        "# modelClassifiers = [ \"MLP\",\"SVM\",\"KNN\"] #You can use MLP, SVM, KNN , LogisticRegression or RandomForest\n",
        "measure = \"f1\" #You can use accuracy, f1, auroc, precision or recall \n",
        "trainingSize = 1\n",
        "nSteps=10\n"
      ],
      "execution_count": null,
      "outputs": []
    },
    {
      "cell_type": "markdown",
      "metadata": {
        "id": "9tGVgXnIfTDI"
      },
      "source": [
        "In the next section we have to select the feature extractors that we want to use (It is mandatory to **select at least one option**)"
      ]
    },
    {
      "cell_type": "code",
      "metadata": {
        "id": "oWOoIo0FlEY4"
      },
      "source": [
        "VGG16 = True #@param {type:\"boolean\"}\n",
        "VGG19 = True #@param {type:\"boolean\"}\n",
        "ResNet = True #@param {type:\"boolean\"}\n",
        "Inception = True #@param {type:\"boolean\"}\n",
        "GoogleNet = False #@param {type:\"boolean\"}\n",
        "Overfeat = False #@param {type:\"boolean\"}\n",
        "Xception = True #@param {type:\"boolean\"}\n",
        "Densenet = False #@param {type:\"boolean\"}\n",
        "LAB888 = False #@param {type:\"boolean\"}\n",
        "LAB444 = False #@param {type:\"boolean\"}\n",
        "HSV888 = False #@param {type:\"boolean\"}\n",
        "HSV444 = False #@param {type:\"boolean\"}\n",
        "Haralick = False #@param {type:\"boolean\"}\n",
        "Hog = False #@param {type:\"boolean\"}\n",
        "Haarhog = False #@param {type:\"boolean\"}\n",
        "\n",
        "featureExtractors = []\n",
        "\n",
        "if VGG19 :\n",
        "  featureExtractors.append([\"vgg19\",\"False\"])\n",
        "if VGG16 :\n",
        "  featureExtractors.append([\"vgg16\",\"False\"])\n",
        "if ResNet :\n",
        "  featureExtractors.append([\"resnet\",\"False\"])\n",
        "if Inception :\n",
        "  featureExtractors.append([\"inception\",\"False\"])\n",
        "if GoogleNet :\n",
        "  featureExtractors.append([\"googlenet\"])\n",
        "if Overfeat :\n",
        "  featureExtractors.append([\"overfeat\",\"[-3]\"])\n",
        "if Xception :\n",
        "  featureExtractors.append([\"xception\",\"False\"])\n",
        "if Densenet :\n",
        "  featureExtractors.append([\"densenet\"])\n",
        "if LAB888 :\n",
        "  featureExtractors.append([\"lab888\"])\n",
        "if LAB444 :\n",
        "  featureExtractors.append([\"lab444\",\"4,4,4\"])\n",
        "if HSV888 :\n",
        "  featureExtractors.append([\"hsv888\"])\n",
        "if HSV444 :\n",
        "  featureExtractors.append([\"hsv444\",\"4,4,4\"])\n",
        "if Haralick :\n",
        "  featureExtractors.append([\"haralick\"])\n",
        "if Hog :\n",
        "  featureExtractors.append([\"hog\"])\n",
        "if Haarhog :\n",
        "  featureExtractors.append([\"haarhog\"])"
      ],
      "execution_count": null,
      "outputs": []
    },
    {
      "cell_type": "code",
      "metadata": {
        "id": "4S7sz6cJJk9r"
      },
      "source": [
        ""
      ],
      "execution_count": null,
      "outputs": []
    },
    {
      "cell_type": "markdown",
      "metadata": {
        "id": "8hUEaglalJE5"
      },
      "source": [
        "Now we have to indicate the classifier models that we want to use (It is mandatory to **select at least one option**)"
      ]
    },
    {
      "cell_type": "code",
      "metadata": {
        "id": "Uvb6ZdnmlJha"
      },
      "source": [
        "MLP = True #@param {type:\"boolean\"}\n",
        "SVM = True #@param {type:\"boolean\"}\n",
        "KNN = True #@param {type:\"boolean\"}\n",
        "LogisticRegression = True #@param {type:\"boolean\"}\n",
        "GradientBoost = True #@param {type:\"boolean\"}\n",
        "RandomForest = True #@param {type:\"boolean\"}\n",
        "\n",
        "modelClassifiers = []\n",
        "\n",
        "\n",
        "if MLP :\n",
        "  modelClassifiers.append(\"MLP\")\n",
        "if SVM :\n",
        "  modelClassifiers.append(\"SVM\")\n",
        "if KNN :\n",
        "  modelClassifiers.append(\"KNN\")\n",
        "if LogisticRegression :\n",
        "  modelClassifiers.append(\"LogisticRegression\")\n",
        "if GradientBoost :\n",
        "  modelClassifiers.append(\"GradientBoost\")\n",
        "if RandomForest :\n",
        "  modelClassifiers.append(\"RandomForest\")"
      ],
      "execution_count": null,
      "outputs": []
    },
    {
      "cell_type": "markdown",
      "metadata": {
        "id": "N6HADHBKfTDJ"
      },
      "source": [
        "### Generating the features"
      ]
    },
    {
      "cell_type": "markdown",
      "metadata": {
        "id": "K--fenI9fTDL"
      },
      "source": [
        "At this step we stored the features of each image of the dataset. These features depend on the model used at this moment because each model stores different features of the image. "
      ]
    },
    {
      "cell_type": "code",
      "metadata": {
        "id": "z_7w466sWQL8"
      },
      "source": [
        ""
      ],
      "execution_count": null,
      "outputs": []
    },
    {
      "cell_type": "code",
      "metadata": {
        "colab": {
          "base_uri": "https://localhost:8080/"
        },
        "id": "TVzzyegcfTDM",
        "outputId": "dbf22f38-1718-4051-de4e-5ea00c749776"
      },
      "source": [
        "generateFeatures(outputPath, batchSize, datasetPath, featureExtractors, verbose)"
      ],
      "execution_count": null,
      "outputs": [
        {
          "output_type": "stream",
          "name": "stdout",
          "text": [
            "[INFO] encoding labels...\n",
            "[INFO] initializing network...\n",
            "These features (vgg19) are already generated\n",
            "[INFO] initializing network...\n",
            "These features (vgg16) are already generated\n",
            "[INFO] initializing network...\n",
            "These features (resnet) are already generated\n",
            "[INFO] initializing network...\n",
            "These features (inception) are already generated\n",
            "[INFO] initializing network...\n",
            "These features (xception) are already generated\n"
          ]
        },
        {
          "output_type": "execute_result",
          "data": {
            "text/plain": [
              "0.015961647033691406"
            ]
          },
          "metadata": {},
          "execution_count": 12
        }
      ]
    },
    {
      "cell_type": "markdown",
      "metadata": {
        "id": "YpuChZiCfTDR"
      },
      "source": [
        "### Statistical analysis"
      ]
    },
    {
      "cell_type": "markdown",
      "metadata": {
        "id": "XVq3arDsfTDT"
      },
      "source": [
        "Now with the features of all the images of each model we can perform a statistical analysis to know which of this models has the best performace."
      ]
    },
    {
      "cell_type": "code",
      "metadata": {
        "id": "gd9e7rNXk13P"
      },
      "source": [
        "%matplotlib inline"
      ],
      "execution_count": null,
      "outputs": []
    },
    {
      "cell_type": "code",
      "metadata": {
        "colab": {
          "base_uri": "https://localhost:8080/"
        },
        "id": "xRCyhr_eqVRt",
        "outputId": "570bda22-ebc2-4c16-d511-242e1c049840"
      },
      "source": [
        "!pip install matplotlib"
      ],
      "execution_count": null,
      "outputs": [
        {
          "output_type": "stream",
          "name": "stdout",
          "text": [
            "Requirement already satisfied: matplotlib in /usr/local/lib/python3.7/dist-packages (3.2.2)\n",
            "Requirement already satisfied: python-dateutil>=2.1 in /usr/local/lib/python3.7/dist-packages (from matplotlib) (2.8.2)\n",
            "Requirement already satisfied: cycler>=0.10 in /usr/local/lib/python3.7/dist-packages (from matplotlib) (0.10.0)\n",
            "Requirement already satisfied: kiwisolver>=1.0.1 in /usr/local/lib/python3.7/dist-packages (from matplotlib) (1.3.2)\n",
            "Requirement already satisfied: pyparsing!=2.0.4,!=2.1.2,!=2.1.6,>=2.0.1 in /usr/local/lib/python3.7/dist-packages (from matplotlib) (2.4.7)\n",
            "Requirement already satisfied: numpy>=1.11 in /usr/local/lib/python3.7/dist-packages (from matplotlib) (1.19.5)\n",
            "Requirement already satisfied: six in /usr/local/lib/python3.7/dist-packages (from cycler>=0.10->matplotlib) (1.15.0)\n"
          ]
        }
      ]
    },
    {
      "cell_type": "code",
      "metadata": {
        "id": "Gj1DQ88PfTDV",
        "colab": {
          "base_uri": "https://localhost:8080/",
          "height": 1000
        },
        "outputId": "3a74735d-c580-4976-93ce-c086853ba97b"
      },
      "source": [
        "statisticalComparison(outputPath, datasetPath, featureExtractors, modelClassifiers, measure, nSteps, verbose)"
      ],
      "execution_count": null,
      "outputs": [
        {
          "output_type": "stream",
          "name": "stdout",
          "text": [
            "['vgg19', 'False']\n",
            "MLP\n",
            "SVM\n",
            "KNN\n",
            "LogisticRegression\n",
            "GradientBoost\n",
            "RandomForest\n",
            "-------------------------------------------------\n",
            "Statistical Analysis\n",
            "-------------------------------------------------\n",
            "Iteration 0\n"
          ]
        },
        {
          "output_type": "stream",
          "name": "stderr",
          "text": [
            "/usr/local/lib/python3.7/dist-packages/frimcla/Comparing.py:188: H5pyDeprecationWarning: The default file mode will change to 'r' (read-only) in h5py 3.0. To suppress this warning, pass the mode you need to h5py.File(), or set the global default h5.get_config().default_file_mode, or set the environment variable H5PY_DEFAULT_READONLY=1. Available modes are: 'r', 'r+', 'w', 'w-'/'x', 'a'. See the docs for details.\n",
            "  db = h5py.File(featuresPath)\n"
          ]
        },
        {
          "output_type": "stream",
          "name": "stdout",
          "text": [
            "Iteration 1\n",
            "Iteration 2\n",
            "Iteration 3\n",
            "Iteration 4\n",
            "Iteration 5\n",
            "Iteration 6\n",
            "Iteration 7\n",
            "Iteration 8\n",
            "Iteration 9\n",
            "./output/Mias/results/kfold-comparison_vgg19.csv\n",
            "['vgg19_MLP' 'vgg19_SVM' 'vgg19_KNN' 'vgg19_LogisticRegression'\n",
            " 'vgg19_GradientBoost' 'vgg19_RandomForest']\n",
            "==========================================================\n",
            "Report\n",
            "==========================================================\n",
            "**********************************************************\n",
            "Mean and std\n",
            "**********************************************************\n",
            "vgg19_MLP: 0.893318 (0.031396)\n",
            "vgg19_SVM: 0.916491 (0.037119)\n",
            "vgg19_KNN: 0.892976 (0.050630)\n",
            "vgg19_LogisticRegression: 0.908398 (0.047653)\n",
            "vgg19_GradientBoost: 0.907400 (0.052878)\n",
            "vgg19_RandomForest: 0.905011 (0.043522)\n",
            "**********************************************************\n",
            "Statistical tests\n",
            "**********************************************************\n",
            "----------------------------------------------------------\n",
            "Checking parametric conditions \n",
            "----------------------------------------------------------\n",
            "Conditions for a parametric test are fulfilled\n",
            "----------------------------------------------------------\n",
            "Working with more than 2 algorithms\n",
            "----------------------------------------------------------\n",
            "----------------------------------------------------------\n",
            "Applying ANOVA test\n",
            "----------------------------------------------------------\n",
            "F-value: 0.384794, p-value: 0.8570706639838401\n",
            "Null hypothesis is accepted; hence, we can't say that there is a significant difference in the performance of the models\n",
            "----------------------------------------------------------\n",
            "Analysing effect size\n",
            "----------------------------------------------------------\n",
            "We take the model with the best mean (vgg19_SVM, mean: 0.916491) and compare it with the other models: \n",
            "Comparing effect size of vgg19_SVM and vgg19_MLP: Cohen's d=0.6395087337210763, Large\n",
            "Comparing effect size of vgg19_SVM and vgg19_KNN: Cohen's d=0.5025304177806579, Large\n",
            "Comparing effect size of vgg19_SVM and vgg19_LogisticRegression: Cohen's d=0.17976063350605892, Small\n",
            "Comparing effect size of vgg19_SVM and vgg19_GradientBoost: Cohen's d=0.18878515558573392, Small\n",
            "Comparing effect size of vgg19_SVM and vgg19_RandomForest: Cohen's d=0.2692659065683733, Medium\n",
            "----------------------------------------------------------\n",
            "We take the model with the best mean (vgg19_SVM, mean: 0.916491) and compare it with the other models: \n",
            "Eta squared: 0.034403 (Medium)\n",
            "['vgg16', 'False']\n",
            "MLP\n",
            "SVM\n",
            "KNN\n",
            "LogisticRegression\n",
            "GradientBoost\n",
            "RandomForest\n",
            "-------------------------------------------------\n",
            "Statistical Analysis\n",
            "-------------------------------------------------\n",
            "Iteration 0\n"
          ]
        },
        {
          "output_type": "stream",
          "name": "stderr",
          "text": [
            "/usr/local/lib/python3.7/dist-packages/frimcla/Comparing.py:188: H5pyDeprecationWarning: The default file mode will change to 'r' (read-only) in h5py 3.0. To suppress this warning, pass the mode you need to h5py.File(), or set the global default h5.get_config().default_file_mode, or set the environment variable H5PY_DEFAULT_READONLY=1. Available modes are: 'r', 'r+', 'w', 'w-'/'x', 'a'. See the docs for details.\n",
            "  db = h5py.File(featuresPath)\n"
          ]
        },
        {
          "output_type": "stream",
          "name": "stdout",
          "text": [
            "Iteration 1\n",
            "Iteration 2\n",
            "Iteration 3\n",
            "Iteration 4\n",
            "Iteration 5\n",
            "Iteration 6\n",
            "Iteration 7\n",
            "Iteration 8\n",
            "Iteration 9\n",
            "./output/Mias/results/kfold-comparison_vgg16.csv\n",
            "['vgg16_MLP' 'vgg16_SVM' 'vgg16_KNN' 'vgg16_LogisticRegression'\n",
            " 'vgg16_GradientBoost' 'vgg16_RandomForest']\n",
            "==========================================================\n",
            "Report\n",
            "==========================================================\n",
            "**********************************************************\n",
            "Mean and std\n",
            "**********************************************************\n",
            "vgg16_MLP: 0.891987 (0.068046)\n",
            "vgg16_SVM: 0.895740 (0.059539)\n",
            "vgg16_KNN: 0.893903 (0.039008)\n",
            "vgg16_LogisticRegression: 0.906491 (0.057123)\n",
            "vgg16_GradientBoost: 0.885349 (0.050098)\n",
            "vgg16_RandomForest: 0.904803 (0.044417)\n",
            "**********************************************************\n",
            "Statistical tests\n",
            "**********************************************************\n",
            "----------------------------------------------------------\n",
            "Checking parametric conditions \n",
            "----------------------------------------------------------\n",
            "Conditions for a parametric test are not fulfilled, applying a non-parametric test\n",
            "----------------------------------------------------------\n",
            "Working with more than 2 algorithms\n",
            "----------------------------------------------------------\n",
            "----------------------------------------------------------\n",
            "Applying Friedman test\n",
            "----------------------------------------------------------\n",
            "F-value: 0.782609, p-value: 0.5675780446685972\n",
            "Null hypothesis is accepted; hence, we can't say that there is a significant difference in the performance of the models\n",
            "----------------------------------------------------------\n",
            "Analysing effect size\n",
            "----------------------------------------------------------\n",
            "We take the model with the best mean (vgg16_LogisticRegression, mean: 0.906491) and compare it with the other models: \n",
            "Comparing effect size of vgg16_LogisticRegression and vgg16_MLP: Cohen's d=0.2190344082925601, Medium\n",
            "Comparing effect size of vgg16_LogisticRegression and vgg16_SVM: Cohen's d=0.17482281416882453, Small\n",
            "Comparing effect size of vgg16_LogisticRegression and vgg16_KNN: Cohen's d=0.24417356384200398, Medium\n",
            "Comparing effect size of vgg16_LogisticRegression and vgg16_GradientBoost: Cohen's d=0.37333960850932185, Medium\n",
            "Comparing effect size of vgg16_LogisticRegression and vgg16_RandomForest: Cohen's d=0.03130028679039085, Small\n",
            "Eta squared: 0.018056 (Medium)\n",
            "['resnet', 'False']\n",
            "MLP\n",
            "SVM\n",
            "KNN\n",
            "LogisticRegression\n",
            "GradientBoost\n",
            "RandomForest\n",
            "-------------------------------------------------\n",
            "Statistical Analysis\n",
            "-------------------------------------------------\n"
          ]
        },
        {
          "output_type": "stream",
          "name": "stderr",
          "text": [
            "/usr/local/lib/python3.7/dist-packages/frimcla/Comparing.py:188: H5pyDeprecationWarning: The default file mode will change to 'r' (read-only) in h5py 3.0. To suppress this warning, pass the mode you need to h5py.File(), or set the global default h5.get_config().default_file_mode, or set the environment variable H5PY_DEFAULT_READONLY=1. Available modes are: 'r', 'r+', 'w', 'w-'/'x', 'a'. See the docs for details.\n",
            "  db = h5py.File(featuresPath)\n"
          ]
        },
        {
          "output_type": "stream",
          "name": "stdout",
          "text": [
            "Iteration 0\n",
            "Iteration 1\n",
            "Iteration 2\n",
            "Iteration 3\n",
            "Iteration 4\n",
            "Iteration 5\n",
            "Iteration 6\n",
            "Iteration 7\n",
            "Iteration 8\n",
            "Iteration 9\n",
            "./output/Mias/results/kfold-comparison_resnet.csv\n",
            "['resnet_MLP' 'resnet_SVM' 'resnet_KNN' 'resnet_LogisticRegression'\n",
            " 'resnet_GradientBoost' 'resnet_RandomForest']\n",
            "==========================================================\n",
            "Report\n",
            "==========================================================\n",
            "**********************************************************\n",
            "Mean and std\n",
            "**********************************************************\n",
            "resnet_MLP: 0.920448 (0.021913)\n",
            "resnet_SVM: 0.927633 (0.031376)\n",
            "resnet_KNN: 0.901868 (0.053045)\n",
            "resnet_LogisticRegression: 0.909996 (0.037666)\n",
            "resnet_GradientBoost: 0.904880 (0.038985)\n",
            "resnet_RandomForest: 0.895269 (0.032836)\n",
            "**********************************************************\n",
            "Statistical tests\n",
            "**********************************************************\n",
            "----------------------------------------------------------\n",
            "Checking parametric conditions \n",
            "----------------------------------------------------------\n",
            "Conditions for a parametric test are fulfilled\n",
            "----------------------------------------------------------\n",
            "Working with more than 2 algorithms\n",
            "----------------------------------------------------------\n",
            "----------------------------------------------------------\n",
            "Applying ANOVA test\n",
            "----------------------------------------------------------\n",
            "F-value: 0.949671, p-value: 0.456780087173992\n",
            "Null hypothesis is accepted; hence, we can't say that there is a significant difference in the performance of the models\n",
            "----------------------------------------------------------\n",
            "Analysing effect size\n",
            "----------------------------------------------------------\n",
            "We take the model with the best mean (resnet_SVM, mean: 0.927633) and compare it with the other models: \n",
            "Comparing effect size of resnet_SVM and resnet_MLP: Cohen's d=0.25189341810000365, Medium\n",
            "Comparing effect size of resnet_SVM and resnet_KNN: Cohen's d=0.560885346716058, Large\n",
            "Comparing effect size of resnet_SVM and resnet_LogisticRegression: Cohen's d=0.48269276513429754, Medium\n",
            "Comparing effect size of resnet_SVM and resnet_GradientBoost: Cohen's d=0.6099951373021181, Large\n",
            "Comparing effect size of resnet_SVM and resnet_RandomForest: Cohen's d=0.9560584468200397, Large\n",
            "----------------------------------------------------------\n",
            "We take the model with the best mean (resnet_SVM, mean: 0.927633) and compare it with the other models: \n",
            "Eta squared: 0.080825 (Large)\n",
            "['inception', 'False']\n",
            "MLP\n",
            "SVM\n",
            "KNN\n",
            "LogisticRegression\n",
            "GradientBoost\n",
            "RandomForest\n",
            "-------------------------------------------------\n",
            "Statistical Analysis\n",
            "-------------------------------------------------\n"
          ]
        },
        {
          "output_type": "stream",
          "name": "stderr",
          "text": [
            "/usr/local/lib/python3.7/dist-packages/frimcla/Comparing.py:188: H5pyDeprecationWarning: The default file mode will change to 'r' (read-only) in h5py 3.0. To suppress this warning, pass the mode you need to h5py.File(), or set the global default h5.get_config().default_file_mode, or set the environment variable H5PY_DEFAULT_READONLY=1. Available modes are: 'r', 'r+', 'w', 'w-'/'x', 'a'. See the docs for details.\n",
            "  db = h5py.File(featuresPath)\n"
          ]
        },
        {
          "output_type": "stream",
          "name": "stdout",
          "text": [
            "Iteration 0\n",
            "Iteration 1\n",
            "Iteration 2\n",
            "Iteration 3\n",
            "Iteration 4\n",
            "Iteration 5\n",
            "Iteration 6\n",
            "Iteration 7\n",
            "Iteration 8\n",
            "Iteration 9\n",
            "./output/Mias/results/kfold-comparison_inception.csv\n",
            "['inception_MLP' 'inception_SVM' 'inception_KNN'\n",
            " 'inception_LogisticRegression' 'inception_GradientBoost'\n",
            " 'inception_RandomForest']\n",
            "==========================================================\n",
            "Report\n",
            "==========================================================\n",
            "**********************************************************\n",
            "Mean and std\n",
            "**********************************************************\n",
            "inception_MLP: 0.884044 (0.052112)\n",
            "inception_SVM: 0.926149 (0.043622)\n",
            "inception_KNN: 0.838313 (0.055936)\n",
            "inception_LogisticRegression: 0.921975 (0.047425)\n",
            "inception_GradientBoost: 0.900999 (0.047613)\n",
            "inception_RandomForest: 0.889475 (0.047157)\n",
            "**********************************************************\n",
            "Statistical tests\n",
            "**********************************************************\n",
            "----------------------------------------------------------\n",
            "Checking parametric conditions \n",
            "----------------------------------------------------------\n",
            "Conditions for a parametric test are fulfilled\n",
            "----------------------------------------------------------\n",
            "Working with more than 2 algorithms\n",
            "----------------------------------------------------------\n",
            "----------------------------------------------------------\n",
            "Applying ANOVA test\n",
            "----------------------------------------------------------\n",
            "F-value: 3.790212, p-value: 0.005151397768615507\n",
            "Null hypothesis is rejected; hence, models have different performance\n",
            "----------------------------------------------------------\n",
            "Applying Bonferroni-Dunn post-hoc and analysing effect size\n",
            "----------------------------------------------------------\n",
            "Comparison                                                 Zvalue      p-value    adjusted p-value\n",
            "-------------------------------------------------------  --------  -----------  ------------------\n",
            "inception_SVM vs inception_KNN                           3.79194   0.000189491          0.00284236\n",
            "inception_KNN vs inception_LogisticRegression            3.61176   0.000333571          0.00500357\n",
            "inception_KNN vs inception_GradientBoost                 2.7062    0.00454498           0.0681747\n",
            "inception_KNN vs inception_RandomForest                  2.20873   0.0157288            0.235932\n",
            "inception_MLP vs inception_KNN                           1.97426   0.026738             0.401071\n",
            "inception_MLP vs inception_SVM                           1.81768   0.0373316            0.559974\n",
            "inception_MLP vs inception_LogisticRegression            1.6375    0.0536708            0.805061\n",
            "inception_SVM vs inception_RandomForest                  1.58321   0.0596069            0.894104\n",
            "inception_LogisticRegression vs inception_RandomForest   1.40303   0.0831659            1\n",
            "inception_SVM vs inception_GradientBoost                 1.08574   0.141209             1\n",
            "inception_LogisticRegression vs inception_GradientBoost  0.905559  0.184596             1\n",
            "inception_MLP vs inception_GradientBoost                 0.731939  0.233685             1\n",
            "inception_GradientBoost vs inception_RandomForest        0.497471  0.310438             1\n",
            "inception_MLP vs inception_RandomForest                  0.234468  0.407754             1\n",
            "inception_SVM vs inception_LogisticRegression            0.180178  0.428844             1\n",
            "There is a significant difference between the models: inception_SVM (mean: 0.926149, std: 0.043622) and inception_KNN (mean: 0.838313, std: 0.055936) (Cohen's d=1.6613085538332355, Large)\n",
            "There is a significant difference between the models: inception_KNN (mean: 0.838313, std: 0.055936) and inception_LogisticRegression (mean: 0.921975, std: 0.047425) (Cohen's d=1.5305822784265823, Large)\n",
            "We can't say that there is a significant difference in the performance of the models: inception_KNN (mean: 0.838313, std: 0.055936) and inception_GradientBoost (mean: 0.900999, std: 0.047613) (Cohen's d=1.144927855180502, Large)\n",
            "We can't say that there is a significant difference in the performance of the models: inception_KNN (mean: 0.838313, std: 0.055936) and inception_RandomForest (mean: 0.889475, std: 0.047157) (Cohen's d=0.9382210892495925, Large)\n",
            "We can't say that there is a significant difference in the performance of the models: inception_MLP (mean: 0.884044, std: 0.052112) and inception_KNN (mean: 0.838313, std: 0.055936) (Cohen's d=0.8025617241327648, Large)\n",
            "We can't say that there is a significant difference in the performance of the models: inception_MLP (mean: 0.884044, std: 0.052112) and inception_SVM (mean: 0.926149, std: 0.043622) (Cohen's d=0.8312146128224214, Large)\n",
            "We can't say that there is a significant difference in the performance of the models: inception_MLP (mean: 0.884044, std: 0.052112) and inception_LogisticRegression (mean: 0.921975, std: 0.047425) (Cohen's d=0.7222357133558942, Large)\n",
            "We can't say that there is a significant difference in the performance of the models: inception_SVM (mean: 0.926149, std: 0.043622) and inception_RandomForest (mean: 0.889475, std: 0.047157) (Cohen's d=0.7659242838344862, Large)\n",
            "We can't say that there is a significant difference in the performance of the models: inception_LogisticRegression (mean: 0.921975, std: 0.047425) and inception_RandomForest (mean: 0.889475, std: 0.047157) (Cohen's d=0.6519567118269332, Large)\n",
            "We can't say that there is a significant difference in the performance of the models: inception_SVM (mean: 0.926149, std: 0.043622) and inception_GradientBoost (mean: 0.900999, std: 0.047613) (Cohen's d=0.5225314282182694, Large)\n",
            "We can't say that there is a significant difference in the performance of the models: inception_LogisticRegression (mean: 0.921975, std: 0.047425) and inception_GradientBoost (mean: 0.900999, std: 0.047613) (Cohen's d=0.41877682108284703, Medium)\n",
            "We can't say that there is a significant difference in the performance of the models: inception_MLP (mean: 0.884044, std: 0.052112) and inception_GradientBoost (mean: 0.900999, std: 0.047613) (Cohen's d=0.3222504335068093, Medium)\n",
            "We can't say that there is a significant difference in the performance of the models: inception_GradientBoost (mean: 0.900999, std: 0.047613) and inception_RandomForest (mean: 0.889475, std: 0.047157) (Cohen's d=0.23070365747886398, Medium)\n",
            "We can't say that there is a significant difference in the performance of the models: inception_MLP (mean: 0.884044, std: 0.052112) and inception_RandomForest (mean: 0.889475, std: 0.047157) (Cohen's d=0.10367927401799634, Small)\n",
            "We can't say that there is a significant difference in the performance of the models: inception_SVM (mean: 0.926149, std: 0.043622) and inception_LogisticRegression (mean: 0.921975, std: 0.047425) (Cohen's d=0.08690017464772386, Small)\n",
            "----------------------------------------------------------\n",
            "We take the model with the best mean (inception_SVM, mean: 0.926149) and compare it with the other models: \n",
            "Eta squared: 0.259778 (Large)\n",
            "['xception', 'False']\n",
            "MLP\n",
            "SVM\n",
            "KNN\n",
            "LogisticRegression\n",
            "GradientBoost\n",
            "RandomForest\n",
            "-------------------------------------------------\n",
            "Statistical Analysis\n",
            "-------------------------------------------------\n",
            "Iteration 0\n"
          ]
        },
        {
          "output_type": "stream",
          "name": "stderr",
          "text": [
            "/usr/local/lib/python3.7/dist-packages/frimcla/Comparing.py:188: H5pyDeprecationWarning: The default file mode will change to 'r' (read-only) in h5py 3.0. To suppress this warning, pass the mode you need to h5py.File(), or set the global default h5.get_config().default_file_mode, or set the environment variable H5PY_DEFAULT_READONLY=1. Available modes are: 'r', 'r+', 'w', 'w-'/'x', 'a'. See the docs for details.\n",
            "  db = h5py.File(featuresPath)\n"
          ]
        },
        {
          "output_type": "stream",
          "name": "stdout",
          "text": [
            "Iteration 1\n",
            "Iteration 2\n",
            "Iteration 3\n",
            "Iteration 4\n",
            "Iteration 5\n",
            "Iteration 6\n",
            "Iteration 7\n",
            "Iteration 8\n",
            "Iteration 9\n",
            "./output/Mias/results/kfold-comparison_xception.csv\n",
            "['xception_MLP' 'xception_SVM' 'xception_KNN'\n",
            " 'xception_LogisticRegression' 'xception_GradientBoost'\n",
            " 'xception_RandomForest']\n",
            "==========================================================\n",
            "Report\n",
            "==========================================================\n",
            "**********************************************************\n",
            "Mean and std\n",
            "**********************************************************\n",
            "xception_MLP: 0.914980 (0.045679)\n",
            "xception_SVM: 0.917381 (0.040699)\n",
            "xception_KNN: 0.897111 (0.057043)\n",
            "xception_LogisticRegression: 0.918128 (0.044939)\n",
            "xception_GradientBoost: 0.924921 (0.053911)\n",
            "xception_RandomForest: 0.903814 (0.047745)\n",
            "**********************************************************\n",
            "Statistical tests\n",
            "**********************************************************\n",
            "----------------------------------------------------------\n",
            "Checking parametric conditions \n",
            "----------------------------------------------------------\n",
            "Conditions for a parametric test are not fulfilled, applying a non-parametric test\n",
            "----------------------------------------------------------\n",
            "Working with more than 2 algorithms\n",
            "----------------------------------------------------------\n",
            "----------------------------------------------------------\n",
            "Applying Friedman test\n",
            "----------------------------------------------------------\n",
            "F-value: 1.570470, p-value: 0.1877851432982356\n",
            "Null hypothesis is accepted; hence, we can't say that there is a significant difference in the performance of the models\n",
            "----------------------------------------------------------\n",
            "Analysing effect size\n",
            "----------------------------------------------------------\n",
            "We take the model with the best mean (xception_GradientBoost, mean: 0.924921) and compare it with the other models: \n",
            "Comparing effect size of xception_GradientBoost and xception_MLP: Cohen's d=0.18874540338613524, Small\n",
            "Comparing effect size of xception_GradientBoost and xception_SVM: Cohen's d=0.14976827797178643, Small\n",
            "Comparing effect size of xception_GradientBoost and xception_KNN: Cohen's d=0.4753678462247693, Medium\n",
            "Comparing effect size of xception_GradientBoost and xception_LogisticRegression: Cohen's d=0.12986180107381914, Small\n",
            "Comparing effect size of xception_GradientBoost and xception_RandomForest: Cohen's d=0.39322871994118774, Medium\n",
            "Eta squared: 0.035836 (Medium)\n",
            "./output/Mias/results/kfold-comparison_bestClassifiers.csv\n",
            "['vgg16_LogisticRegression' 'resnet_SVM' 'inception_SVM'\n",
            " 'xception_GradientBoost']\n",
            "==========================================================\n",
            "Report\n",
            "==========================================================\n",
            "**********************************************************\n",
            "Mean and std\n",
            "**********************************************************\n",
            "vgg16_LogisticRegression: 0.906491 (0.057123)\n",
            "resnet_SVM: 0.927633 (0.031376)\n",
            "inception_SVM: 0.926149 (0.043622)\n",
            "xception_GradientBoost: 0.924921 (0.053911)\n",
            "**********************************************************\n",
            "Statistical tests\n",
            "**********************************************************\n",
            "----------------------------------------------------------\n",
            "Checking parametric conditions \n",
            "----------------------------------------------------------\n",
            "Conditions for a parametric test are not fulfilled, applying a non-parametric test\n",
            "----------------------------------------------------------\n",
            "Working with more than 2 algorithms\n",
            "----------------------------------------------------------\n",
            "----------------------------------------------------------\n",
            "Applying Quade test\n",
            "----------------------------------------------------------\n",
            "F-value: 0.647059, p-value: 0.5916011329502564\n",
            "Null hypothesis is accepted; hence, we can't say that there is a significant difference in the performance of the models\n",
            "----------------------------------------------------------\n",
            "Analysing effect size\n",
            "----------------------------------------------------------\n",
            "We take the model with the best mean (resnet_SVM, mean: 0.927633) and compare it with the other models: \n",
            "Comparing effect size of resnet_SVM and vgg16_LogisticRegression: Cohen's d=0.4352190735853147, Medium\n",
            "Comparing effect size of resnet_SVM and inception_SVM: Cohen's d=0.03706478828406502, Small\n",
            "Comparing effect size of resnet_SVM and xception_GradientBoost: Cohen's d=0.058332168521593585, Small\n",
            "Eta squared: 0.031651 (Medium)\n"
          ]
        },
        {
          "output_type": "execute_result",
          "data": {
            "text/plain": [
              "2696.2916131019592"
            ]
          },
          "metadata": {},
          "execution_count": 15
        },
        {
          "output_type": "display_data",
          "data": {
            "image/png": "[encoded data removed]",
            "text/plain": [
              "<Figure size 432x288 with 1 Axes>"
            ]
          },
          "metadata": {
            "needs_background": "light"
          }
        },
        {
          "output_type": "display_data",
          "data": {
            "image/png": "[encoded data removed]",
            "text/plain": [
              "<Figure size 432x288 with 1 Axes>"
            ]
          },
          "metadata": {
            "needs_background": "light"
          }
        },
        {
          "output_type": "display_data",
          "data": {
            "image/png": "[encoded data removed]",
            "text/plain": [
              "<Figure size 432x288 with 1 Axes>"
            ]
          },
          "metadata": {
            "needs_background": "light"
          }
        },
        {
          "output_type": "display_data",
          "data": {
            "image/png": "[encoded data removed]",
            "text/plain": [
              "<Figure size 432x288 with 1 Axes>"
            ]
          },
          "metadata": {
            "needs_background": "light"
          }
        },
        {
          "output_type": "display_data",
          "data": {
            "image/png": "[encoded data removed]",
            "text/plain": [
              "<Figure size 432x288 with 1 Axes>"
            ]
          },
          "metadata": {
            "needs_background": "light"
          }
        },
        {
          "output_type": "display_data",
          "data": {
            "image/png": "[encoded data removed]",
            "text/plain": [
              "<Figure size 432x288 with 1 Axes>"
            ]
          },
          "metadata": {
            "needs_background": "light"
          }
        }
      ]
    },
    {
      "cell_type": "markdown",
      "metadata": {
        "id": "-FkkzGCGfTDc"
      },
      "source": [
        "### Train the model"
      ]
    },
    {
      "cell_type": "markdown",
      "metadata": {
        "id": "D4oP9OPPfTDd"
      },
      "source": [
        "The study gives us as result the best model and indicates if there are significant differences between this and the rest of the models. With this information, we can train the best model and return as a result of the framework to the user.\n",
        "\n",
        "In this function FrImCla asks the user if he/she wants a web application or not (Y if the user wants the webapp). This web application uses the best model selected by FrImCla for this problem. The application generated is very simple and only contains a text box and a button to predict the class of new images. FrImCla generates a zip file that must be decompressed to be used. Inside the folder the user has to open a new terminal in this path and run the following command:\n",
        "\n",
        "`python3 FlaskApp/app.py`\n",
        "\n",
        "The comand executes the web application in http://localhost:5000/ To use the application the user has to write open the link in his/her browser."
      ]
    },
    {
      "cell_type": "code",
      "metadata": {
        "id": "rDsLLwmafTDe",
        "colab": {
          "base_uri": "https://localhost:8080/"
        },
        "outputId": "1b4ddb6e-70cd-4f00-f2ac-acdb92696e7b"
      },
      "source": [
        "train(outputPath, datasetPath, trainingSize)"
      ],
      "execution_count": null,
      "outputs": [
        {
          "output_type": "stream",
          "name": "stdout",
          "text": [
            "[INFO] gathering train/test splits...\n",
            "[INFO] tuning hyperparameters...\n"
          ]
        },
        {
          "output_type": "stream",
          "name": "stderr",
          "text": [
            "/usr/local/lib/python3.7/dist-packages/frimcla/train.py:52: H5pyDeprecationWarning: The default file mode will change to 'r' (read-only) in h5py 3.0. To suppress this warning, pass the mode you need to h5py.File(), or set the global default h5.get_config().default_file_mode, or set the environment variable H5PY_DEFAULT_READONLY=1. Available modes are: 'r', 'r+', 'w', 'w-'/'x', 'a'. See the docs for details.\n",
            "  db = h5py.File(featuresPath)\n"
          ]
        },
        {
          "name": "stdout",
          "output_type": "stream",
          "text": [
            "[INFO] best hyperparameters: {'kernel': 'linear', 'gamma': 0.0001, 'C': 1000}\n",
            "[INFO] dumping classifier...\n",
            "Do you want to generate a web app to classify the images with the best combination? y/n\n",
            "N\n"
          ]
        },
        {
          "output_type": "execute_result",
          "data": {
            "text/plain": [
              "2.4321036338806152"
            ]
          },
          "metadata": {},
          "execution_count": 16
        }
      ]
    },
    {
      "cell_type": "markdown",
      "metadata": {
        "id": "RU8fmtbffTDi"
      },
      "source": [
        "### Predict the class of the images"
      ]
    },
    {
      "cell_type": "markdown",
      "metadata": {
        "id": "8u6mLgC8fTDj"
      },
      "source": [
        "Finally, we have the best model and we can use it to predict the class of our images. To do this we have to use the following command and we have to define the feature extractor and the classifier."
      ]
    },
    {
      "cell_type": "code",
      "metadata": {
        "id": "6quzE7GISKOK"
      },
      "source": [
        "import json"
      ],
      "execution_count": null,
      "outputs": []
    },
    {
      "cell_type": "code",
      "metadata": {
        "id": "dYh9iMmTfTDk",
        "colab": {
          "base_uri": "https://localhost:8080/"
        },
        "outputId": "20d13c3d-be48-4f73-f49f-92e2711fa0ca"
      },
      "source": [
        "datasetName = datasetPath[datasetPath.rfind(\"/\")+1:]\n",
        "\n",
        "with open(\"./output/\" + datasetName +'/ConfModel.json') as data:\n",
        "    datos = json.load(data)\n",
        "\n",
        "extractors = datos[\"featureExtractors\"]\n",
        "classifiers = [\"GradientBoost\",\"RandomForest\", \"SVM\",\"KNN\",\"LogisticRegression\", \"MLP\"]\n",
        "\n",
        "imagePaths = \"./Mias/NORMAL\"\n",
        "predictionEnsemble(featureExtractors, classifiers, imagePaths, \"./output\", datasetName)"
      ],
      "execution_count": null,
      "outputs": [
        {
          "output_type": "stream",
          "name": "stdout",
          "text": [
            "[INFO] loading ['vgg19', 'False']...\n",
            "WARNING:tensorflow:From /tensorflow-1.15.2/python3.7/tensorflow_core/python/ops/resource_variable_ops.py:1630: calling BaseResourceVariable.__init__ (from tensorflow.python.ops.resource_variable_ops) with constraint is deprecated and will be removed in a future version.\n",
            "Instructions for updating:\n",
            "If using Keras pass *_constraint arguments to layers.\n",
            "WARNING:tensorflow:From /tensorflow-1.15.2/python3.7/keras/backend/tensorflow_backend.py:4070: The name tf.nn.max_pool is deprecated. Please use tf.nn.max_pool2d instead.\n",
            "\n",
            "WARNING:tensorflow:From /tensorflow-1.15.2/python3.7/keras/backend/tensorflow_backend.py:422: The name tf.global_variables is deprecated. Please use tf.compat.v1.global_variables instead.\n",
            "\n",
            "[INFO] loading ['vgg16', 'False']...\n",
            "[INFO] loading ['resnet', 'False']...\n",
            "[INFO] loading ['inception', 'False']...\n",
            "WARNING:tensorflow:From /tensorflow-1.15.2/python3.7/keras/backend/tensorflow_backend.py:4074: The name tf.nn.avg_pool is deprecated. Please use tf.nn.avg_pool2d instead.\n",
            "\n",
            "[INFO] loading ['xception', 'False']...\n",
            "[INFO] class predicted for the image ./Mias/NORMAL/mdb052.jpg: NORMAL\n",
            "[INFO] class predicted for the image ./Mias/NORMAL/mdb084.jpg: NORMAL\n",
            "[INFO] class predicted for the image ./Mias/NORMAL/mdb038.jpg: NORMAL\n",
            "[INFO] class predicted for the image ./Mias/NORMAL/mdb047.jpg: NORMAL\n",
            "[INFO] class predicted for the image ./Mias/NORMAL/mdb297.jpg: NORMAL\n",
            "[INFO] class predicted for the image ./Mias/NORMAL/mdb029.jpg: NORMAL\n",
            "[INFO] class predicted for the image ./Mias/NORMAL/mdb235.jpg: NORMAL\n",
            "[INFO] class predicted for the image ./Mias/NORMAL/mdb254.jpg: NORMAL\n",
            "[INFO] class predicted for the image ./Mias/NORMAL/mdb291.jpg: NORMAL\n",
            "[INFO] class predicted for the image ./Mias/NORMAL/mdb131.jpg: NORMAL\n",
            "[INFO] class predicted for the image ./Mias/NORMAL/mdb048.jpg: NORMAL\n",
            "[INFO] class predicted for the image ./Mias/NORMAL/mdb266.jpg: NORMAL\n",
            "[INFO] class predicted for the image ./Mias/NORMAL/mdb026.jpg: NORMAL\n",
            "[INFO] class predicted for the image ./Mias/NORMAL/mdb289.jpg: NORMAL\n",
            "[INFO] class predicted for the image ./Mias/NORMAL/mdb096.jpg: NORMAL\n",
            "[INFO] class predicted for the image ./Mias/NORMAL/mdb040.jpg: NORMAL\n",
            "[INFO] class predicted for the image ./Mias/NORMAL/mdb306.jpg: NORMAL\n",
            "[INFO] class predicted for the image ./Mias/NORMAL/mdb003.jpg: NORMAL\n",
            "[INFO] class predicted for the image ./Mias/NORMAL/mdb246.jpg: NORMAL\n",
            "[INFO] class predicted for the image ./Mias/NORMAL/mdb283.jpg: NORMAL\n",
            "[INFO] class predicted for the image ./Mias/NORMAL/mdb055.jpg: NORMAL\n",
            "[INFO] class predicted for the image ./Mias/NORMAL/mdb313.jpg: NORMAL\n",
            "[INFO] class predicted for the image ./Mias/NORMAL/mdb114.jpg: NORMAL\n",
            "[INFO] class predicted for the image ./Mias/NORMAL/mdb200.jpg: NORMAL\n",
            "[INFO] class predicted for the image ./Mias/NORMAL/mdb321.jpg: NORMAL\n",
            "[INFO] class predicted for the image ./Mias/NORMAL/mdb065.jpg: NORMAL\n",
            "[INFO] class predicted for the image ./Mias/NORMAL/mdb281.jpg: NORMAL\n",
            "[INFO] class predicted for the image ./Mias/NORMAL/mdb247.jpg: NORMAL\n",
            "[INFO] class predicted for the image ./Mias/NORMAL/mdb229.jpg: NORMAL\n",
            "[INFO] class predicted for the image ./Mias/NORMAL/mdb308.jpg: NORMAL\n",
            "[INFO] class predicted for the image ./Mias/NORMAL/mdb044.jpg: NORMAL\n",
            "[INFO] class predicted for the image ./Mias/NORMAL/mdb018.jpg: NORMAL\n",
            "[INFO] class predicted for the image ./Mias/NORMAL/mdb309.jpg: NORMAL\n",
            "[INFO] class predicted for the image ./Mias/NORMAL/mdb286.jpg: NORMAL\n",
            "[INFO] class predicted for the image ./Mias/NORMAL/mdb031.jpg: NORMAL\n",
            "[INFO] class predicted for the image ./Mias/NORMAL/mdb237.jpg: NORMAL\n",
            "[INFO] class predicted for the image ./Mias/NORMAL/mdb258.jpg: NORMAL\n",
            "[INFO] class predicted for the image ./Mias/NORMAL/mdb173.jpg: NORMAL\n",
            "[INFO] class predicted for the image ./Mias/NORMAL/mdb149.jpg: NORMAL\n",
            "[INFO] class predicted for the image ./Mias/NORMAL/mdb168.jpg: NORMAL\n",
            "[INFO] class predicted for the image ./Mias/NORMAL/mdb068.jpg: NORMAL\n",
            "[INFO] class predicted for the image ./Mias/NORMAL/mdb035.jpg: NORMAL\n",
            "[INFO] class predicted for the image ./Mias/NORMAL/mdb054.jpg: NORMAL\n",
            "[INFO] class predicted for the image ./Mias/NORMAL/mdb051.jpg: NORMAL\n",
            "[INFO] class predicted for the image ./Mias/NORMAL/mdb174.jpg: NORMAL\n",
            "[INFO] class predicted for the image ./Mias/NORMAL/mdb310.jpg: NORMAL\n",
            "[INFO] class predicted for the image ./Mias/NORMAL/mdb319.jpg: NORMAL\n",
            "[INFO] class predicted for the image ./Mias/NORMAL/mdb205.jpg: NORMAL\n",
            "[INFO] class predicted for the image ./Mias/NORMAL/mdb296.jpg: NORMAL\n",
            "[INFO] class predicted for the image ./Mias/NORMAL/mdb027.jpg: NORMAL\n",
            "[INFO] class predicted for the image ./Mias/NORMAL/mdb292.jpg: NORMAL\n",
            "[INFO] class predicted for the image ./Mias/NORMAL/mdb042.jpg: NORMAL\n",
            "[INFO] class predicted for the image ./Mias/NORMAL/mdb061.jpg: NORMAL\n",
            "[INFO] class predicted for the image ./Mias/NORMAL/mdb008.jpg: NORMAL\n",
            "[INFO] class predicted for the image ./Mias/NORMAL/mdb006.jpg: NORMAL\n",
            "[INFO] class predicted for the image ./Mias/NORMAL/mdb279.jpg: NORMAL\n",
            "[INFO] class predicted for the image ./Mias/NORMAL/mdb183.jpg: NORMAL\n",
            "[INFO] class predicted for the image ./Mias/NORMAL/mdb060.jpg: NORMAL\n",
            "[INFO] class predicted for the image ./Mias/NORMAL/mdb220.jpg: NORMAL\n",
            "[INFO] class predicted for the image ./Mias/NORMAL/mdb119.jpg: ABNORMAL\n",
            "[INFO] class predicted for the image ./Mias/NORMAL/mdb166.jpg: NORMAL\n",
            "[INFO] class predicted for the image ./Mias/NORMAL/mdb159.jpg: NORMAL\n",
            "[INFO] class predicted for the image ./Mias/NORMAL/mdb147.jpg: NORMAL\n",
            "[INFO] class predicted for the image ./Mias/NORMAL/mdb250.jpg: NORMAL\n",
            "[INFO] class predicted for the image ./Mias/NORMAL/mdb230.jpg: NORMAL\n",
            "[INFO] class predicted for the image ./Mias/NORMAL/mdb046.jpg: NORMAL\n",
            "[INFO] class predicted for the image ./Mias/NORMAL/mdb129.jpg: NORMAL\n",
            "[INFO] class predicted for the image ./Mias/NORMAL/mdb154.jpg: NORMAL\n",
            "[INFO] class predicted for the image ./Mias/NORMAL/mdb259.jpg: NORMAL\n",
            "[INFO] class predicted for the image ./Mias/NORMAL/mdb243.jpg: NORMAL\n",
            "[INFO] class predicted for the image ./Mias/NORMAL/mdb067.jpg: NORMAL\n",
            "[INFO] class predicted for the image ./Mias/NORMAL/mdb224.jpg: NORMAL\n",
            "[INFO] class predicted for the image ./Mias/NORMAL/mdb098.jpg: NORMAL\n",
            "[INFO] class predicted for the image ./Mias/NORMAL/mdb273.jpg: NORMAL\n",
            "[INFO] class predicted for the image ./Mias/NORMAL/mdb088.jpg: NORMAL\n",
            "[INFO] class predicted for the image ./Mias/NORMAL/mdb203.jpg: NORMAL\n",
            "[INFO] class predicted for the image ./Mias/NORMAL/mdb037.jpg: NORMAL\n",
            "[INFO] class predicted for the image ./Mias/NORMAL/mdb201.jpg: NORMAL\n",
            "[INFO] class predicted for the image ./Mias/NORMAL/mdb210.jpg: NORMAL\n",
            "[INFO] class predicted for the image ./Mias/NORMAL/mdb301.jpg: NORMAL\n",
            "[INFO] class predicted for the image ./Mias/NORMAL/mdb302.jpg: NORMAL\n",
            "[INFO] class predicted for the image ./Mias/NORMAL/mdb275.jpg: NORMAL\n",
            "[INFO] class predicted for the image ./Mias/NORMAL/mdb136.jpg: NORMAL\n",
            "[INFO] class predicted for the image ./Mias/NORMAL/mdb135.jpg: NORMAL\n",
            "[INFO] class predicted for the image ./Mias/NORMAL/mdb262.jpg: NORMAL\n",
            "[INFO] class predicted for the image ./Mias/NORMAL/mdb082.jpg: NORMAL\n",
            "[INFO] class predicted for the image ./Mias/NORMAL/mdb004.jpg: NORMAL\n",
            "[INFO] class predicted for the image ./Mias/NORMAL/mdb009.jpg: NORMAL\n",
            "[INFO] class predicted for the image ./Mias/NORMAL/mdb293.jpg: NORMAL\n",
            "[INFO] class predicted for the image ./Mias/NORMAL/mdb260.jpg: NORMAL\n",
            "[INFO] class predicted for the image ./Mias/NORMAL/mdb056.jpg: NORMAL\n",
            "[INFO] class predicted for the image ./Mias/NORMAL/mdb189.jpg: NORMAL\n",
            "[INFO] class predicted for the image ./Mias/NORMAL/mdb093.jpg: NORMAL\n",
            "[INFO] class predicted for the image ./Mias/NORMAL/mdb011.jpg: NORMAL\n",
            "[INFO] class predicted for the image ./Mias/NORMAL/mdb085.jpg: NORMAL\n",
            "[INFO] class predicted for the image ./Mias/NORMAL/mdb064.jpg: NORMAL\n",
            "[INFO] class predicted for the image ./Mias/NORMAL/mdb109.jpg: NORMAL\n",
            "[INFO] class predicted for the image ./Mias/NORMAL/mdb118.jpg: NORMAL\n",
            "[INFO] class predicted for the image ./Mias/NORMAL/mdb137.jpg: NORMAL\n",
            "[INFO] class predicted for the image ./Mias/NORMAL/mdb215.jpg: NORMAL\n",
            "[INFO] class predicted for the image ./Mias/NORMAL/mdb217.jpg: NORMAL\n",
            "[INFO] class predicted for the image ./Mias/NORMAL/mdb086.jpg: NORMAL\n",
            "[INFO] class predicted for the image ./Mias/NORMAL/mdb043.jpg: NORMAL\n",
            "[INFO] class predicted for the image ./Mias/NORMAL/mdb303.jpg: NORMAL\n",
            "[INFO] class predicted for the image ./Mias/NORMAL/mdb138.jpg: ABNORMAL\n",
            "[INFO] class predicted for the image ./Mias/NORMAL/mdb263.jpg: NORMAL\n",
            "[INFO] class predicted for the image ./Mias/NORMAL/mdb079.jpg: NORMAL\n",
            "[INFO] class predicted for the image ./Mias/NORMAL/mdb153.jpg: NORMAL\n",
            "[INFO] class predicted for the image ./Mias/NORMAL/mdb033.jpg: NORMAL\n",
            "[INFO] class predicted for the image ./Mias/NORMAL/mdb016.jpg: NORMAL\n",
            "[INFO] class predicted for the image ./Mias/NORMAL/mdb034.jpg: NORMAL\n",
            "[INFO] class predicted for the image ./Mias/NORMAL/mdb251.jpg: NORMAL\n",
            "[INFO] class predicted for the image ./Mias/NORMAL/mdb234.jpg: NORMAL\n",
            "[INFO] class predicted for the image ./Mias/NORMAL/mdb078.jpg: NORMAL\n",
            "[INFO] class predicted for the image ./Mias/NORMAL/mdb299.jpg: NORMAL\n",
            "[INFO] class predicted for the image ./Mias/NORMAL/mdb041.jpg: NORMAL\n",
            "[INFO] class predicted for the image ./Mias/NORMAL/mdb024.jpg: NORMAL\n",
            "[INFO] class predicted for the image ./Mias/NORMAL/mdb164.jpg: NORMAL\n",
            "[INFO] class predicted for the image ./Mias/NORMAL/mdb062.jpg: NORMAL\n",
            "[INFO] class predicted for the image ./Mias/NORMAL/mdb176.jpg: NORMAL\n",
            "[INFO] class predicted for the image ./Mias/NORMAL/mdb036.jpg: NORMAL\n",
            "[INFO] class predicted for the image ./Mias/NORMAL/mdb196.jpg: NORMAL\n",
            "[INFO] class predicted for the image ./Mias/NORMAL/mdb094.jpg: NORMAL\n",
            "[INFO] class predicted for the image ./Mias/NORMAL/mdb133.jpg: NORMAL\n",
            "[INFO] class predicted for the image ./Mias/NORMAL/mdb156.jpg: NORMAL\n",
            "[INFO] class predicted for the image ./Mias/NORMAL/mdb077.jpg: NORMAL\n",
            "[INFO] class predicted for the image ./Mias/NORMAL/mdb282.jpg: NORMAL\n",
            "[INFO] class predicted for the image ./Mias/NORMAL/mdb073.jpg: NORMAL\n",
            "[INFO] class predicted for the image ./Mias/NORMAL/mdb143.jpg: NORMAL\n",
            "[INFO] class predicted for the image ./Mias/NORMAL/mdb214.jpg: NORMAL\n",
            "[INFO] class predicted for the image ./Mias/NORMAL/mdb007.jpg: NORMAL\n",
            "[INFO] class predicted for the image ./Mias/NORMAL/mdb180.jpg: NORMAL\n",
            "[INFO] class predicted for the image ./Mias/NORMAL/mdb106.jpg: NORMAL\n",
            "[INFO] class predicted for the image ./Mias/NORMAL/mdb112.jpg: NORMAL\n",
            "[INFO] class predicted for the image ./Mias/NORMAL/mdb255.jpg: NORMAL\n",
            "[INFO] class predicted for the image ./Mias/NORMAL/mdb318.jpg: NORMAL\n",
            "[INFO] class predicted for the image ./Mias/NORMAL/mdb113.jpg: ABNORMAL\n",
            "[INFO] class predicted for the image ./Mias/NORMAL/mdb014.jpg: NORMAL\n",
            "[INFO] class predicted for the image ./Mias/NORMAL/mdb288.jpg: NORMAL\n",
            "[INFO] class predicted for the image ./Mias/NORMAL/mdb194.jpg: NORMAL\n",
            "[INFO] class predicted for the image ./Mias/NORMAL/mdb140.jpg: NORMAL\n",
            "[INFO] class predicted for the image ./Mias/NORMAL/mdb182.jpg: NORMAL\n",
            "[INFO] class predicted for the image ./Mias/NORMAL/mdb116.jpg: NORMAL\n",
            "[INFO] class predicted for the image ./Mias/NORMAL/mdb278.jpg: NORMAL\n",
            "[INFO] class predicted for the image ./Mias/NORMAL/mdb192.jpg: NORMAL\n",
            "[INFO] class predicted for the image ./Mias/NORMAL/mdb074.jpg: NORMAL\n",
            "[INFO] class predicted for the image ./Mias/NORMAL/mdb307.jpg: NORMAL\n",
            "[INFO] class predicted for the image ./Mias/NORMAL/mdb311.jpg: NORMAL\n",
            "[INFO] class predicted for the image ./Mias/NORMAL/mdb261.jpg: NORMAL\n",
            "[INFO] class predicted for the image ./Mias/NORMAL/mdb305.jpg: NORMAL\n",
            "[INFO] class predicted for the image ./Mias/NORMAL/mdb103.jpg: NORMAL\n",
            "[INFO] class predicted for the image ./Mias/NORMAL/mdb185.jpg: NORMAL\n",
            "[INFO] class predicted for the image ./Mias/NORMAL/mdb285.jpg: NORMAL\n",
            "[INFO] class predicted for the image ./Mias/NORMAL/mdb228.jpg: NORMAL\n",
            "[INFO] class predicted for the image ./Mias/NORMAL/mdb162.jpg: NORMAL\n",
            "[INFO] class predicted for the image ./Mias/NORMAL/mdb022.jpg: NORMAL\n",
            "[INFO] class predicted for the image ./Mias/NORMAL/mdb295.jpg: NORMAL\n",
            "[INFO] class predicted for the image ./Mias/NORMAL/mdb087.jpg: NORMAL\n",
            "[INFO] class predicted for the image ./Mias/NORMAL/mdb128.jpg: NORMAL\n",
            "[INFO] class predicted for the image ./Mias/NORMAL/mdb053.jpg: NORMAL\n",
            "[INFO] class predicted for the image ./Mias/NORMAL/mdb317.jpg: NORMAL\n",
            "[INFO] class predicted for the image ./Mias/NORMAL/mdb066.jpg: NORMAL\n",
            "[INFO] class predicted for the image ./Mias/NORMAL/mdb151.jpg: NORMAL\n",
            "[INFO] class predicted for the image ./Mias/NORMAL/mdb089.jpg: NORMAL\n",
            "[INFO] class predicted for the image ./Mias/NORMAL/mdb225.jpg: NORMAL\n",
            "[INFO] class predicted for the image ./Mias/NORMAL/mdb157.jpg: NORMAL\n",
            "[INFO] class predicted for the image ./Mias/NORMAL/mdb269.jpg: NORMAL\n",
            "[INFO] class predicted for the image ./Mias/NORMAL/mdb108.jpg: NORMAL\n",
            "[INFO] class predicted for the image ./Mias/NORMAL/mdb212.jpg: NORMAL\n",
            "[INFO] class predicted for the image ./Mias/NORMAL/mdb101.jpg: NORMAL\n",
            "[INFO] class predicted for the image ./Mias/NORMAL/mdb146.jpg: NORMAL\n",
            "[INFO] class predicted for the image ./Mias/NORMAL/mdb280.jpg: NORMAL\n",
            "[INFO] class predicted for the image ./Mias/NORMAL/mdb221.jpg: NORMAL\n",
            "[INFO] class predicted for the image ./Mias/NORMAL/mdb071.jpg: NORMAL\n",
            "[INFO] class predicted for the image ./Mias/NORMAL/mdb045.jpg: NORMAL\n",
            "[INFO] class predicted for the image ./Mias/NORMAL/mdb100.jpg: NORMAL\n",
            "[INFO] class predicted for the image ./Mias/NORMAL/mdb177.jpg: NORMAL\n",
            "[INFO] class predicted for the image ./Mias/NORMAL/mdb050.jpg: NORMAL\n",
            "[INFO] class predicted for the image ./Mias/NORMAL/mdb298.jpg: NORMAL\n",
            "[INFO] class predicted for the image ./Mias/NORMAL/mdb320.jpg: NORMAL\n",
            "[INFO] class predicted for the image ./Mias/NORMAL/mdb277.jpg: NORMAL\n",
            "[INFO] class predicted for the image ./Mias/NORMAL/mdb316.jpg: NORMAL\n",
            "[INFO] class predicted for the image ./Mias/NORMAL/mdb268.jpg: NORMAL\n",
            "[INFO] class predicted for the image ./Mias/NORMAL/mdb039.jpg: ABNORMAL\n",
            "[INFO] class predicted for the image ./Mias/NORMAL/mdb242.jpg: NORMAL\n",
            "[INFO] class predicted for the image ./Mias/NORMAL/mdb123.jpg: NORMAL\n",
            "[INFO] class predicted for the image ./Mias/NORMAL/mdb287.jpg: NORMAL\n",
            "[INFO] class predicted for the image ./Mias/NORMAL/mdb161.jpg: NORMAL\n",
            "[INFO] class predicted for the image ./Mias/NORMAL/mdb172.jpg: NORMAL\n",
            "[INFO] class predicted for the image ./Mias/NORMAL/mdb284.jpg: NORMAL\n",
            "[INFO] class predicted for the image ./Mias/NORMAL/mdb139.jpg: NORMAL\n",
            "[INFO] class predicted for the image ./Mias/NORMAL/mdb300.jpg: NORMAL\n",
            "[INFO] class predicted for the image ./Mias/NORMAL/mdb304.jpg: NORMAL\n",
            "[INFO] class predicted for the image ./Mias/NORMAL/mdb272.jpg: NORMAL\n",
            "[INFO] class predicted for the image ./Mias/NORMAL/mdb197.jpg: NORMAL\n",
            "[INFO] class predicted for the image ./Mias/NORMAL/mdb076.jpg: NORMAL\n",
            "[INFO] class predicted for the image ./Mias/NORMAL/mdb232.jpg: NORMAL\n",
            "[INFO] class predicted for the image ./Mias/NORMAL/mdb049.jpg: NORMAL\n"
          ]
        },
        {
          "output_type": "execute_result",
          "data": {
            "text/plain": [
              "[array(['NORMAL'], dtype='<U8'),\n",
              " array(['NORMAL'], dtype='<U8'),\n",
              " array(['NORMAL'], dtype='<U8'),\n",
              " array(['NORMAL'], dtype='<U8'),\n",
              " array(['NORMAL'], dtype='<U8'),\n",
              " array(['NORMAL'], dtype='<U8'),\n",
              " array(['NORMAL'], dtype='<U8'),\n",
              " array(['NORMAL'], dtype='<U8'),\n",
              " array(['NORMAL'], dtype='<U8'),\n",
              " array(['NORMAL'], dtype='<U8'),\n",
              " array(['NORMAL'], dtype='<U8'),\n",
              " array(['NORMAL'], dtype='<U8'),\n",
              " array(['NORMAL'], dtype='<U8'),\n",
              " array(['NORMAL'], dtype='<U8'),\n",
              " array(['NORMAL'], dtype='<U8'),\n",
              " array(['NORMAL'], dtype='<U8'),\n",
              " array(['NORMAL'], dtype='<U8'),\n",
              " array(['NORMAL'], dtype='<U8'),\n",
              " array(['NORMAL'], dtype='<U8'),\n",
              " array(['NORMAL'], dtype='<U8'),\n",
              " array(['NORMAL'], dtype='<U8'),\n",
              " array(['NORMAL'], dtype='<U8'),\n",
              " array(['NORMAL'], dtype='<U8'),\n",
              " array(['NORMAL'], dtype='<U8'),\n",
              " array(['NORMAL'], dtype='<U8'),\n",
              " array(['NORMAL'], dtype='<U8'),\n",
              " array(['NORMAL'], dtype='<U8'),\n",
              " array(['NORMAL'], dtype='<U8'),\n",
              " array(['NORMAL'], dtype='<U8'),\n",
              " array(['NORMAL'], dtype='<U8'),\n",
              " array(['NORMAL'], dtype='<U8'),\n",
              " array(['NORMAL'], dtype='<U8'),\n",
              " array(['NORMAL'], dtype='<U8'),\n",
              " array(['NORMAL'], dtype='<U8'),\n",
              " array(['NORMAL'], dtype='<U8'),\n",
              " array(['NORMAL'], dtype='<U8'),\n",
              " array(['NORMAL'], dtype='<U8'),\n",
              " array(['NORMAL'], dtype='<U8'),\n",
              " array(['NORMAL'], dtype='<U8'),\n",
              " array(['NORMAL'], dtype='<U8'),\n",
              " array(['NORMAL'], dtype='<U8'),\n",
              " array(['NORMAL'], dtype='<U8'),\n",
              " array(['NORMAL'], dtype='<U8'),\n",
              " array(['NORMAL'], dtype='<U8'),\n",
              " array(['NORMAL'], dtype='<U8'),\n",
              " array(['NORMAL'], dtype='<U8'),\n",
              " array(['NORMAL'], dtype='<U8'),\n",
              " array(['NORMAL'], dtype='<U8'),\n",
              " array(['NORMAL'], dtype='<U8'),\n",
              " array(['NORMAL'], dtype='<U8'),\n",
              " array(['NORMAL'], dtype='<U8'),\n",
              " array(['NORMAL'], dtype='<U8'),\n",
              " array(['NORMAL'], dtype='<U8'),\n",
              " array(['NORMAL'], dtype='<U8'),\n",
              " array(['NORMAL'], dtype='<U8'),\n",
              " array(['NORMAL'], dtype='<U8'),\n",
              " array(['NORMAL'], dtype='<U8'),\n",
              " array(['NORMAL'], dtype='<U8'),\n",
              " array(['NORMAL'], dtype='<U8'),\n",
              " array(['ABNORMAL'], dtype='<U8'),\n",
              " array(['NORMAL'], dtype='<U8'),\n",
              " array(['NORMAL'], dtype='<U8'),\n",
              " array(['NORMAL'], dtype='<U8'),\n",
              " array(['NORMAL'], dtype='<U8'),\n",
              " array(['NORMAL'], dtype='<U8'),\n",
              " array(['NORMAL'], dtype='<U8'),\n",
              " array(['NORMAL'], dtype='<U8'),\n",
              " array(['NORMAL'], dtype='<U8'),\n",
              " array(['NORMAL'], dtype='<U8'),\n",
              " array(['NORMAL'], dtype='<U8'),\n",
              " array(['NORMAL'], dtype='<U8'),\n",
              " array(['NORMAL'], dtype='<U8'),\n",
              " array(['NORMAL'], dtype='<U8'),\n",
              " array(['NORMAL'], dtype='<U8'),\n",
              " array(['NORMAL'], dtype='<U8'),\n",
              " array(['NORMAL'], dtype='<U8'),\n",
              " array(['NORMAL'], dtype='<U8'),\n",
              " array(['NORMAL'], dtype='<U8'),\n",
              " array(['NORMAL'], dtype='<U8'),\n",
              " array(['NORMAL'], dtype='<U8'),\n",
              " array(['NORMAL'], dtype='<U8'),\n",
              " array(['NORMAL'], dtype='<U8'),\n",
              " array(['NORMAL'], dtype='<U8'),\n",
              " array(['NORMAL'], dtype='<U8'),\n",
              " array(['NORMAL'], dtype='<U8'),\n",
              " array(['NORMAL'], dtype='<U8'),\n",
              " array(['NORMAL'], dtype='<U8'),\n",
              " array(['NORMAL'], dtype='<U8'),\n",
              " array(['NORMAL'], dtype='<U8'),\n",
              " array(['NORMAL'], dtype='<U8'),\n",
              " array(['NORMAL'], dtype='<U8'),\n",
              " array(['NORMAL'], dtype='<U8'),\n",
              " array(['NORMAL'], dtype='<U8'),\n",
              " array(['NORMAL'], dtype='<U8'),\n",
              " array(['NORMAL'], dtype='<U8'),\n",
              " array(['NORMAL'], dtype='<U8'),\n",
              " array(['NORMAL'], dtype='<U8'),\n",
              " array(['NORMAL'], dtype='<U8'),\n",
              " array(['NORMAL'], dtype='<U8'),\n",
              " array(['NORMAL'], dtype='<U8'),\n",
              " array(['NORMAL'], dtype='<U8'),\n",
              " array(['NORMAL'], dtype='<U8'),\n",
              " array(['NORMAL'], dtype='<U8'),\n",
              " array(['NORMAL'], dtype='<U8'),\n",
              " array(['ABNORMAL'], dtype='<U8'),\n",
              " array(['NORMAL'], dtype='<U8'),\n",
              " array(['NORMAL'], dtype='<U8'),\n",
              " array(['NORMAL'], dtype='<U8'),\n",
              " array(['NORMAL'], dtype='<U8'),\n",
              " array(['NORMAL'], dtype='<U8'),\n",
              " array(['NORMAL'], dtype='<U8'),\n",
              " array(['NORMAL'], dtype='<U8'),\n",
              " array(['NORMAL'], dtype='<U8'),\n",
              " array(['NORMAL'], dtype='<U8'),\n",
              " array(['NORMAL'], dtype='<U8'),\n",
              " array(['NORMAL'], dtype='<U8'),\n",
              " array(['NORMAL'], dtype='<U8'),\n",
              " array(['NORMAL'], dtype='<U8'),\n",
              " array(['NORMAL'], dtype='<U8'),\n",
              " array(['NORMAL'], dtype='<U8'),\n",
              " array(['NORMAL'], dtype='<U8'),\n",
              " array(['NORMAL'], dtype='<U8'),\n",
              " array(['NORMAL'], dtype='<U8'),\n",
              " array(['NORMAL'], dtype='<U8'),\n",
              " array(['NORMAL'], dtype='<U8'),\n",
              " array(['NORMAL'], dtype='<U8'),\n",
              " array(['NORMAL'], dtype='<U8'),\n",
              " array(['NORMAL'], dtype='<U8'),\n",
              " array(['NORMAL'], dtype='<U8'),\n",
              " array(['NORMAL'], dtype='<U8'),\n",
              " array(['NORMAL'], dtype='<U8'),\n",
              " array(['NORMAL'], dtype='<U8'),\n",
              " array(['NORMAL'], dtype='<U8'),\n",
              " array(['NORMAL'], dtype='<U8'),\n",
              " array(['NORMAL'], dtype='<U8'),\n",
              " array(['NORMAL'], dtype='<U8'),\n",
              " array(['ABNORMAL'], dtype='<U8'),\n",
              " array(['NORMAL'], dtype='<U8'),\n",
              " array(['NORMAL'], dtype='<U8'),\n",
              " array(['NORMAL'], dtype='<U8'),\n",
              " array(['NORMAL'], dtype='<U8'),\n",
              " array(['NORMAL'], dtype='<U8'),\n",
              " array(['NORMAL'], dtype='<U8'),\n",
              " array(['NORMAL'], dtype='<U8'),\n",
              " array(['NORMAL'], dtype='<U8'),\n",
              " array(['NORMAL'], dtype='<U8'),\n",
              " array(['NORMAL'], dtype='<U8'),\n",
              " array(['NORMAL'], dtype='<U8'),\n",
              " array(['NORMAL'], dtype='<U8'),\n",
              " array(['NORMAL'], dtype='<U8'),\n",
              " array(['NORMAL'], dtype='<U8'),\n",
              " array(['NORMAL'], dtype='<U8'),\n",
              " array(['NORMAL'], dtype='<U8'),\n",
              " array(['NORMAL'], dtype='<U8'),\n",
              " array(['NORMAL'], dtype='<U8'),\n",
              " array(['NORMAL'], dtype='<U8'),\n",
              " array(['NORMAL'], dtype='<U8'),\n",
              " array(['NORMAL'], dtype='<U8'),\n",
              " array(['NORMAL'], dtype='<U8'),\n",
              " array(['NORMAL'], dtype='<U8'),\n",
              " array(['NORMAL'], dtype='<U8'),\n",
              " array(['NORMAL'], dtype='<U8'),\n",
              " array(['NORMAL'], dtype='<U8'),\n",
              " array(['NORMAL'], dtype='<U8'),\n",
              " array(['NORMAL'], dtype='<U8'),\n",
              " array(['NORMAL'], dtype='<U8'),\n",
              " array(['NORMAL'], dtype='<U8'),\n",
              " array(['NORMAL'], dtype='<U8'),\n",
              " array(['NORMAL'], dtype='<U8'),\n",
              " array(['NORMAL'], dtype='<U8'),\n",
              " array(['NORMAL'], dtype='<U8'),\n",
              " array(['NORMAL'], dtype='<U8'),\n",
              " array(['NORMAL'], dtype='<U8'),\n",
              " array(['NORMAL'], dtype='<U8'),\n",
              " array(['NORMAL'], dtype='<U8'),\n",
              " array(['NORMAL'], dtype='<U8'),\n",
              " array(['NORMAL'], dtype='<U8'),\n",
              " array(['NORMAL'], dtype='<U8'),\n",
              " array(['NORMAL'], dtype='<U8'),\n",
              " array(['NORMAL'], dtype='<U8'),\n",
              " array(['NORMAL'], dtype='<U8'),\n",
              " array(['NORMAL'], dtype='<U8'),\n",
              " array(['NORMAL'], dtype='<U8'),\n",
              " array(['ABNORMAL'], dtype='<U8'),\n",
              " array(['NORMAL'], dtype='<U8'),\n",
              " array(['NORMAL'], dtype='<U8'),\n",
              " array(['NORMAL'], dtype='<U8'),\n",
              " array(['NORMAL'], dtype='<U8'),\n",
              " array(['NORMAL'], dtype='<U8'),\n",
              " array(['NORMAL'], dtype='<U8'),\n",
              " array(['NORMAL'], dtype='<U8'),\n",
              " array(['NORMAL'], dtype='<U8'),\n",
              " array(['NORMAL'], dtype='<U8'),\n",
              " array(['NORMAL'], dtype='<U8'),\n",
              " array(['NORMAL'], dtype='<U8'),\n",
              " array(['NORMAL'], dtype='<U8'),\n",
              " array(['NORMAL'], dtype='<U8'),\n",
              " array(['NORMAL'], dtype='<U8')]"
            ]
          },
          "metadata": {},
          "execution_count": 18
        }
      ]
    },
    {
      "cell_type": "code",
      "metadata": {
        "id": "M9Lm97RIJm2_"
      },
      "source": [
        "from keras.callbacks import ModelCheckpoint\n",
        "filepath=\"weights.best.hdf5\"\n",
        "checkpoint = ModelCheckpoint(filepath, monitor='val_accuracy', verbose=1, save_best_only=True, mode='max')\n",
        "callbacks_list = [checkpoint]"
      ],
      "execution_count": null,
      "outputs": []
    },
    {
      "cell_type": "code",
      "metadata": {
        "id": "hZdfLLy-fTDp",
        "colab": {
          "base_uri": "https://localhost:8080/"
        },
        "outputId": "da8f49ee-9930-4fcd-a948-9ff3f66f30d0"
      },
      "source": [
        "!cat output/Mias/predictionResults.csv"
      ],
      "execution_count": null,
      "outputs": [
        {
          "output_type": "stream",
          "name": "stdout",
          "text": [
            "image_id, Mias\n",
            "./Mias/NORMAL/mdb052.jpg, NORMAL\n",
            "./Mias/NORMAL/mdb084.jpg, NORMAL\n",
            "./Mias/NORMAL/mdb038.jpg, NORMAL\n",
            "./Mias/NORMAL/mdb047.jpg, NORMAL\n",
            "./Mias/NORMAL/mdb297.jpg, NORMAL\n",
            "./Mias/NORMAL/mdb029.jpg, NORMAL\n",
            "./Mias/NORMAL/mdb235.jpg, NORMAL\n",
            "./Mias/NORMAL/mdb254.jpg, NORMAL\n",
            "./Mias/NORMAL/mdb291.jpg, NORMAL\n",
            "./Mias/NORMAL/mdb131.jpg, NORMAL\n",
            "./Mias/NORMAL/mdb048.jpg, NORMAL\n",
            "./Mias/NORMAL/mdb266.jpg, NORMAL\n",
            "./Mias/NORMAL/mdb026.jpg, NORMAL\n",
            "./Mias/NORMAL/mdb289.jpg, NORMAL\n",
            "./Mias/NORMAL/mdb096.jpg, NORMAL\n",
            "./Mias/NORMAL/mdb040.jpg, NORMAL\n",
            "./Mias/NORMAL/mdb306.jpg, NORMAL\n",
            "./Mias/NORMAL/mdb003.jpg, NORMAL\n",
            "./Mias/NORMAL/mdb246.jpg, NORMAL\n",
            "./Mias/NORMAL/mdb283.jpg, NORMAL\n",
            "./Mias/NORMAL/mdb055.jpg, NORMAL\n",
            "./Mias/NORMAL/mdb313.jpg, NORMAL\n",
            "./Mias/NORMAL/mdb114.jpg, NORMAL\n",
            "./Mias/NORMAL/mdb200.jpg, NORMAL\n",
            "./Mias/NORMAL/mdb321.jpg, NORMAL\n",
            "./Mias/NORMAL/mdb065.jpg, NORMAL\n",
            "./Mias/NORMAL/mdb281.jpg, NORMAL\n",
            "./Mias/NORMAL/mdb247.jpg, NORMAL\n",
            "./Mias/NORMAL/mdb229.jpg, NORMAL\n",
            "./Mias/NORMAL/mdb308.jpg, NORMAL\n",
            "./Mias/NORMAL/mdb044.jpg, NORMAL\n",
            "./Mias/NORMAL/mdb018.jpg, NORMAL\n",
            "./Mias/NORMAL/mdb309.jpg, NORMAL\n",
            "./Mias/NORMAL/mdb286.jpg, NORMAL\n",
            "./Mias/NORMAL/mdb031.jpg, NORMAL\n",
            "./Mias/NORMAL/mdb237.jpg, NORMAL\n",
            "./Mias/NORMAL/mdb258.jpg, NORMAL\n",
            "./Mias/NORMAL/mdb173.jpg, NORMAL\n",
            "./Mias/NORMAL/mdb149.jpg, NORMAL\n",
            "./Mias/NORMAL/mdb168.jpg, NORMAL\n",
            "./Mias/NORMAL/mdb068.jpg, NORMAL\n",
            "./Mias/NORMAL/mdb035.jpg, NORMAL\n",
            "./Mias/NORMAL/mdb054.jpg, NORMAL\n",
            "./Mias/NORMAL/mdb051.jpg, NORMAL\n",
            "./Mias/NORMAL/mdb174.jpg, NORMAL\n",
            "./Mias/NORMAL/mdb310.jpg, NORMAL\n",
            "./Mias/NORMAL/mdb319.jpg, NORMAL\n",
            "./Mias/NORMAL/mdb205.jpg, NORMAL\n",
            "./Mias/NORMAL/mdb296.jpg, NORMAL\n",
            "./Mias/NORMAL/mdb027.jpg, NORMAL\n",
            "./Mias/NORMAL/mdb292.jpg, NORMAL\n",
            "./Mias/NORMAL/mdb042.jpg, NORMAL\n",
            "./Mias/NORMAL/mdb061.jpg, NORMAL\n",
            "./Mias/NORMAL/mdb008.jpg, NORMAL\n",
            "./Mias/NORMAL/mdb006.jpg, NORMAL\n",
            "./Mias/NORMAL/mdb279.jpg, NORMAL\n",
            "./Mias/NORMAL/mdb183.jpg, NORMAL\n",
            "./Mias/NORMAL/mdb060.jpg, NORMAL\n",
            "./Mias/NORMAL/mdb220.jpg, NORMAL\n",
            "./Mias/NORMAL/mdb119.jpg, ABNORMAL\n",
            "./Mias/NORMAL/mdb166.jpg, NORMAL\n",
            "./Mias/NORMAL/mdb159.jpg, NORMAL\n",
            "./Mias/NORMAL/mdb147.jpg, NORMAL\n",
            "./Mias/NORMAL/mdb250.jpg, NORMAL\n",
            "./Mias/NORMAL/mdb230.jpg, NORMAL\n",
            "./Mias/NORMAL/mdb046.jpg, NORMAL\n",
            "./Mias/NORMAL/mdb129.jpg, NORMAL\n",
            "./Mias/NORMAL/mdb154.jpg, NORMAL\n",
            "./Mias/NORMAL/mdb259.jpg, NORMAL\n",
            "./Mias/NORMAL/mdb243.jpg, NORMAL\n",
            "./Mias/NORMAL/mdb067.jpg, NORMAL\n",
            "./Mias/NORMAL/mdb224.jpg, NORMAL\n",
            "./Mias/NORMAL/mdb098.jpg, NORMAL\n",
            "./Mias/NORMAL/mdb273.jpg, NORMAL\n",
            "./Mias/NORMAL/mdb088.jpg, NORMAL\n",
            "./Mias/NORMAL/mdb203.jpg, NORMAL\n",
            "./Mias/NORMAL/mdb037.jpg, NORMAL\n",
            "./Mias/NORMAL/mdb201.jpg, NORMAL\n",
            "./Mias/NORMAL/mdb210.jpg, NORMAL\n",
            "./Mias/NORMAL/mdb301.jpg, NORMAL\n",
            "./Mias/NORMAL/mdb302.jpg, NORMAL\n",
            "./Mias/NORMAL/mdb275.jpg, NORMAL\n",
            "./Mias/NORMAL/mdb136.jpg, NORMAL\n",
            "./Mias/NORMAL/mdb135.jpg, NORMAL\n",
            "./Mias/NORMAL/mdb262.jpg, NORMAL\n",
            "./Mias/NORMAL/mdb082.jpg, NORMAL\n",
            "./Mias/NORMAL/mdb004.jpg, NORMAL\n",
            "./Mias/NORMAL/mdb009.jpg, NORMAL\n",
            "./Mias/NORMAL/mdb293.jpg, NORMAL\n",
            "./Mias/NORMAL/mdb260.jpg, NORMAL\n",
            "./Mias/NORMAL/mdb056.jpg, NORMAL\n",
            "./Mias/NORMAL/mdb189.jpg, NORMAL\n",
            "./Mias/NORMAL/mdb093.jpg, NORMAL\n",
            "./Mias/NORMAL/mdb011.jpg, NORMAL\n",
            "./Mias/NORMAL/mdb085.jpg, NORMAL\n",
            "./Mias/NORMAL/mdb064.jpg, NORMAL\n",
            "./Mias/NORMAL/mdb109.jpg, NORMAL\n",
            "./Mias/NORMAL/mdb118.jpg, NORMAL\n",
            "./Mias/NORMAL/mdb137.jpg, NORMAL\n",
            "./Mias/NORMAL/mdb215.jpg, NORMAL\n",
            "./Mias/NORMAL/mdb217.jpg, NORMAL\n",
            "./Mias/NORMAL/mdb086.jpg, NORMAL\n",
            "./Mias/NORMAL/mdb043.jpg, NORMAL\n",
            "./Mias/NORMAL/mdb303.jpg, NORMAL\n",
            "./Mias/NORMAL/mdb138.jpg, ABNORMAL\n",
            "./Mias/NORMAL/mdb263.jpg, NORMAL\n",
            "./Mias/NORMAL/mdb079.jpg, NORMAL\n",
            "./Mias/NORMAL/mdb153.jpg, NORMAL\n",
            "./Mias/NORMAL/mdb033.jpg, NORMAL\n",
            "./Mias/NORMAL/mdb016.jpg, NORMAL\n",
            "./Mias/NORMAL/mdb034.jpg, NORMAL\n",
            "./Mias/NORMAL/mdb251.jpg, NORMAL\n",
            "./Mias/NORMAL/mdb234.jpg, NORMAL\n",
            "./Mias/NORMAL/mdb078.jpg, NORMAL\n",
            "./Mias/NORMAL/mdb299.jpg, NORMAL\n",
            "./Mias/NORMAL/mdb041.jpg, NORMAL\n",
            "./Mias/NORMAL/mdb024.jpg, NORMAL\n",
            "./Mias/NORMAL/mdb164.jpg, NORMAL\n",
            "./Mias/NORMAL/mdb062.jpg, NORMAL\n",
            "./Mias/NORMAL/mdb176.jpg, NORMAL\n",
            "./Mias/NORMAL/mdb036.jpg, NORMAL\n",
            "./Mias/NORMAL/mdb196.jpg, NORMAL\n",
            "./Mias/NORMAL/mdb094.jpg, NORMAL\n",
            "./Mias/NORMAL/mdb133.jpg, NORMAL\n",
            "./Mias/NORMAL/mdb156.jpg, NORMAL\n",
            "./Mias/NORMAL/mdb077.jpg, NORMAL\n",
            "./Mias/NORMAL/mdb282.jpg, NORMAL\n",
            "./Mias/NORMAL/mdb073.jpg, NORMAL\n",
            "./Mias/NORMAL/mdb143.jpg, NORMAL\n",
            "./Mias/NORMAL/mdb214.jpg, NORMAL\n",
            "./Mias/NORMAL/mdb007.jpg, NORMAL\n",
            "./Mias/NORMAL/mdb180.jpg, NORMAL\n",
            "./Mias/NORMAL/mdb106.jpg, NORMAL\n",
            "./Mias/NORMAL/mdb112.jpg, NORMAL\n",
            "./Mias/NORMAL/mdb255.jpg, NORMAL\n",
            "./Mias/NORMAL/mdb318.jpg, NORMAL\n",
            "./Mias/NORMAL/mdb113.jpg, ABNORMAL\n",
            "./Mias/NORMAL/mdb014.jpg, NORMAL\n",
            "./Mias/NORMAL/mdb288.jpg, NORMAL\n",
            "./Mias/NORMAL/mdb194.jpg, NORMAL\n",
            "./Mias/NORMAL/mdb140.jpg, NORMAL\n",
            "./Mias/NORMAL/mdb182.jpg, NORMAL\n",
            "./Mias/NORMAL/mdb116.jpg, NORMAL\n",
            "./Mias/NORMAL/mdb278.jpg, NORMAL\n",
            "./Mias/NORMAL/mdb192.jpg, NORMAL\n",
            "./Mias/NORMAL/mdb074.jpg, NORMAL\n",
            "./Mias/NORMAL/mdb307.jpg, NORMAL\n",
            "./Mias/NORMAL/mdb311.jpg, NORMAL\n",
            "./Mias/NORMAL/mdb261.jpg, NORMAL\n",
            "./Mias/NORMAL/mdb305.jpg, NORMAL\n",
            "./Mias/NORMAL/mdb103.jpg, NORMAL\n",
            "./Mias/NORMAL/mdb185.jpg, NORMAL\n",
            "./Mias/NORMAL/mdb285.jpg, NORMAL\n",
            "./Mias/NORMAL/mdb228.jpg, NORMAL\n",
            "./Mias/NORMAL/mdb162.jpg, NORMAL\n",
            "./Mias/NORMAL/mdb022.jpg, NORMAL\n",
            "./Mias/NORMAL/mdb295.jpg, NORMAL\n",
            "./Mias/NORMAL/mdb087.jpg, NORMAL\n",
            "./Mias/NORMAL/mdb128.jpg, NORMAL\n",
            "./Mias/NORMAL/mdb053.jpg, NORMAL\n",
            "./Mias/NORMAL/mdb317.jpg, NORMAL\n",
            "./Mias/NORMAL/mdb066.jpg, NORMAL\n",
            "./Mias/NORMAL/mdb151.jpg, NORMAL\n",
            "./Mias/NORMAL/mdb089.jpg, NORMAL\n",
            "./Mias/NORMAL/mdb225.jpg, NORMAL\n",
            "./Mias/NORMAL/mdb157.jpg, NORMAL\n",
            "./Mias/NORMAL/mdb269.jpg, NORMAL\n",
            "./Mias/NORMAL/mdb108.jpg, NORMAL\n",
            "./Mias/NORMAL/mdb212.jpg, NORMAL\n",
            "./Mias/NORMAL/mdb101.jpg, NORMAL\n",
            "./Mias/NORMAL/mdb146.jpg, NORMAL\n",
            "./Mias/NORMAL/mdb280.jpg, NORMAL\n",
            "./Mias/NORMAL/mdb221.jpg, NORMAL\n",
            "./Mias/NORMAL/mdb071.jpg, NORMAL\n",
            "./Mias/NORMAL/mdb045.jpg, NORMAL\n",
            "./Mias/NORMAL/mdb100.jpg, NORMAL\n",
            "./Mias/NORMAL/mdb177.jpg, NORMAL\n",
            "./Mias/NORMAL/mdb050.jpg, NORMAL\n",
            "./Mias/NORMAL/mdb298.jpg, NORMAL\n",
            "./Mias/NORMAL/mdb320.jpg, NORMAL\n",
            "./Mias/NORMAL/mdb277.jpg, NORMAL\n",
            "./Mias/NORMAL/mdb316.jpg, NORMAL\n",
            "./Mias/NORMAL/mdb268.jpg, NORMAL\n",
            "./Mias/NORMAL/mdb039.jpg, ABNORMAL\n",
            "./Mias/NORMAL/mdb242.jpg, NORMAL\n",
            "./Mias/NORMAL/mdb123.jpg, NORMAL\n",
            "./Mias/NORMAL/mdb287.jpg, NORMAL\n",
            "./Mias/NORMAL/mdb161.jpg, NORMAL\n",
            "./Mias/NORMAL/mdb172.jpg, NORMAL\n",
            "./Mias/NORMAL/mdb284.jpg, NORMAL\n",
            "./Mias/NORMAL/mdb139.jpg, NORMAL\n",
            "./Mias/NORMAL/mdb300.jpg, NORMAL\n",
            "./Mias/NORMAL/mdb304.jpg, NORMAL\n",
            "./Mias/NORMAL/mdb272.jpg, NORMAL\n",
            "./Mias/NORMAL/mdb197.jpg, NORMAL\n",
            "./Mias/NORMAL/mdb076.jpg, NORMAL\n",
            "./Mias/NORMAL/mdb232.jpg, NORMAL\n",
            "./Mias/NORMAL/mdb049.jpg, NORMAL"
          ]
        }
      ]
    }
  ]
}