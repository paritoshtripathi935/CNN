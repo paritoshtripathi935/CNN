{
 "cells": [
  {
   "cell_type": "code",
   "execution_count": 1,
   "id": "546a5b82",
   "metadata": {},
   "outputs": [],
   "source": [
    "import numpy as np # linear algebra\n",
    "import pandas as pd # data processing, CSV file I/O (e.g. pd.read_csv)"
   ]
  },
  {
   "cell_type": "code",
   "execution_count": 2,
   "id": "470c5fb7",
   "metadata": {},
   "outputs": [],
   "source": [
    "import matplotlib.pyplot as plt\n",
    "import seaborn as sns\n",
    "import matplotlib.cm as cm\n",
    "import time"
   ]
  },
  {
   "cell_type": "code",
   "execution_count": 3,
   "id": "13d266aa",
   "metadata": {},
   "outputs": [],
   "source": [
    "start = time.time()"
   ]
  },
  {
   "cell_type": "markdown",
   "id": "280b59f9",
   "metadata": {},
   "source": [
    "## EDA"
   ]
  },
  {
   "cell_type": "code",
   "execution_count": 4,
   "id": "9475f308",
   "metadata": {},
   "outputs": [],
   "source": [
    "data = pd.read_csv('Fraud.csv')"
   ]
  },
  {
   "cell_type": "code",
   "execution_count": 5,
   "id": "25faba4f",
   "metadata": {},
   "outputs": [
    {
     "data": {
      "text/html": [
       "<div>\n",
       "<style scoped>\n",
       "    .dataframe tbody tr th:only-of-type {\n",
       "        vertical-align: middle;\n",
       "    }\n",
       "\n",
       "    .dataframe tbody tr th {\n",
       "        vertical-align: top;\n",
       "    }\n",
       "\n",
       "    .dataframe thead th {\n",
       "        text-align: right;\n",
       "    }\n",
       "</style>\n",
       "<table border=\"1\" class=\"dataframe\">\n",
       "  <thead>\n",
       "    <tr style=\"text-align: right;\">\n",
       "      <th></th>\n",
       "      <th>step</th>\n",
       "      <th>type</th>\n",
       "      <th>amount</th>\n",
       "      <th>nameOrig</th>\n",
       "      <th>oldbalanceOrg</th>\n",
       "      <th>newbalanceOrig</th>\n",
       "      <th>nameDest</th>\n",
       "      <th>oldbalanceDest</th>\n",
       "      <th>newbalanceDest</th>\n",
       "      <th>isFraud</th>\n",
       "      <th>isFlaggedFraud</th>\n",
       "    </tr>\n",
       "  </thead>\n",
       "  <tbody>\n",
       "    <tr>\n",
       "      <th>0</th>\n",
       "      <td>1</td>\n",
       "      <td>PAYMENT</td>\n",
       "      <td>9839.64</td>\n",
       "      <td>C1231006815</td>\n",
       "      <td>170136.0</td>\n",
       "      <td>160296.36</td>\n",
       "      <td>M1979787155</td>\n",
       "      <td>0.0</td>\n",
       "      <td>0.0</td>\n",
       "      <td>0</td>\n",
       "      <td>0</td>\n",
       "    </tr>\n",
       "    <tr>\n",
       "      <th>1</th>\n",
       "      <td>1</td>\n",
       "      <td>PAYMENT</td>\n",
       "      <td>1864.28</td>\n",
       "      <td>C1666544295</td>\n",
       "      <td>21249.0</td>\n",
       "      <td>19384.72</td>\n",
       "      <td>M2044282225</td>\n",
       "      <td>0.0</td>\n",
       "      <td>0.0</td>\n",
       "      <td>0</td>\n",
       "      <td>0</td>\n",
       "    </tr>\n",
       "    <tr>\n",
       "      <th>2</th>\n",
       "      <td>1</td>\n",
       "      <td>TRANSFER</td>\n",
       "      <td>181.00</td>\n",
       "      <td>C1305486145</td>\n",
       "      <td>181.0</td>\n",
       "      <td>0.00</td>\n",
       "      <td>C553264065</td>\n",
       "      <td>0.0</td>\n",
       "      <td>0.0</td>\n",
       "      <td>1</td>\n",
       "      <td>0</td>\n",
       "    </tr>\n",
       "    <tr>\n",
       "      <th>3</th>\n",
       "      <td>1</td>\n",
       "      <td>CASH_OUT</td>\n",
       "      <td>181.00</td>\n",
       "      <td>C840083671</td>\n",
       "      <td>181.0</td>\n",
       "      <td>0.00</td>\n",
       "      <td>C38997010</td>\n",
       "      <td>21182.0</td>\n",
       "      <td>0.0</td>\n",
       "      <td>1</td>\n",
       "      <td>0</td>\n",
       "    </tr>\n",
       "    <tr>\n",
       "      <th>4</th>\n",
       "      <td>1</td>\n",
       "      <td>PAYMENT</td>\n",
       "      <td>11668.14</td>\n",
       "      <td>C2048537720</td>\n",
       "      <td>41554.0</td>\n",
       "      <td>29885.86</td>\n",
       "      <td>M1230701703</td>\n",
       "      <td>0.0</td>\n",
       "      <td>0.0</td>\n",
       "      <td>0</td>\n",
       "      <td>0</td>\n",
       "    </tr>\n",
       "  </tbody>\n",
       "</table>\n",
       "</div>"
      ],
      "text/plain": [
       "   step      type    amount     nameOrig  oldbalanceOrg  newbalanceOrig  \\\n",
       "0     1   PAYMENT   9839.64  C1231006815       170136.0       160296.36   \n",
       "1     1   PAYMENT   1864.28  C1666544295        21249.0        19384.72   \n",
       "2     1  TRANSFER    181.00  C1305486145          181.0            0.00   \n",
       "3     1  CASH_OUT    181.00   C840083671          181.0            0.00   \n",
       "4     1   PAYMENT  11668.14  C2048537720        41554.0        29885.86   \n",
       "\n",
       "      nameDest  oldbalanceDest  newbalanceDest  isFraud  isFlaggedFraud  \n",
       "0  M1979787155             0.0             0.0        0               0  \n",
       "1  M2044282225             0.0             0.0        0               0  \n",
       "2   C553264065             0.0             0.0        1               0  \n",
       "3    C38997010         21182.0             0.0        1               0  \n",
       "4  M1230701703             0.0             0.0        0               0  "
      ]
     },
     "execution_count": 5,
     "metadata": {},
     "output_type": "execute_result"
    }
   ],
   "source": [
    "data.head()"
   ]
  },
  {
   "cell_type": "code",
   "execution_count": 6,
   "id": "816cb71f",
   "metadata": {},
   "outputs": [
    {
     "data": {
      "text/plain": [
       "(6362620, 11)"
      ]
     },
     "execution_count": 6,
     "metadata": {},
     "output_type": "execute_result"
    }
   ],
   "source": [
    "data.shape\n"
   ]
  },
  {
   "cell_type": "code",
   "execution_count": 7,
   "id": "88d8c0e3",
   "metadata": {},
   "outputs": [
    {
     "data": {
      "text/plain": [
       "False"
      ]
     },
     "execution_count": 7,
     "metadata": {},
     "output_type": "execute_result"
    }
   ],
   "source": [
    "data.isnull().values.any()"
   ]
  },
  {
   "cell_type": "markdown",
   "id": "eded45a1",
   "metadata": {},
   "source": [
    "There are no null values."
   ]
  },
  {
   "cell_type": "code",
   "execution_count": 8,
   "id": "c86bbcac",
   "metadata": {},
   "outputs": [
    {
     "name": "stdout",
     "output_type": "stream",
     "text": [
      "<class 'pandas.core.frame.DataFrame'>\n",
      "RangeIndex: 6362620 entries, 0 to 6362619\n",
      "Data columns (total 11 columns):\n",
      " #   Column          Dtype  \n",
      "---  ------          -----  \n",
      " 0   step            int64  \n",
      " 1   type            object \n",
      " 2   amount          float64\n",
      " 3   nameOrig        object \n",
      " 4   oldbalanceOrg   float64\n",
      " 5   newbalanceOrig  float64\n",
      " 6   nameDest        object \n",
      " 7   oldbalanceDest  float64\n",
      " 8   newbalanceDest  float64\n",
      " 9   isFraud         int64  \n",
      " 10  isFlaggedFraud  int64  \n",
      "dtypes: float64(5), int64(3), object(3)\n",
      "memory usage: 534.0+ MB\n"
     ]
    }
   ],
   "source": [
    "data.info()"
   ]
  },
  {
   "cell_type": "code",
   "execution_count": 9,
   "id": "af7cd3ab",
   "metadata": {},
   "outputs": [
    {
     "data": {
      "text/html": [
       "<div>\n",
       "<style scoped>\n",
       "    .dataframe tbody tr th:only-of-type {\n",
       "        vertical-align: middle;\n",
       "    }\n",
       "\n",
       "    .dataframe tbody tr th {\n",
       "        vertical-align: top;\n",
       "    }\n",
       "\n",
       "    .dataframe thead th {\n",
       "        text-align: right;\n",
       "    }\n",
       "</style>\n",
       "<table border=\"1\" class=\"dataframe\">\n",
       "  <thead>\n",
       "    <tr style=\"text-align: right;\">\n",
       "      <th></th>\n",
       "      <th>step</th>\n",
       "      <th>amount</th>\n",
       "      <th>oldbalanceOrg</th>\n",
       "      <th>newbalanceOrig</th>\n",
       "      <th>oldbalanceDest</th>\n",
       "      <th>newbalanceDest</th>\n",
       "      <th>isFraud</th>\n",
       "      <th>isFlaggedFraud</th>\n",
       "    </tr>\n",
       "  </thead>\n",
       "  <tbody>\n",
       "    <tr>\n",
       "      <th>count</th>\n",
       "      <td>6.362620e+06</td>\n",
       "      <td>6.362620e+06</td>\n",
       "      <td>6.362620e+06</td>\n",
       "      <td>6.362620e+06</td>\n",
       "      <td>6.362620e+06</td>\n",
       "      <td>6.362620e+06</td>\n",
       "      <td>6.362620e+06</td>\n",
       "      <td>6.362620e+06</td>\n",
       "    </tr>\n",
       "    <tr>\n",
       "      <th>mean</th>\n",
       "      <td>2.433972e+02</td>\n",
       "      <td>1.798619e+05</td>\n",
       "      <td>8.338831e+05</td>\n",
       "      <td>8.551137e+05</td>\n",
       "      <td>1.100702e+06</td>\n",
       "      <td>1.224996e+06</td>\n",
       "      <td>1.290820e-03</td>\n",
       "      <td>2.514687e-06</td>\n",
       "    </tr>\n",
       "    <tr>\n",
       "      <th>std</th>\n",
       "      <td>1.423320e+02</td>\n",
       "      <td>6.038582e+05</td>\n",
       "      <td>2.888243e+06</td>\n",
       "      <td>2.924049e+06</td>\n",
       "      <td>3.399180e+06</td>\n",
       "      <td>3.674129e+06</td>\n",
       "      <td>3.590480e-02</td>\n",
       "      <td>1.585775e-03</td>\n",
       "    </tr>\n",
       "    <tr>\n",
       "      <th>min</th>\n",
       "      <td>1.000000e+00</td>\n",
       "      <td>0.000000e+00</td>\n",
       "      <td>0.000000e+00</td>\n",
       "      <td>0.000000e+00</td>\n",
       "      <td>0.000000e+00</td>\n",
       "      <td>0.000000e+00</td>\n",
       "      <td>0.000000e+00</td>\n",
       "      <td>0.000000e+00</td>\n",
       "    </tr>\n",
       "    <tr>\n",
       "      <th>25%</th>\n",
       "      <td>1.560000e+02</td>\n",
       "      <td>1.338957e+04</td>\n",
       "      <td>0.000000e+00</td>\n",
       "      <td>0.000000e+00</td>\n",
       "      <td>0.000000e+00</td>\n",
       "      <td>0.000000e+00</td>\n",
       "      <td>0.000000e+00</td>\n",
       "      <td>0.000000e+00</td>\n",
       "    </tr>\n",
       "    <tr>\n",
       "      <th>50%</th>\n",
       "      <td>2.390000e+02</td>\n",
       "      <td>7.487194e+04</td>\n",
       "      <td>1.420800e+04</td>\n",
       "      <td>0.000000e+00</td>\n",
       "      <td>1.327057e+05</td>\n",
       "      <td>2.146614e+05</td>\n",
       "      <td>0.000000e+00</td>\n",
       "      <td>0.000000e+00</td>\n",
       "    </tr>\n",
       "    <tr>\n",
       "      <th>75%</th>\n",
       "      <td>3.350000e+02</td>\n",
       "      <td>2.087215e+05</td>\n",
       "      <td>1.073152e+05</td>\n",
       "      <td>1.442584e+05</td>\n",
       "      <td>9.430367e+05</td>\n",
       "      <td>1.111909e+06</td>\n",
       "      <td>0.000000e+00</td>\n",
       "      <td>0.000000e+00</td>\n",
       "    </tr>\n",
       "    <tr>\n",
       "      <th>max</th>\n",
       "      <td>7.430000e+02</td>\n",
       "      <td>9.244552e+07</td>\n",
       "      <td>5.958504e+07</td>\n",
       "      <td>4.958504e+07</td>\n",
       "      <td>3.560159e+08</td>\n",
       "      <td>3.561793e+08</td>\n",
       "      <td>1.000000e+00</td>\n",
       "      <td>1.000000e+00</td>\n",
       "    </tr>\n",
       "  </tbody>\n",
       "</table>\n",
       "</div>"
      ],
      "text/plain": [
       "               step        amount  oldbalanceOrg  newbalanceOrig  \\\n",
       "count  6.362620e+06  6.362620e+06   6.362620e+06    6.362620e+06   \n",
       "mean   2.433972e+02  1.798619e+05   8.338831e+05    8.551137e+05   \n",
       "std    1.423320e+02  6.038582e+05   2.888243e+06    2.924049e+06   \n",
       "min    1.000000e+00  0.000000e+00   0.000000e+00    0.000000e+00   \n",
       "25%    1.560000e+02  1.338957e+04   0.000000e+00    0.000000e+00   \n",
       "50%    2.390000e+02  7.487194e+04   1.420800e+04    0.000000e+00   \n",
       "75%    3.350000e+02  2.087215e+05   1.073152e+05    1.442584e+05   \n",
       "max    7.430000e+02  9.244552e+07   5.958504e+07    4.958504e+07   \n",
       "\n",
       "       oldbalanceDest  newbalanceDest       isFraud  isFlaggedFraud  \n",
       "count    6.362620e+06    6.362620e+06  6.362620e+06    6.362620e+06  \n",
       "mean     1.100702e+06    1.224996e+06  1.290820e-03    2.514687e-06  \n",
       "std      3.399180e+06    3.674129e+06  3.590480e-02    1.585775e-03  \n",
       "min      0.000000e+00    0.000000e+00  0.000000e+00    0.000000e+00  \n",
       "25%      0.000000e+00    0.000000e+00  0.000000e+00    0.000000e+00  \n",
       "50%      1.327057e+05    2.146614e+05  0.000000e+00    0.000000e+00  \n",
       "75%      9.430367e+05    1.111909e+06  0.000000e+00    0.000000e+00  \n",
       "max      3.560159e+08    3.561793e+08  1.000000e+00    1.000000e+00  "
      ]
     },
     "execution_count": 9,
     "metadata": {},
     "output_type": "execute_result"
    }
   ],
   "source": [
    "data.describe()"
   ]
  },
  {
   "cell_type": "code",
   "execution_count": 10,
   "id": "13e6dd84",
   "metadata": {},
   "outputs": [
    {
     "data": {
      "text/plain": [
       "0    6354407\n",
       "1       8213\n",
       "Name: isFraud, dtype: int64"
      ]
     },
     "execution_count": 10,
     "metadata": {},
     "output_type": "execute_result"
    }
   ],
   "source": [
    "data.isFraud.value_counts()"
   ]
  },
  {
   "cell_type": "code",
   "execution_count": 11,
   "id": "540ee946",
   "metadata": {},
   "outputs": [
    {
     "data": {
      "image/png": "[encoded data removed]",
      "text/plain": [
       "<Figure size 432x288 with 1 Axes>"
      ]
     },
     "metadata": {
      "needs_background": "light"
     },
     "output_type": "display_data"
    }
   ],
   "source": [
    "fig,ax = plt.subplots()\n",
    "sns.countplot(x=data.isFraud,ax=ax)\n",
    "for p in ax.patches:\n",
    "        val = p.get_height() #height of the bar\n",
    "        x = p.get_x() + p.get_width()/2 # x- position \n",
    "        y = p.get_y() + p.get_height() #y-position\n",
    "        ax.annotate(val,(x,y))"
   ]
  },
  {
   "cell_type": "code",
   "execution_count": 12,
   "id": "77ef9b9b",
   "metadata": {},
   "outputs": [
    {
     "data": {
      "text/plain": [
       "<AxesSubplot:xlabel='isFraud', ylabel='amount'>"
      ]
     },
     "execution_count": 12,
     "metadata": {},
     "output_type": "execute_result"
    },
    {
     "data": {
      "image/png": "[encoded data removed]",
      "text/plain": [
       "<Figure size 720x216 with 2 Axes>"
      ]
     },
     "metadata": {
      "needs_background": "light"
     },
     "output_type": "display_data"
    }
   ],
   "source": [
    "fig,ax = plt.subplots(1,2,figsize=(10,3))\n",
    "sns.boxplot(x=data.isFraud,y=data.step,ax=ax[0])\n",
    "sns.scatterplot(x=data.isFraud,y=data.amount,ax=ax[1])"
   ]
  },
  {
   "cell_type": "markdown",
   "id": "463d47b4",
   "metadata": {},
   "source": [
    "As seen above step influences fraud detection. Therefore it might be a useful feature"
   ]
  },
  {
   "cell_type": "code",
   "execution_count": 13,
   "id": "186f5ab5",
   "metadata": {},
   "outputs": [
    {
     "data": {
      "image/png": "[encoded data removed]",
      "text/plain": [
       "<Figure size 432x288 with 1 Axes>"
      ]
     },
     "metadata": {
      "needs_background": "light"
     },
     "output_type": "display_data"
    }
   ],
   "source": [
    "fig,ax = plt.subplots()\n",
    "sns.countplot(x=data.isFraud,hue=data.type,ax=ax)\n",
    "for p in ax.patches:\n",
    "        val = p.get_height() \n",
    "        x = p.get_x() + p.get_width()  \n",
    "        y = p.get_y() + p.get_height() \n",
    "        ax.annotate(val,(x,y))"
   ]
  },
  {
   "cell_type": "code",
   "execution_count": 14,
   "id": "4c0aece9",
   "metadata": {},
   "outputs": [
    {
     "data": {
      "image/png": "[encoded data removed]",
      "text/plain": [
       "<Figure size 720x720 with 4 Axes>"
      ]
     },
     "metadata": {
      "needs_background": "light"
     },
     "output_type": "display_data"
    }
   ],
   "source": [
    "fig, axs = plt.subplots(2, 2, figsize=(10, 10))\n",
    "tmp = data.loc[(data.type == 'TRANSFER'), :]\n",
    "\n",
    "a = sns.boxplot(x = 'isFlaggedFraud', y = 'amount', data = tmp, ax=axs[0][0])\n",
    "axs[0][0].set_yscale('log')\n",
    "b = sns.boxplot(x = 'isFlaggedFraud', y = 'oldbalanceDest', data = tmp, ax=axs[0][1])\n",
    "axs[0][1].set(ylim=(0, 0.5e8))\n",
    "c = sns.boxplot(x = 'isFlaggedFraud', y = 'oldbalanceOrg', data=tmp, ax=axs[1][0])\n",
    "axs[1][0].set(ylim=(0, 3e7))\n",
    "d = sns.regplot(x = 'oldbalanceOrg', y = 'amount', data=tmp.loc[(tmp.isFlaggedFraud ==1), :], ax=axs[1][1])\n",
    "plt.show()"
   ]
  },
  {
   "cell_type": "markdown",
   "id": "c792ead9",
   "metadata": {},
   "source": [
    "it looks like isFlaggedFraud variable is relied on oldbalanceDest, which is 0 and some threshold on the amount variable.\n",
    "\n"
   ]
  },
  {
   "cell_type": "code",
   "execution_count": 15,
   "id": "94fab14c",
   "metadata": {},
   "outputs": [
    {
     "name": "stderr",
     "output_type": "stream",
     "text": [
      "<ipython-input-15-099cbea59e9f>:9: UserWarning: FixedFormatter should only be used together with FixedLocator\n",
      "  ax1.set_xticklabels(labels, fontsize=13, rotation=45)\n",
      "<ipython-input-15-099cbea59e9f>:10: UserWarning: FixedFormatter should only be used together with FixedLocator\n",
      "  ax1.set_yticklabels(labels, fontsize=13)\n"
     ]
    },
    {
     "data": {
      "image/png": "[encoded data removed]",
      "text/plain": [
       "<Figure size 720x720 with 2 Axes>"
      ]
     },
     "metadata": {
      "needs_background": "light"
     },
     "output_type": "display_data"
    },
    {
     "data": {
      "text/plain": [
       "<AxesSubplot:>"
      ]
     },
     "execution_count": 15,
     "metadata": {},
     "output_type": "execute_result"
    },
    {
     "data": {
      "image/png": "[encoded data removed]",
      "text/plain": [
       "<Figure size 432x288 with 2 Axes>"
      ]
     },
     "metadata": {
      "needs_background": "light"
     },
     "output_type": "display_data"
    }
   ],
   "source": [
    "def correlation_plot(df):\n",
    "    fig = plt.figure(figsize=(10, 10))\n",
    "    ax1 = fig.add_subplot(111)\n",
    "    cmap = cm.get_cmap('jet', 30)\n",
    "    cax = ax1.imshow(df.corr(), interpolation = \"nearest\", cmap = cmap)\n",
    "    ax1.grid(True)\n",
    "    plt.title(\"Correlation Heatmap\")\n",
    "    labels = df.columns.tolist()\n",
    "    ax1.set_xticklabels(labels, fontsize=13, rotation=45)\n",
    "    ax1.set_yticklabels(labels, fontsize=13)\n",
    "    fig.colorbar(cax)\n",
    "    plt.show()\n",
    "    \n",
    "correlation_plot(data)\n",
    "\n",
    "# Alternatively, we can use quick seaborn\n",
    "# plot the heatmap\n",
    "sns.heatmap(data.corr())"
   ]
  },
  {
   "cell_type": "code",
   "execution_count": 16,
   "id": "f97cc519",
   "metadata": {},
   "outputs": [
    {
     "name": "stdout",
     "output_type": "stream",
     "text": [
      "Type of payments which are fraudulent are: ['TRANSFER', 'CASH_OUT']\n",
      "No. of fraudulent transfers which are \"Transfer\" type are : 4097\n",
      "No. of fraudulent transfers which are \"CASH_OUT\" type are : 4116\n"
     ]
    }
   ],
   "source": [
    "print('Type of payments which are fraudulent are:',list(data.loc[(data.isFraud==1)].type.unique()))\n",
    "print('No. of fraudulent transfers which are \"Transfer\" type are :', len(data.loc[(data.isFraud==1)&(data.type=='TRANSFER')]))\n",
    "print('No. of fraudulent transfers which are \"CASH_OUT\" type are :', len(data.loc[(data.isFraud==1)&(data.type=='CASH_OUT')]))"
   ]
  },
  {
   "cell_type": "markdown",
   "id": "57b3274c",
   "metadata": {},
   "source": [
    "All fraud transfers are under the type 'TRANSFER' and 'CASH-OUT'."
   ]
  },
  {
   "cell_type": "markdown",
   "id": "c3fe74c2",
   "metadata": {},
   "source": [
    "## What determines whether the feature isFlaggedFraud gets set or not?"
   ]
  },
  {
   "cell_type": "code",
   "execution_count": 17,
   "id": "7e6283bc",
   "metadata": {},
   "outputs": [
    {
     "name": "stdout",
     "output_type": "stream",
     "text": [
      "16\n",
      "16\n",
      "(6362620, 11)\n",
      "         step      type       amount     nameOrig  oldbalanceOrg  \\\n",
      "2736446   212  TRANSFER   4953893.08   C728984460     4953893.08   \n",
      "3247297   250  TRANSFER   1343002.08  C1100582606     1343002.08   \n",
      "3760288   279  TRANSFER    536624.41  C1035541766      536624.41   \n",
      "5563713   387  TRANSFER   4892193.09   C908544136     4892193.09   \n",
      "5996407   425  TRANSFER  10000000.00   C689608084    19585040.37   \n",
      "5996409   425  TRANSFER   9585040.37   C452586515    19585040.37   \n",
      "6168499   554  TRANSFER   3576297.10   C193696150     3576297.10   \n",
      "6205439   586  TRANSFER    353874.22  C1684585475      353874.22   \n",
      "6266413   617  TRANSFER   2542664.27   C786455622     2542664.27   \n",
      "6281482   646  TRANSFER  10000000.00    C19004745    10399045.08   \n",
      "6281484   646  TRANSFER    399045.08   C724693370    10399045.08   \n",
      "6296014   671  TRANSFER   3441041.46   C917414431     3441041.46   \n",
      "6351225   702  TRANSFER   3171085.59  C1892216157     3171085.59   \n",
      "6362460   730  TRANSFER  10000000.00  C2140038573    17316255.05   \n",
      "6362462   730  TRANSFER   7316255.05  C1869569059    17316255.05   \n",
      "6362584   741  TRANSFER   5674547.89   C992223106     5674547.89   \n",
      "\n",
      "         newbalanceOrig     nameDest  oldbalanceDest  newbalanceDest  isFraud  \\\n",
      "2736446      4953893.08   C639921569             0.0             0.0        1   \n",
      "3247297      1343002.08  C1147517658             0.0             0.0        1   \n",
      "3760288       536624.41  C1100697970             0.0             0.0        1   \n",
      "5563713      4892193.09   C891140444             0.0             0.0        1   \n",
      "5996407     19585040.37  C1392803603             0.0             0.0        1   \n",
      "5996409     19585040.37  C1109166882             0.0             0.0        1   \n",
      "6168499      3576297.10   C484597480             0.0             0.0        1   \n",
      "6205439       353874.22  C1770418982             0.0             0.0        1   \n",
      "6266413      2542664.27   C661958277             0.0             0.0        1   \n",
      "6281482     10399045.08  C1806199534             0.0             0.0        1   \n",
      "6281484     10399045.08  C1909486199             0.0             0.0        1   \n",
      "6296014      3441041.46  C1082139865             0.0             0.0        1   \n",
      "6351225      3171085.59  C1308068787             0.0             0.0        1   \n",
      "6362460     17316255.05  C1395467927             0.0             0.0        1   \n",
      "6362462     17316255.05  C1861208726             0.0             0.0        1   \n",
      "6362584      5674547.89  C1366804249             0.0             0.0        1   \n",
      "\n",
      "         isFlaggedFraud  \n",
      "2736446               1  \n",
      "3247297               1  \n",
      "3760288               1  \n",
      "5563713               1  \n",
      "5996407               1  \n",
      "5996409               1  \n",
      "6168499               1  \n",
      "6205439               1  \n",
      "6266413               1  \n",
      "6281482               1  \n",
      "6281484               1  \n",
      "6296014               1  \n",
      "6351225               1  \n",
      "6362460               1  \n",
      "6362462               1  \n",
      "6362584               1  \n",
      "\n",
      "The type of transactions in which isFlaggedFraud is set: ['TRANSFER']\n",
      "\n",
      " The minimum amount transacted when isFlaggedFraud is set =353874.22\n",
      "\n",
      " The max amount transacted when isFlaggedFraud is set =10000000.0\n",
      "\n",
      "The max amount is TRANSFERED when isFlaggedFraud is NOT set =92445516.64\n"
     ]
    }
   ],
   "source": [
    "df = data\n",
    "CountisFlaggedFraud = df.loc[(df.isFlaggedFraud == 1)]\n",
    "\n",
    "CountisFlaggedFraudWithTransfer = df.loc[(df.isFlaggedFraud == 1) & (df.type == 'TRANSFER')]\n",
    "\n",
    "print(len(CountisFlaggedFraud))\n",
    "print(len(CountisFlaggedFraudWithTransfer))\n",
    "print(df.shape)\n",
    "print(CountisFlaggedFraudWithTransfer)\n",
    "\n",
    "print('\\nThe type of transactions in which isFlaggedFraud is set: \\\n",
    "{}'.format(list(df.loc[df.isFlaggedFraud == 1].type.drop_duplicates())))\n",
    "\n",
    "\n",
    "dfTransfer = df.loc[df.type == 'TRANSFER']\n",
    "dfFlagged = df.loc[df.isFlaggedFraud == 1]\n",
    "dfNotFlagged = df.loc[df.isFlaggedFraud == 0]\n",
    "\n",
    "print('\\n The minimum amount transacted when isFlaggedFraud is set ={}'.format(dfFlagged.amount.min()))\n",
    "\n",
    "print('\\n The max amount transacted when isFlaggedFraud is set ={}'.format(dfFlagged.amount.max()))\n",
    "\n",
    "print('\\nThe max amount is TRANSFERED when isFlaggedFraud is NOT set ={}'.format(dfNotFlagged.amount.max()))"
   ]
  },
  {
   "cell_type": "markdown",
   "id": "89484613",
   "metadata": {},
   "source": [
    "There are only 16 entries out of 6 million where the isFlaggedFraud is set. So, it do not seen to correlete with any exploratory variable.\n",
    "\n",
    "But the isFlaggedFraud is set only whean an attempt is made to 'TRANSFER' an amount grater than 2lakhs.\n",
    "\n",
    "In fact there are many cases in which both theres are satisfying but the Flag is NOT set."
   ]
  },
  {
   "cell_type": "code",
   "execution_count": 18,
   "id": "973156d2",
   "metadata": {},
   "outputs": [
    {
     "data": {
      "text/plain": [
       "False"
      ]
     },
     "execution_count": 18,
     "metadata": {},
     "output_type": "execute_result"
    }
   ],
   "source": [
    "data['nameOrig'].str.contains('M').any()"
   ]
  },
  {
   "cell_type": "code",
   "execution_count": 19,
   "id": "97b3fa86",
   "metadata": {},
   "outputs": [
    {
     "data": {
      "text/plain": [
       "2151495"
      ]
     },
     "execution_count": 19,
     "metadata": {},
     "output_type": "execute_result"
    }
   ],
   "source": [
    "len(data.loc[data['nameDest'].str.contains('M') == True])"
   ]
  },
  {
   "cell_type": "code",
   "execution_count": 20,
   "id": "e1f1b56c",
   "metadata": {},
   "outputs": [
    {
     "data": {
      "text/plain": [
       "False"
      ]
     },
     "execution_count": 20,
     "metadata": {},
     "output_type": "execute_result"
    }
   ],
   "source": [
    "data.loc[data['type']=='TRANSFER'].nameDest.str.contains('M').any()\n"
   ]
  },
  {
   "cell_type": "code",
   "execution_count": 21,
   "id": "112151b5",
   "metadata": {},
   "outputs": [
    {
     "data": {
      "text/plain": [
       "False"
      ]
     },
     "execution_count": 21,
     "metadata": {},
     "output_type": "execute_result"
    }
   ],
   "source": [
    "data.loc[data['type']=='CASH_OUT'].nameDest.str.contains('M').any()\n"
   ]
  },
  {
   "cell_type": "markdown",
   "id": "a17aea2d",
   "metadata": {},
   "source": [
    "nameOrig and nameDest can dropped as they dont impact fraud. Also there are no suspicious transfers to merchants. Therefore they can be dropped."
   ]
  },
  {
   "cell_type": "code",
   "execution_count": 22,
   "id": "1c11ad42",
   "metadata": {},
   "outputs": [
    {
     "data": {
      "text/plain": [
       "2088969"
      ]
     },
     "execution_count": 22,
     "metadata": {},
     "output_type": "execute_result"
    }
   ],
   "source": [
    "len(data.loc[(data['oldbalanceOrg']==0) & (data['newbalanceOrig']==0) & (data['amount']!=0)])"
   ]
  },
  {
   "cell_type": "code",
   "execution_count": 23,
   "id": "efc4fb32",
   "metadata": {},
   "outputs": [
    {
     "name": "stdout",
     "output_type": "stream",
     "text": [
      "25\n",
      "2088944\n"
     ]
    }
   ],
   "source": [
    "print(len(data.loc[(data['oldbalanceOrg']==0) & (data['newbalanceOrig']==0) & (data['amount']!=0) & (data.isFraud==1)]))\n",
    "print(len(data.loc[(data['oldbalanceOrg']==0) & (data['newbalanceOrig']==0) & (data['amount']!=0) & (data.isFraud==0)]))"
   ]
  },
  {
   "cell_type": "code",
   "execution_count": 24,
   "id": "7c4fee04",
   "metadata": {},
   "outputs": [
    {
     "data": {
      "text/plain": [
       "2317276"
      ]
     },
     "execution_count": 24,
     "metadata": {},
     "output_type": "execute_result"
    }
   ],
   "source": [
    "len(data.loc[(data['oldbalanceDest']==0) & (data['newbalanceDest']==0) & (data['amount']!=0)])"
   ]
  },
  {
   "cell_type": "code",
   "execution_count": 25,
   "id": "ef5d921e",
   "metadata": {},
   "outputs": [
    {
     "name": "stdout",
     "output_type": "stream",
     "text": [
      "4070\n",
      "2313206\n"
     ]
    }
   ],
   "source": [
    "print(len(data.loc[(data['oldbalanceDest']==0) & (data['newbalanceDest']==0) & (data['amount']!=0) & (data.isFraud==1)]))\n",
    "print(len(data.loc[(data['oldbalanceDest']==0) & (data['newbalanceDest']==0) & (data['amount']!=0) & (data.isFraud==0)]))"
   ]
  },
  {
   "cell_type": "code",
   "execution_count": 26,
   "id": "ac2572af",
   "metadata": {},
   "outputs": [
    {
     "data": {
      "text/plain": [
       "2151495"
      ]
     },
     "execution_count": 26,
     "metadata": {},
     "output_type": "execute_result"
    }
   ],
   "source": [
    "len(data.loc[(data['oldbalanceDest']==0) & (data['newbalanceDest']==0) & (data['amount']!=0) & (data.isFraud==0)& (data.nameDest.str.contains('M'))])"
   ]
  },
  {
   "cell_type": "markdown",
   "id": "5dda1332",
   "metadata": {},
   "source": [
    "Almost half of the transactions with 0 old and new balance of desinations are fraudulent.Therefore it is a strong indicator of fraud( Also there are no merchants in fraudulent transactions whose balance details are unknown, so this feature is strong indicator of fraud).\n",
    "\n",
    "And the genuine transactions where balance is 0 are mostly involved by merchants. Therefore it is better to only work with 'TRANSFER' and 'CASH_OUT' transactions as no merchants are involved and they also include all fraud transactions."
   ]
  },
  {
   "cell_type": "code",
   "execution_count": 27,
   "id": "8e0916f7",
   "metadata": {},
   "outputs": [
    {
     "data": {
      "text/plain": [
       "0    6362604\n",
       "1         16\n",
       "Name: isFlaggedFraud, dtype: int64"
      ]
     },
     "execution_count": 27,
     "metadata": {},
     "output_type": "execute_result"
    }
   ],
   "source": [
    "data['isFlaggedFraud'].value_counts()"
   ]
  },
  {
   "cell_type": "markdown",
   "id": "f1dea7c0",
   "metadata": {},
   "source": [
    "There are only 16 entries out of 6 million where the isFlaggedFraud is set. So, it do not seen to correlete with any exploratory variable.\n",
    "\n",
    "But the isFlaggedFraud is set only whean an attempt is made to 'TRANSFER' an amount grater than 2lakhs.\n",
    "\n",
    "In fact there are many cases in which both theres are satisfying but the Flag is NOT set."
   ]
  },
  {
   "cell_type": "code",
   "execution_count": 28,
   "id": "40428da7",
   "metadata": {},
   "outputs": [
    {
     "data": {
      "text/plain": [
       "count    1.600000e+01\n",
       "mean     4.861598e+06\n",
       "std      3.572499e+06\n",
       "min      3.538742e+05\n",
       "25%      2.242749e+06\n",
       "50%      4.234245e+06\n",
       "75%      7.883451e+06\n",
       "max      1.000000e+07\n",
       "Name: amount, dtype: float64"
      ]
     },
     "execution_count": 28,
     "metadata": {},
     "output_type": "execute_result"
    }
   ],
   "source": [
    "data.loc[data['isFlaggedFraud']==1].amount.describe()"
   ]
  },
  {
   "cell_type": "code",
   "execution_count": 29,
   "id": "185962fd",
   "metadata": {},
   "outputs": [
    {
     "data": {
      "text/plain": [
       "count    6.362604e+06\n",
       "mean     1.798501e+05\n",
       "std      6.037884e+05\n",
       "min      0.000000e+00\n",
       "25%      1.338955e+04\n",
       "50%      7.487127e+04\n",
       "75%      2.087205e+05\n",
       "max      9.244552e+07\n",
       "Name: amount, dtype: float64"
      ]
     },
     "execution_count": 29,
     "metadata": {},
     "output_type": "execute_result"
    }
   ],
   "source": [
    "data.loc[data['isFlaggedFraud']==0].amount.describe()"
   ]
  },
  {
   "cell_type": "markdown",
   "id": "a2bd42c7",
   "metadata": {},
   "source": [
    "In description it is said 'isFlaggedFraud' will be 1 if amount of transaction is more than 200000, but the amount exceeds 200000 even when it is set to 0 as seen in above (where 75 percentile is more than 200000). Also whenever isFlaggedFraud is 1, value of isFraud is also 1. Therefore it doesn't so any correlation with other features and it can be dropped"
   ]
  },
  {
   "cell_type": "markdown",
   "id": "7651ce62",
   "metadata": {},
   "source": [
    "## Data Cleaning and Feature Engineering"
   ]
  },
  {
   "cell_type": "code",
   "execution_count": 30,
   "id": "6f5ea665",
   "metadata": {},
   "outputs": [],
   "source": [
    "data.drop(['nameOrig','nameDest','isFlaggedFraud'],axis=1,inplace=True)"
   ]
  },
  {
   "cell_type": "code",
   "execution_count": 31,
   "id": "77fad94a",
   "metadata": {},
   "outputs": [],
   "source": [
    "df = data.loc[(data.type=='TRANSFER')|(data.type=='CASH_OUT')]"
   ]
  },
  {
   "cell_type": "code",
   "execution_count": 32,
   "id": "084e8e41",
   "metadata": {},
   "outputs": [],
   "source": [
    "train = df.copy()"
   ]
  },
  {
   "cell_type": "code",
   "execution_count": 33,
   "id": "8ce81c46",
   "metadata": {},
   "outputs": [
    {
     "data": {
      "text/html": [
       "<div>\n",
       "<style scoped>\n",
       "    .dataframe tbody tr th:only-of-type {\n",
       "        vertical-align: middle;\n",
       "    }\n",
       "\n",
       "    .dataframe tbody tr th {\n",
       "        vertical-align: top;\n",
       "    }\n",
       "\n",
       "    .dataframe thead th {\n",
       "        text-align: right;\n",
       "    }\n",
       "</style>\n",
       "<table border=\"1\" class=\"dataframe\">\n",
       "  <thead>\n",
       "    <tr style=\"text-align: right;\">\n",
       "      <th></th>\n",
       "      <th>step</th>\n",
       "      <th>type</th>\n",
       "      <th>amount</th>\n",
       "      <th>oldbalanceOrg</th>\n",
       "      <th>newbalanceOrig</th>\n",
       "      <th>oldbalanceDest</th>\n",
       "      <th>newbalanceDest</th>\n",
       "      <th>isFraud</th>\n",
       "    </tr>\n",
       "  </thead>\n",
       "  <tbody>\n",
       "    <tr>\n",
       "      <th>2</th>\n",
       "      <td>1</td>\n",
       "      <td>TRANSFER</td>\n",
       "      <td>181.00</td>\n",
       "      <td>181.0</td>\n",
       "      <td>0.0</td>\n",
       "      <td>0.0</td>\n",
       "      <td>0.00</td>\n",
       "      <td>1</td>\n",
       "    </tr>\n",
       "    <tr>\n",
       "      <th>3</th>\n",
       "      <td>1</td>\n",
       "      <td>CASH_OUT</td>\n",
       "      <td>181.00</td>\n",
       "      <td>181.0</td>\n",
       "      <td>0.0</td>\n",
       "      <td>21182.0</td>\n",
       "      <td>0.00</td>\n",
       "      <td>1</td>\n",
       "    </tr>\n",
       "    <tr>\n",
       "      <th>15</th>\n",
       "      <td>1</td>\n",
       "      <td>CASH_OUT</td>\n",
       "      <td>229133.94</td>\n",
       "      <td>15325.0</td>\n",
       "      <td>0.0</td>\n",
       "      <td>5083.0</td>\n",
       "      <td>51513.44</td>\n",
       "      <td>0</td>\n",
       "    </tr>\n",
       "    <tr>\n",
       "      <th>19</th>\n",
       "      <td>1</td>\n",
       "      <td>TRANSFER</td>\n",
       "      <td>215310.30</td>\n",
       "      <td>705.0</td>\n",
       "      <td>0.0</td>\n",
       "      <td>22425.0</td>\n",
       "      <td>0.00</td>\n",
       "      <td>0</td>\n",
       "    </tr>\n",
       "    <tr>\n",
       "      <th>24</th>\n",
       "      <td>1</td>\n",
       "      <td>TRANSFER</td>\n",
       "      <td>311685.89</td>\n",
       "      <td>10835.0</td>\n",
       "      <td>0.0</td>\n",
       "      <td>6267.0</td>\n",
       "      <td>2719172.89</td>\n",
       "      <td>0</td>\n",
       "    </tr>\n",
       "  </tbody>\n",
       "</table>\n",
       "</div>"
      ],
      "text/plain": [
       "    step      type     amount  oldbalanceOrg  newbalanceOrig  oldbalanceDest  \\\n",
       "2      1  TRANSFER     181.00          181.0             0.0             0.0   \n",
       "3      1  CASH_OUT     181.00          181.0             0.0         21182.0   \n",
       "15     1  CASH_OUT  229133.94        15325.0             0.0          5083.0   \n",
       "19     1  TRANSFER  215310.30          705.0             0.0         22425.0   \n",
       "24     1  TRANSFER  311685.89        10835.0             0.0          6267.0   \n",
       "\n",
       "    newbalanceDest  isFraud  \n",
       "2             0.00        1  \n",
       "3             0.00        1  \n",
       "15        51513.44        0  \n",
       "19            0.00        0  \n",
       "24      2719172.89        0  "
      ]
     },
     "execution_count": 33,
     "metadata": {},
     "output_type": "execute_result"
    }
   ],
   "source": [
    "train.head()"
   ]
  },
  {
   "cell_type": "markdown",
   "id": "b8c65913",
   "metadata": {},
   "source": [
    "As seen earlier, 0 values of oldbalanceOrg,newbalanceOrig,oldbalanceDest,newbalanceDest when amount is not 0 have a good chance of fraudulent transaction, we will create new freatures combining (oldbalanceOrg,newbalanceOrig,amount) and (oldbalanceDest,newbalanceDest,amount)"
   ]
  },
  {
   "cell_type": "code",
   "execution_count": 34,
   "id": "4c9ba839",
   "metadata": {},
   "outputs": [],
   "source": [
    "train['errorOrig'] = train['amount'] + train['newbalanceOrig'] - train['oldbalanceOrg']\n",
    "train['errorDest'] = train['amount'] + train['oldbalanceDest'] - train['newbalanceDest']"
   ]
  },
  {
   "cell_type": "code",
   "execution_count": 35,
   "id": "eeec37aa",
   "metadata": {},
   "outputs": [],
   "source": [
    "from sklearn.preprocessing import LabelEncoder"
   ]
  },
  {
   "cell_type": "code",
   "execution_count": 36,
   "id": "6363b777",
   "metadata": {},
   "outputs": [],
   "source": [
    "train['type'] = LabelEncoder().fit_transform(train['type'])"
   ]
  },
  {
   "cell_type": "code",
   "execution_count": 37,
   "id": "f21d8645",
   "metadata": {},
   "outputs": [
    {
     "data": {
      "text/html": [
       "<div>\n",
       "<style scoped>\n",
       "    .dataframe tbody tr th:only-of-type {\n",
       "        vertical-align: middle;\n",
       "    }\n",
       "\n",
       "    .dataframe tbody tr th {\n",
       "        vertical-align: top;\n",
       "    }\n",
       "\n",
       "    .dataframe thead th {\n",
       "        text-align: right;\n",
       "    }\n",
       "</style>\n",
       "<table border=\"1\" class=\"dataframe\">\n",
       "  <thead>\n",
       "    <tr style=\"text-align: right;\">\n",
       "      <th></th>\n",
       "      <th>step</th>\n",
       "      <th>type</th>\n",
       "      <th>amount</th>\n",
       "      <th>oldbalanceOrg</th>\n",
       "      <th>newbalanceOrig</th>\n",
       "      <th>oldbalanceDest</th>\n",
       "      <th>newbalanceDest</th>\n",
       "      <th>isFraud</th>\n",
       "      <th>errorOrig</th>\n",
       "      <th>errorDest</th>\n",
       "    </tr>\n",
       "  </thead>\n",
       "  <tbody>\n",
       "    <tr>\n",
       "      <th>2</th>\n",
       "      <td>1</td>\n",
       "      <td>1</td>\n",
       "      <td>181.00</td>\n",
       "      <td>181.0</td>\n",
       "      <td>0.0</td>\n",
       "      <td>0.0</td>\n",
       "      <td>0.00</td>\n",
       "      <td>1</td>\n",
       "      <td>0.00</td>\n",
       "      <td>181.0</td>\n",
       "    </tr>\n",
       "    <tr>\n",
       "      <th>3</th>\n",
       "      <td>1</td>\n",
       "      <td>0</td>\n",
       "      <td>181.00</td>\n",
       "      <td>181.0</td>\n",
       "      <td>0.0</td>\n",
       "      <td>21182.0</td>\n",
       "      <td>0.00</td>\n",
       "      <td>1</td>\n",
       "      <td>0.00</td>\n",
       "      <td>21363.0</td>\n",
       "    </tr>\n",
       "    <tr>\n",
       "      <th>15</th>\n",
       "      <td>1</td>\n",
       "      <td>0</td>\n",
       "      <td>229133.94</td>\n",
       "      <td>15325.0</td>\n",
       "      <td>0.0</td>\n",
       "      <td>5083.0</td>\n",
       "      <td>51513.44</td>\n",
       "      <td>0</td>\n",
       "      <td>213808.94</td>\n",
       "      <td>182703.5</td>\n",
       "    </tr>\n",
       "    <tr>\n",
       "      <th>19</th>\n",
       "      <td>1</td>\n",
       "      <td>1</td>\n",
       "      <td>215310.30</td>\n",
       "      <td>705.0</td>\n",
       "      <td>0.0</td>\n",
       "      <td>22425.0</td>\n",
       "      <td>0.00</td>\n",
       "      <td>0</td>\n",
       "      <td>214605.30</td>\n",
       "      <td>237735.3</td>\n",
       "    </tr>\n",
       "    <tr>\n",
       "      <th>24</th>\n",
       "      <td>1</td>\n",
       "      <td>1</td>\n",
       "      <td>311685.89</td>\n",
       "      <td>10835.0</td>\n",
       "      <td>0.0</td>\n",
       "      <td>6267.0</td>\n",
       "      <td>2719172.89</td>\n",
       "      <td>0</td>\n",
       "      <td>300850.89</td>\n",
       "      <td>-2401220.0</td>\n",
       "    </tr>\n",
       "  </tbody>\n",
       "</table>\n",
       "</div>"
      ],
      "text/plain": [
       "    step  type     amount  oldbalanceOrg  newbalanceOrig  oldbalanceDest  \\\n",
       "2      1     1     181.00          181.0             0.0             0.0   \n",
       "3      1     0     181.00          181.0             0.0         21182.0   \n",
       "15     1     0  229133.94        15325.0             0.0          5083.0   \n",
       "19     1     1  215310.30          705.0             0.0         22425.0   \n",
       "24     1     1  311685.89        10835.0             0.0          6267.0   \n",
       "\n",
       "    newbalanceDest  isFraud  errorOrig  errorDest  \n",
       "2             0.00        1       0.00      181.0  \n",
       "3             0.00        1       0.00    21363.0  \n",
       "15        51513.44        0  213808.94   182703.5  \n",
       "19            0.00        0  214605.30   237735.3  \n",
       "24      2719172.89        0  300850.89 -2401220.0  "
      ]
     },
     "execution_count": 37,
     "metadata": {},
     "output_type": "execute_result"
    }
   ],
   "source": [
    "train.head()"
   ]
  },
  {
   "cell_type": "markdown",
   "id": "7fbf46f8",
   "metadata": {},
   "source": [
    "# Describe your fraud detection model in elaboration. "
   ]
  },
  {
   "cell_type": "markdown",
   "id": "19e1daaf",
   "metadata": {},
   "source": [
    "# Modelling\n",
    "From the model evaluation (or confusion matrix), we know that\n",
    "\n",
    "Accuracy = (TP + TN) / Total\n",
    "Presicion = TP / (TP + FP)\n",
    "Recall = TP / (TP + FN)\n",
    "\n",
    "As such, specifically for this problem, we are interested in the recall score to capture the most fraudulent transactions. As we know, due to the imbalance of the data, many observations could be predicted as False Negatives, being, that we predict a normal transaction, but it is in fact a fraudulent one. Recall captures this.\n",
    "\n",
    "Obviously, trying to increase recall, tends to come with a decrease of precision. However, in our case, if we predict that a transaction is fraudulent and turns out not to be, is not a massive problem compared to the opposite.\n",
    "\n",
    "Due to this, many evaluation will be based on recall score."
   ]
  },
  {
   "cell_type": "markdown",
   "id": "4272e3bd",
   "metadata": {},
   "source": [
    " I am using the area under the precision-recall curve (AUPRC) rather than the conventional area under the receiver operating characteristic (AUROC).\n",
    "\n",
    "F1 score is the harmonic mean of the precision and recall. The highest possible value of F1 is 1, indicating perfect precision and recall, and the lowest possible value is 0, if either the precision or the recall is zero.\n",
    "\n",
    "We should do more focus on FP & FN."
   ]
  },
  {
   "cell_type": "markdown",
   "id": "509f9b8f",
   "metadata": {},
   "source": [
    "ML algorithm selection:\n",
    "\n",
    "1.A first approach to deal with imbalanced data is to balance it by discarding the majority class before applying an ML algorithm. The disadvantage of undersampling is that a model trained in this way will not perform well on real-world skewed test data since almost all the information was discarded.\n",
    "\n",
    "2.I find, however, that the best result is obtained on the original dataset by using a ML algorithm based on ensembles of decision trees that intrinsically performs well on imbalanced data. Such algorithms not only allow for constructing a model that can cope with the missing values in our data, but they naturally allow for speedup via parallel-processing."
   ]
  },
  {
   "cell_type": "code",
   "execution_count": 38,
   "id": "377f87d7",
   "metadata": {},
   "outputs": [],
   "source": [
    "from sklearn.model_selection import train_test_split\n",
    "from sklearn.metrics import average_precision_score,accuracy_score,f1_score,classification_report,precision_recall_curve,confusion_matrix\n",
    "from sklearn.ensemble import RandomForestClassifier"
   ]
  },
  {
   "cell_type": "code",
   "execution_count": 39,
   "id": "6d14fc05",
   "metadata": {},
   "outputs": [],
   "source": [
    "y = train['isFraud']\n",
    "train.drop('isFraud',axis=1,inplace=True)"
   ]
  },
  {
   "cell_type": "code",
   "execution_count": 40,
   "id": "6e3d0025",
   "metadata": {},
   "outputs": [],
   "source": [
    "x_train,x_test,y_train,y_test = train_test_split(train,y,test_size=0.2)"
   ]
  },
  {
   "cell_type": "code",
   "execution_count": 41,
   "id": "f0c67aee",
   "metadata": {},
   "outputs": [
    {
     "name": "stdout",
     "output_type": "stream",
     "text": [
      "(2216327, 9)\n",
      "(2216327,)\n",
      "(554082, 9)\n",
      "(554082,)\n"
     ]
    }
   ],
   "source": [
    "print(x_train.shape)\n",
    "print(y_train.shape)\n",
    "print(x_test.shape)\n",
    "print(y_test.shape)"
   ]
  },
  {
   "cell_type": "code",
   "execution_count": 42,
   "id": "51a9f419",
   "metadata": {
    "scrolled": true
   },
   "outputs": [
    {
     "data": {
      "text/html": [
       "<div>\n",
       "<style scoped>\n",
       "    .dataframe tbody tr th:only-of-type {\n",
       "        vertical-align: middle;\n",
       "    }\n",
       "\n",
       "    .dataframe tbody tr th {\n",
       "        vertical-align: top;\n",
       "    }\n",
       "\n",
       "    .dataframe thead th {\n",
       "        text-align: right;\n",
       "    }\n",
       "</style>\n",
       "<table border=\"1\" class=\"dataframe\">\n",
       "  <thead>\n",
       "    <tr style=\"text-align: right;\">\n",
       "      <th></th>\n",
       "      <th>step</th>\n",
       "      <th>type</th>\n",
       "      <th>amount</th>\n",
       "      <th>oldbalanceOrg</th>\n",
       "      <th>newbalanceOrig</th>\n",
       "      <th>oldbalanceDest</th>\n",
       "      <th>newbalanceDest</th>\n",
       "      <th>errorOrig</th>\n",
       "      <th>errorDest</th>\n",
       "    </tr>\n",
       "  </thead>\n",
       "  <tbody>\n",
       "    <tr>\n",
       "      <th>182816</th>\n",
       "      <td>13</td>\n",
       "      <td>0</td>\n",
       "      <td>357354.02</td>\n",
       "      <td>0.0</td>\n",
       "      <td>0.0</td>\n",
       "      <td>814431.59</td>\n",
       "      <td>1925096.14</td>\n",
       "      <td>357354.02</td>\n",
       "      <td>-753310.53</td>\n",
       "    </tr>\n",
       "    <tr>\n",
       "      <th>1713928</th>\n",
       "      <td>160</td>\n",
       "      <td>0</td>\n",
       "      <td>259567.49</td>\n",
       "      <td>80110.0</td>\n",
       "      <td>0.0</td>\n",
       "      <td>0.00</td>\n",
       "      <td>259567.49</td>\n",
       "      <td>179457.49</td>\n",
       "      <td>0.00</td>\n",
       "    </tr>\n",
       "    <tr>\n",
       "      <th>3022884</th>\n",
       "      <td>233</td>\n",
       "      <td>0</td>\n",
       "      <td>276450.03</td>\n",
       "      <td>64953.0</td>\n",
       "      <td>0.0</td>\n",
       "      <td>1298888.57</td>\n",
       "      <td>1575338.60</td>\n",
       "      <td>211497.03</td>\n",
       "      <td>0.00</td>\n",
       "    </tr>\n",
       "    <tr>\n",
       "      <th>123686</th>\n",
       "      <td>11</td>\n",
       "      <td>0</td>\n",
       "      <td>119224.21</td>\n",
       "      <td>57630.0</td>\n",
       "      <td>0.0</td>\n",
       "      <td>20161.95</td>\n",
       "      <td>139386.17</td>\n",
       "      <td>61594.21</td>\n",
       "      <td>-0.01</td>\n",
       "    </tr>\n",
       "    <tr>\n",
       "      <th>5249046</th>\n",
       "      <td>371</td>\n",
       "      <td>0</td>\n",
       "      <td>67572.63</td>\n",
       "      <td>0.0</td>\n",
       "      <td>0.0</td>\n",
       "      <td>1183560.33</td>\n",
       "      <td>1601672.13</td>\n",
       "      <td>67572.63</td>\n",
       "      <td>-350539.17</td>\n",
       "    </tr>\n",
       "  </tbody>\n",
       "</table>\n",
       "</div>"
      ],
      "text/plain": [
       "         step  type     amount  oldbalanceOrg  newbalanceOrig  oldbalanceDest  \\\n",
       "182816     13     0  357354.02            0.0             0.0       814431.59   \n",
       "1713928   160     0  259567.49        80110.0             0.0            0.00   \n",
       "3022884   233     0  276450.03        64953.0             0.0      1298888.57   \n",
       "123686     11     0  119224.21        57630.0             0.0        20161.95   \n",
       "5249046   371     0   67572.63            0.0             0.0      1183560.33   \n",
       "\n",
       "         newbalanceDest  errorOrig  errorDest  \n",
       "182816       1925096.14  357354.02 -753310.53  \n",
       "1713928       259567.49  179457.49       0.00  \n",
       "3022884      1575338.60  211497.03       0.00  \n",
       "123686        139386.17   61594.21      -0.01  \n",
       "5249046      1601672.13   67572.63 -350539.17  "
      ]
     },
     "execution_count": 42,
     "metadata": {},
     "output_type": "execute_result"
    }
   ],
   "source": [
    "x_train.head()"
   ]
  },
  {
   "cell_type": "code",
   "execution_count": 43,
   "id": "3234392f",
   "metadata": {},
   "outputs": [],
   "source": [
    "random_forest = RandomForestClassifier()"
   ]
  },
  {
   "cell_type": "code",
   "execution_count": 44,
   "id": "5de61769",
   "metadata": {},
   "outputs": [
    {
     "data": {
      "text/plain": [
       "RandomForestClassifier()"
      ]
     },
     "execution_count": 44,
     "metadata": {},
     "output_type": "execute_result"
    }
   ],
   "source": [
    "random_forest.fit(x_train,y_train)"
   ]
  },
  {
   "cell_type": "code",
   "execution_count": 45,
   "id": "136cac86",
   "metadata": {},
   "outputs": [],
   "source": [
    "y_pred = random_forest.predict(x_train)"
   ]
  },
  {
   "cell_type": "code",
   "execution_count": 46,
   "id": "eb834873",
   "metadata": {},
   "outputs": [],
   "source": [
    "def model_result(clf,x_test,y_test):\n",
    "    y_prob=clf.predict_proba(x_test)\n",
    "    y_pred=clf.predict(x_test)\n",
    "    print('AUPRC :', (average_precision_score(y_test, y_prob[:, 1])))\n",
    "    print('F1 - score :',(f1_score(y_test,y_pred)))\n",
    "    print('Confusion_matrix : ')\n",
    "    print(confusion_matrix(y_test,y_pred))\n",
    "    print(\"accuracy_score\")\n",
    "    print(accuracy_score(y_test,y_pred))\n",
    "    print(\"classification_report\")\n",
    "    print(classification_report(y_test,y_pred))"
   ]
  },
  {
   "cell_type": "code",
   "execution_count": 47,
   "id": "59d3f1b9",
   "metadata": {},
   "outputs": [
    {
     "name": "stdout",
     "output_type": "stream",
     "text": [
      "AUPRC : 1.0\n",
      "F1 - score : 1.0\n",
      "Confusion_matrix : \n",
      "[[2209774       0]\n",
      " [      0    6553]]\n",
      "accuracy_score\n",
      "1.0\n",
      "classification_report\n",
      "              precision    recall  f1-score   support\n",
      "\n",
      "           0       1.00      1.00      1.00   2209774\n",
      "           1       1.00      1.00      1.00      6553\n",
      "\n",
      "    accuracy                           1.00   2216327\n",
      "   macro avg       1.00      1.00      1.00   2216327\n",
      "weighted avg       1.00      1.00      1.00   2216327\n",
      "\n"
     ]
    }
   ],
   "source": [
    "model_result(random_forest,x_train,y_train)"
   ]
  },
  {
   "cell_type": "code",
   "execution_count": 48,
   "id": "f4762417",
   "metadata": {},
   "outputs": [
    {
     "name": "stdout",
     "output_type": "stream",
     "text": [
      "AUPRC : 0.99639309735275\n",
      "F1 - score : 0.9975859987929995\n",
      "Confusion_matrix : \n",
      "[[552421      1]\n",
      " [     7   1653]]\n",
      "accuracy_score\n",
      "0.9999855617038633\n",
      "classification_report\n",
      "              precision    recall  f1-score   support\n",
      "\n",
      "           0       1.00      1.00      1.00    552422\n",
      "           1       1.00      1.00      1.00      1660\n",
      "\n",
      "    accuracy                           1.00    554082\n",
      "   macro avg       1.00      1.00      1.00    554082\n",
      "weighted avg       1.00      1.00      1.00    554082\n",
      "\n"
     ]
    }
   ],
   "source": [
    "model_result(random_forest,x_test,y_test)"
   ]
  },
  {
   "cell_type": "markdown",
   "id": "5ac6f8c3",
   "metadata": {},
   "source": [
    "Our default model performs good enough with recall score of 1.00 on both test and train data. By zooming in, only 5 prediction are False Negatives."
   ]
  },
  {
   "cell_type": "code",
   "execution_count": 55,
   "id": "f52b0391",
   "metadata": {},
   "outputs": [],
   "source": [
    "importances = pd.DataFrame({'feature':x_train.columns,'importance':np.round(random_forest.feature_importances_,3)})\n"
   ]
  },
  {
   "cell_type": "code",
   "execution_count": 56,
   "id": "3ea73746",
   "metadata": {},
   "outputs": [
    {
     "data": {
      "image/png": "[encoded data removed]",
      "text/plain": [
       "<Figure size 1800x720 with 1 Axes>"
      ]
     },
     "metadata": {},
     "output_type": "display_data"
    }
   ],
   "source": [
    "import seaborn as sns\n",
    "import matplotlib.pyplot as plt\n",
    "\n",
    "sns.barplot(x = 'feature',\n",
    "            y = 'importance',\n",
    "            data = importances)\n",
    "sns.set(rc={'figure.figsize':(25,10)})\n",
    "# Show the plot\n",
    "plt.show()"
   ]
  },
  {
   "cell_type": "code",
   "execution_count": 57,
   "id": "fdd535dc",
   "metadata": {},
   "outputs": [
    {
     "data": {
      "text/html": [
       "<div>\n",
       "<style scoped>\n",
       "    .dataframe tbody tr th:only-of-type {\n",
       "        vertical-align: middle;\n",
       "    }\n",
       "\n",
       "    .dataframe tbody tr th {\n",
       "        vertical-align: top;\n",
       "    }\n",
       "\n",
       "    .dataframe thead th {\n",
       "        text-align: right;\n",
       "    }\n",
       "</style>\n",
       "<table border=\"1\" class=\"dataframe\">\n",
       "  <thead>\n",
       "    <tr style=\"text-align: right;\">\n",
       "      <th></th>\n",
       "      <th>importance</th>\n",
       "    </tr>\n",
       "    <tr>\n",
       "      <th>feature</th>\n",
       "      <th></th>\n",
       "    </tr>\n",
       "  </thead>\n",
       "  <tbody>\n",
       "    <tr>\n",
       "      <th>newbalanceOrig</th>\n",
       "      <td>0.406</td>\n",
       "    </tr>\n",
       "    <tr>\n",
       "      <th>oldbalanceOrg</th>\n",
       "      <td>0.113</td>\n",
       "    </tr>\n",
       "    <tr>\n",
       "      <th>newbalanceDest</th>\n",
       "      <td>0.094</td>\n",
       "    </tr>\n",
       "    <tr>\n",
       "      <th>type</th>\n",
       "      <td>0.089</td>\n",
       "    </tr>\n",
       "    <tr>\n",
       "      <th>errorOrig</th>\n",
       "      <td>0.076</td>\n",
       "    </tr>\n",
       "    <tr>\n",
       "      <th>amount</th>\n",
       "      <td>0.068</td>\n",
       "    </tr>\n",
       "    <tr>\n",
       "      <th>oldbalanceDest</th>\n",
       "      <td>0.060</td>\n",
       "    </tr>\n",
       "    <tr>\n",
       "      <th>step</th>\n",
       "      <td>0.054</td>\n",
       "    </tr>\n",
       "    <tr>\n",
       "      <th>errorDest</th>\n",
       "      <td>0.041</td>\n",
       "    </tr>\n",
       "  </tbody>\n",
       "</table>\n",
       "</div>"
      ],
      "text/plain": [
       "                importance\n",
       "feature                   \n",
       "newbalanceOrig       0.406\n",
       "oldbalanceOrg        0.113\n",
       "newbalanceDest       0.094\n",
       "type                 0.089\n",
       "errorOrig            0.076\n",
       "amount               0.068\n",
       "oldbalanceDest       0.060\n",
       "step                 0.054\n",
       "errorDest            0.041"
      ]
     },
     "execution_count": 57,
     "metadata": {},
     "output_type": "execute_result"
    }
   ],
   "source": [
    "importances = importances.sort_values('importance',ascending=False).set_index('feature')\n",
    "importances"
   ]
  },
  {
   "cell_type": "markdown",
   "id": "2dcfb6f0",
   "metadata": {},
   "source": [
    "According to our model newbalanceOrig, oldbalanceOrg are two of the most important features maybe because all fraudulent transactions involve wiping out complete amount which would make newbalanceOrig 0. To my surprise step is second least important feature, I thought it would be more important.\n",
    "\n",
    "conclusion\n",
    "We explored the whole data using visualization techniques, added new features , removed unwanted features etc.\n",
    "\n",
    "We also used random forest classifier because of skewness of the data, it is also robust to outliers.\n",
    "\n",
    "In future developments, the should be taking care of 'TRANSFER' and 'CASH-OUT' type of transactions as every fraud transaction is falls under these categories. The company sholud review the accounts whose balance becomes 0 after the transactions"
   ]
  },
  {
   "cell_type": "code",
   "execution_count": 58,
   "id": "80f16c21",
   "metadata": {},
   "outputs": [
    {
     "name": "stdout",
     "output_type": "stream",
     "text": [
      "23.59564164082209 min\n"
     ]
    }
   ],
   "source": [
    "end = time.time()\n",
    "\n",
    "print((end - start)/60 , \"min\")"
   ]
  },
  {
   "cell_type": "code",
   "execution_count": 59,
   "id": "6b056eda",
   "metadata": {},
   "outputs": [],
   "source": [
    "importances.to_csv(\"features_importance.csv\")"
   ]
  },
  {
   "cell_type": "code",
   "execution_count": 60,
   "id": "27ebcf23",
   "metadata": {},
   "outputs": [],
   "source": [
    "data.to_csv(\"fraud_new.csv\")"
   ]
  },
  {
   "cell_type": "markdown",
   "id": "dfb5423b",
   "metadata": {},
   "source": [
    "## What kind of prevention should be adopted while company update its infrastructure?"
   ]
  },
  {
   "cell_type": "markdown",
   "id": "b21173f3",
   "metadata": {},
   "source": [
    "if the company working with external vendors that provide fraud and risk signals?\n",
    "1. Make sure that you are not only using the signals at the time of the decision but also storing the signals for future reference.\n",
    "\n",
    "2. All stored data should be easily mapped back to the original customer, account, and event so that there is no confusion later as to what each attribute represents.\n",
    "\n",
    "3. As seen above whenever fraud is detected balance becomes zero, so whenever some tries to take all money out apply a certain factor authentication, if the amount exceeds 2 lakhs as a set limit for fraud\n",
    "\n",
    "Built a system to identify Fraudsters so the company can respond as fast as possible. catching the fraudster will not only help in the long run but also provide the company with the experience to deal with this.\n",
    "\n",
    "Investment in Research and Development for fraud detection techniques will not help the company to be safe but make the company be prepared for any breach or fraud.\n",
    "\n",
    "There are many ai/ml based fraud detection companies, collaboration with them will help the company while the company upgrade its infrastructure\n",
    "\n",
    "moreover monitoring the employees can also help since they are the ones that know most about the company and they are the ones that know most of the loopholes"
   ]
  },
  {
   "cell_type": "markdown",
   "id": "8e6aa12d",
   "metadata": {},
   "source": [
    "## Assuming these actions have been implemented, how would you determine if they work?"
   ]
  },
  {
   "cell_type": "markdown",
   "id": "493b230c",
   "metadata": {},
   "source": [
    "We will be collecting data whenever the balance becomes zero by contacting customers if the transaction was fraud or not? The analysis of that data can tell if the precautions work or not.\n",
    "\n",
    "As for to identify fraudsters if the techniques that are used to do fraud are being used again and again we might need to change the system or process of R&D.\n",
    "\n",
    "checking the signals for fraud detection and analysing it can tell the if change in signals is needed or we need more of that"
   ]
  }
 ],
 "metadata": {
  "kernelspec": {
   "display_name": "Python 3",
   "language": "python",
   "name": "python3"
  },
  "language_info": {
   "codemirror_mode": {
    "name": "ipython",
    "version": 3
   },
   "file_extension": ".py",
   "mimetype": "text/x-python",
   "name": "python",
   "nbconvert_exporter": "python",
   "pygments_lexer": "ipython3",
   "version": "3.8.8"
  }
 },
 "nbformat": 4,
 "nbformat_minor": 5
}
